{
 "cells": [
  {
   "cell_type": "markdown",
   "id": "a52ede22",
   "metadata": {},
   "source": [
    "# <center>Projeto Big Data</center> \n",
    "&nbsp;\n",
    "#### **<center>Otimização da frota de ônibus turísticos</center>**\n",
    "<br />\n",
    "<br />\n",
    "<br />\n",
    "<br />\n",
    "<center>Daniel Castro</center>\n",
    "&nbsp;\n",
    "<center>Theo Barbara</center>\n",
    "<br />\n",
    "<br />\n",
    "<center>São Paulo | Nov 2022</center>\n",
    "<br />"
   ]
  },
  {
   "cell_type": "markdown",
   "id": "eeb16e09",
   "metadata": {},
   "source": [
    "### Introdução \n",
    "<br />\n",
    "<br />\n",
    "    Este projeto tem como intuito a análise das rotas mais procuradas ao longo do ano a fim de possibilitar a alocação mais eficaz e lucrativa das frotas de ônibus. Ao ter conhecimento das rotas mais buscadas pelos passageiros é possível transferir ônibus que levariam bem menos passageiros para estas rotas com maior demanda, possibilitando uma maior captura de passageiros e consequentemente um lucro maior. Foram utilizadas para este estudo as bases de dados da Agência Nacional de Transportes Terrestres (ANTT), o link para o acesso às bases segue abaixo: \n",
    "<br />\n",
    "<br />\n",
    "\n",
    "[Base de dados ANTT](https://dados.antt.gov.br/dataset/monitriip-bilhetes-de-passagem)\n",
    "\n",
    "<br />\n",
    "<br />"
   ]
  },
  {
   "cell_type": "markdown",
   "id": "20ea48a1",
   "metadata": {},
   "source": [
    "### Organização dos dados\n",
    "<br />\n",
    "<br />\n",
    "    Ao entrar no site da ANTT você vai perceber que os dados estão separados por mês, portanto para ter um volume de dados adequado para a análise foi preciso baixar alguns meses. Estes arquivos CSV de cada mês foram alocados em uma pasta e compactados para diminuir ligeiramente o tamanho do arquivo de trabalho.\n",
    "<br />\n",
    "<br />\n",
    "    Para trabalhar com este arquivo ZIP com todos os meses a biblioteca ZipFile foi utilizada. O procedimento de análise dos dados foi basicamente abrir o arquivo ZIP, percorrer todos os arquivos que o compõem e logo após uní-los em um arquivo só.\n",
    "<br />\n",
    "<br />"
   ]
  },
  {
   "cell_type": "code",
   "execution_count": 1,
   "id": "4ec6840d",
   "metadata": {},
   "outputs": [
    {
     "name": "stdout",
     "output_type": "stream",
     "text": [
      "File Name                                             Modified             Size\n",
      "venda_passagem_01_2022.csv                     2022-10-22 16:20:22     17167260\n",
      "venda_passagem_02_2022.csv                     2022-10-22 16:19:24     16620848\n",
      "venda_passagem_03_2022.csv                     2022-10-22 16:18:58     17019407\n",
      "venda_passagem_04_2022.csv                     2022-10-22 16:18:12      8500532\n",
      "venda_passagem_05_2022.csv                     2022-10-22 16:17:38     16775582\n",
      "venda_passagem_06_2022.csv                     2022-10-22 16:15:48     16292509\n",
      "venda_passagem_07_2022.csv                     2022-10-22 16:00:36     19957908\n",
      "venda_passagem_09_2021.csv                     2022-10-22 16:22:58     15840935\n",
      "venda_passagem_09_2022.csv                     2022-10-22 15:54:58     17361183\n",
      "venda_passagem_10_2021.csv                     2022-10-22 16:22:22     16216048\n",
      "venda_passagem_11_2021.csv                     2022-10-22 16:21:48     16376100\n",
      "venda_passagem_12_2021.csv                     2022-10-22 16:21:10     19642786\n"
     ]
    }
   ],
   "source": [
    "from zipfile import ZipFile\n",
    "import pandas as pd\n",
    "import os\n",
    "  \n",
    "# Definindo o nome do arquivo de análise e seu caminho.\n",
    "file_name = \"Bilhetes.zip\"\n",
    "path = \"C:/Users/danie/Desktop/Estudo/Eletivas/Big Data para dados públicos/Projeto-Big-Data/\"\n",
    "    \n",
    "# Abrindo a arquivo zip com as informações de todos os meses\n",
    "with ZipFile(os.path.join(path+file_name), 'r') as zip:\n",
    "    # Printando o nome de todos os arquivo dentro do zip\n",
    "    zip.printdir()  \n",
    "    # Extraindo os arquivos para o diretório de trabalho\n",
    "    zip.extractall()"
   ]
  },
  {
   "cell_type": "code",
   "execution_count": 2,
   "id": "54100ff6",
   "metadata": {},
   "outputs": [
    {
     "name": "stdout",
     "output_type": "stream",
     "text": [
      "Construindo o arquivo...\n",
      "'132157' linhas.\n",
      "'260331' linhas.\n",
      "'391086' linhas.\n",
      "'457984' linhas.\n",
      "'586954' linhas.\n",
      "'713771' linhas.\n",
      "'867262' linhas.\n",
      "'988633' linhas.\n",
      "'1124196' linhas.\n",
      "'1248443' linhas.\n",
      "'1374418' linhas.\n",
      "'1527032' linhas.\n",
      "Finalizado, o arquivo possui '1527032' linhas!'\n"
     ]
    }
   ],
   "source": [
    "# Criando o Data Frame de análise em branco e depois fazendo a inserção das informações de todos\n",
    "# os meses\n",
    "print('Construindo o arquivo...')\n",
    "bilhetes = pd.DataFrame()\n",
    "for file in zip.namelist():\n",
    "    bilheteMes = pd.read_csv(file, sep=\";\", encoding=\"latin-1\")\n",
    "    try:\n",
    "        bilhetes = pd.concat([bilhetes, bilheteMes], ignore_index=True)\n",
    "        # Mostrando a evolução do tamanho da tabela \n",
    "        print(f\"'{len(bilhetes)}' linhas.\") \n",
    "    except Exception as error:\n",
    "        print(error)\n",
    "print(f\"Finalizado, o arquivo possui '{len(bilhetes)}' linhas!'\")"
   ]
  },
  {
   "cell_type": "code",
   "execution_count": 5,
   "id": "c8ae96bc",
   "metadata": {},
   "outputs": [
    {
     "name": "stdout",
     "output_type": "stream",
     "text": [
      "O arquivo contém '0' linhas com NaN!\n"
     ]
    }
   ],
   "source": [
    "# Limpando linhas com valores NaN\n",
    "if len(bilhetes[bilhetes.isna().any(axis=1)]) != 0:\n",
    "    print(f\"O arquivo contém '{len(bilhetes[bilhetes.isna().any(axis=1)])}' linhas com NaN que\"+\n",
    "          \"devem ser apagadas\")\n",
    "    print(\"Removendo linhas NaN...\")\n",
    "    bilhetes.dropna(inplace=True)\n",
    "print(f\"O arquivo contém '{len(bilhetes[bilhetes.isna().any(axis=1)])}' linhas com NaN!\")"
   ]
  },
  {
   "cell_type": "code",
   "execution_count": 6,
   "id": "c034e78d",
   "metadata": {},
   "outputs": [
    {
     "data": {
      "text/html": [
       "<div>\n",
       "<style scoped>\n",
       "    .dataframe tbody tr th:only-of-type {\n",
       "        vertical-align: middle;\n",
       "    }\n",
       "\n",
       "    .dataframe tbody tr th {\n",
       "        vertical-align: top;\n",
       "    }\n",
       "\n",
       "    .dataframe thead th {\n",
       "        text-align: right;\n",
       "    }\n",
       "</style>\n",
       "<table border=\"1\" class=\"dataframe\">\n",
       "  <thead>\n",
       "    <tr style=\"text-align: right;\">\n",
       "      <th></th>\n",
       "      <th>mes_emissao_bilhete</th>\n",
       "      <th>mes_viagem</th>\n",
       "      <th>ponto_origem_viagem</th>\n",
       "      <th>ponto_destino_viagem</th>\n",
       "      <th>tipo_servico</th>\n",
       "      <th>tipo_gratuidade</th>\n",
       "      <th>media_valor_total</th>\n",
       "      <th>dp_valor_total</th>\n",
       "      <th>quantidade_bilhetes</th>\n",
       "    </tr>\n",
       "  </thead>\n",
       "  <tbody>\n",
       "    <tr>\n",
       "      <th>608032</th>\n",
       "      <td>06/2022</td>\n",
       "      <td>07/2022</td>\n",
       "      <td>GOIANIA/GO</td>\n",
       "      <td>SEABRA/BA</td>\n",
       "      <td>Executivo</td>\n",
       "      <td>Tarifa Promocional - Parágrafo 3º, art. 27 do ...</td>\n",
       "      <td>279.85</td>\n",
       "      <td>10.88</td>\n",
       "      <td>18</td>\n",
       "    </tr>\n",
       "    <tr>\n",
       "      <th>710204</th>\n",
       "      <td>06/2022</td>\n",
       "      <td>07/2022</td>\n",
       "      <td>GOIANIA/GO</td>\n",
       "      <td>BRASILIA/DF</td>\n",
       "      <td>Leito com ar condicionado</td>\n",
       "      <td>Tarifa Normal - sem desconto</td>\n",
       "      <td>48.79</td>\n",
       "      <td>20.20</td>\n",
       "      <td>5</td>\n",
       "    </tr>\n",
       "    <tr>\n",
       "      <th>1000445</th>\n",
       "      <td>set/22</td>\n",
       "      <td>out/22</td>\n",
       "      <td>AMERICANA/SP</td>\n",
       "      <td>CURITIBA/PR</td>\n",
       "      <td>Semileito</td>\n",
       "      <td>Tarifa Normal - sem desconto</td>\n",
       "      <td>162.15</td>\n",
       "      <td>37.27</td>\n",
       "      <td>16</td>\n",
       "    </tr>\n",
       "    <tr>\n",
       "      <th>1245920</th>\n",
       "      <td>10/2021</td>\n",
       "      <td>10/2021</td>\n",
       "      <td>JATAI/GO</td>\n",
       "      <td>ILHA SOLTEIRA/SP</td>\n",
       "      <td>Executivo</td>\n",
       "      <td>Tarifa Promocional - Parágrafo 3º, art. 27 do ...</td>\n",
       "      <td>114.01</td>\n",
       "      <td>36.14</td>\n",
       "      <td>11</td>\n",
       "    </tr>\n",
       "    <tr>\n",
       "      <th>1065596</th>\n",
       "      <td>set/22</td>\n",
       "      <td>set/22</td>\n",
       "      <td>VALPARAISO DE GOIAS/GO</td>\n",
       "      <td>JUIZ DE FORA/MG</td>\n",
       "      <td>Leito com ar condicionado</td>\n",
       "      <td>Tarifa Promocional - Parágrafo 3º, art. 27 do ...</td>\n",
       "      <td>423.00</td>\n",
       "      <td>0.00</td>\n",
       "      <td>2</td>\n",
       "    </tr>\n",
       "  </tbody>\n",
       "</table>\n",
       "</div>"
      ],
      "text/plain": [
       "        mes_emissao_bilhete mes_viagem     ponto_origem_viagem  \\\n",
       "608032              06/2022    07/2022              GOIANIA/GO   \n",
       "710204              06/2022    07/2022              GOIANIA/GO   \n",
       "1000445              set/22     out/22            AMERICANA/SP   \n",
       "1245920             10/2021    10/2021                JATAI/GO   \n",
       "1065596              set/22     set/22  VALPARAISO DE GOIAS/GO   \n",
       "\n",
       "        ponto_destino_viagem               tipo_servico  \\\n",
       "608032             SEABRA/BA                  Executivo   \n",
       "710204           BRASILIA/DF  Leito com ar condicionado   \n",
       "1000445          CURITIBA/PR                  Semileito   \n",
       "1245920     ILHA SOLTEIRA/SP                  Executivo   \n",
       "1065596      JUIZ DE FORA/MG  Leito com ar condicionado   \n",
       "\n",
       "                                           tipo_gratuidade  media_valor_total  \\\n",
       "608032   Tarifa Promocional - Parágrafo 3º, art. 27 do ...             279.85   \n",
       "710204                        Tarifa Normal - sem desconto              48.79   \n",
       "1000445                       Tarifa Normal - sem desconto             162.15   \n",
       "1245920  Tarifa Promocional - Parágrafo 3º, art. 27 do ...             114.01   \n",
       "1065596  Tarifa Promocional - Parágrafo 3º, art. 27 do ...             423.00   \n",
       "\n",
       "         dp_valor_total  quantidade_bilhetes  \n",
       "608032            10.88                   18  \n",
       "710204            20.20                    5  \n",
       "1000445           37.27                   16  \n",
       "1245920           36.14                   11  \n",
       "1065596            0.00                    2  "
      ]
     },
     "execution_count": 6,
     "metadata": {},
     "output_type": "execute_result"
    }
   ],
   "source": [
    "bilhetes.sample(5)"
   ]
  },
  {
   "cell_type": "markdown",
   "id": "4813379b",
   "metadata": {},
   "source": [
    "Perceba que nas colunas \"_mes_emissao_bilhete_\" e \"_mes_viagem_\" a informação da data pode ser apresentada em dois formatos diferentes: totalmente numérico, ou seja, **09/2022**, ou então utilizando a sigla do mês e uma abreviação do ano, ou seja, **set/22**. \n",
    "\n",
    "<br />\n",
    "É preciso unificar a apresentação das informações para que a análise não seja atrapalhada por esta divergência de formato. O formato escolhido foi o númerico, logo abaixo será feita a conversão das informações das colunas.\n",
    "\n",
    "<br />\n",
    "<br />\n",
    "\n",
    "**É imprescindível que as informações de data contenham apenas mês e ano.**"
   ]
  },
  {
   "cell_type": "code",
   "execution_count": 7,
   "id": "e0bf2c60",
   "metadata": {},
   "outputs": [],
   "source": [
    "def conversorData(data:str):\n",
    "    \"\"\"\n",
    "    Converte as datas que estão em um foramto diferente do esperado.\n",
    "    :param data: data a ser convertida\n",
    "    return: \n",
    "    - Caso data seja passível de conversão, retorna a data convertida no formato MM/AAAA.\n",
    "    \n",
    "    - Caso contrário, retorna \"Informação inválida\" \n",
    "    \"\"\"        \n",
    "    \n",
    "    mes, ano = data.split('/')\n",
    "    try:\n",
    "        int(mes)\n",
    "    except Exception as error:\n",
    "        if type(error) is ValueError: # Significa que existe alguma letra\n",
    "            mes = mes.lower()\n",
    "            # Faz a respetiva atribuição numérica da sigla do mês da data\n",
    "            if mes == 'jan':\n",
    "                mes = '01'\n",
    "            elif mes == 'fev':\n",
    "                mes = '02'\n",
    "            elif mes == 'mar':\n",
    "                mes = '03'\n",
    "            elif mes == 'abr':\n",
    "                mes = '04'\n",
    "            elif mes == 'mai':\n",
    "                mes = '05'\n",
    "            elif mes == 'jun':\n",
    "                mes = '06'\n",
    "            elif mes == 'jul':\n",
    "                mes = '07'\n",
    "            elif mes == 'ago':\n",
    "                mes = '08'\n",
    "            elif mes == 'set':\n",
    "                mes = '09'\n",
    "            elif mes == 'out':\n",
    "                mes = '10'\n",
    "            elif mes == 'nov':\n",
    "                mes = '11'\n",
    "            elif mes == 'dez':\n",
    "                mes = '12'\n",
    "            else:\n",
    "                return 'Informação inválida' \n",
    "    else:\n",
    "        if int(mes) not in range(1,13): # o mês não é válida\n",
    "            return 'Informação inválida' \n",
    "    finally:\n",
    "        if len(ano) == 2: # A data está no formato MM/AA e deve ser convertida para MM/AAAA\n",
    "            if int(ano) in range(0,25):\n",
    "                ano = '20'+ano\n",
    "            else:\n",
    "                ano = '19'+ano\n",
    "        return mes+'/'+ano"
   ]
  },
  {
   "cell_type": "code",
   "execution_count": 8,
   "id": "0a40dacd",
   "metadata": {},
   "outputs": [
    {
     "name": "stdout",
     "output_type": "stream",
     "text": [
      "Formato original da data: 'set/22'\n",
      "Convertendo...\n",
      "Formato da data após a conversão: '09/2022'\n"
     ]
    }
   ],
   "source": [
    "# Conversão das colunas de data\n",
    "# A linha abaixo possui o formato errado de data.\n",
    "print(f\"Formato original da data: '{bilhetes.loc[1019501, 'mes_viagem']}'\")\n",
    "print('Convertendo...')\n",
    "bilhetes['mes_viagem'] = bilhetes['mes_viagem'].apply(lambda x: conversorData(x))\n",
    "bilhetes['mes_emissao_bilhete'] = bilhetes['mes_emissao_bilhete'].apply(lambda x: conversorData(x))\n",
    "print(f\"Formato da data após a conversão: '{bilhetes.loc[1019501, 'mes_viagem']}'\")"
   ]
  },
  {
   "cell_type": "markdown",
   "id": "eba9547f",
   "metadata": {},
   "source": [
    "### Análise preliminar\n",
    "<br />\n",
    "Para começar é interessante observar graficamente para um mês qualquer, qual a rota que possui a maior quantidade de bilhetes e consequentemente a maior quantidade de passageiros. \n",
    "\n",
    "Vou utilizar o mês do meu aniversário só por coincidência."
   ]
  },
  {
   "cell_type": "code",
   "execution_count": 65,
   "id": "d816525d",
   "metadata": {
    "scrolled": false
   },
   "outputs": [
    {
     "data": {
      "application/vnd.plotly.v1+json": {
       "config": {
        "plotlyServerURL": "https://plot.ly"
       },
       "data": [
        {
         "alignmentgroup": "True",
         "hovertemplate": "Cidade de partida da viagem=%{x}<br>N° bilhetes emitidos=%{y}<extra></extra>",
         "legendgroup": "",
         "marker": {
          "color": "#636efa",
          "pattern": {
           "shape": ""
          }
         },
         "name": "",
         "offsetgroup": "",
         "orientation": "v",
         "showlegend": false,
         "textposition": "auto",
         "type": "bar",
         "x": [
          "SAO PAULO/SP",
          "RIO DE JANEIRO/RJ",
          "BRASILIA/DF",
          "GOIANIA/GO",
          "CURITIBA/PR",
          "BELO HORIZONTE/MG",
          "CAMPINAS/SP",
          "CAMPO GRANDE/MS",
          "FORTALEZA/CE",
          "CASCAVEL/PR",
          "MARINGA/PR",
          "VITORIA/ES",
          "LONDRINA/PR",
          "FLORIANOPOLIS/SC",
          "CUIABA/MT",
          "TERESINA/PI",
          "UBERLANDIA/MG",
          "PORTO ALEGRE/RS",
          "SAO JOSE DO RIO PRETO/SP",
          "JOINVILLE/SC",
          "SALVADOR/BA",
          "BALNEARIO CAMBORIU/SC",
          "RIBEIRAO PRETO/SP",
          "PRESIDENTE PRUDENTE/SP",
          "ITAJAI/SC",
          "RECIFE/PE",
          "FOZ DO IGUACU/PR",
          "ANAPOLIS/GO"
         ],
         "xaxis": "x",
         "y": [
          4470,
          2169,
          1968,
          1931,
          1369,
          1254,
          1236,
          947,
          887,
          872,
          838,
          813,
          811,
          809,
          793,
          677,
          677,
          654,
          622,
          606,
          601,
          595,
          586,
          546,
          528,
          524,
          514,
          507
         ],
         "yaxis": "y"
        }
       ],
       "layout": {
        "barmode": "relative",
        "legend": {
         "tracegroupgap": 0
        },
        "template": {
         "data": {
          "bar": [
           {
            "error_x": {
             "color": "#2a3f5f"
            },
            "error_y": {
             "color": "#2a3f5f"
            },
            "marker": {
             "line": {
              "color": "white",
              "width": 0.5
             },
             "pattern": {
              "fillmode": "overlay",
              "size": 10,
              "solidity": 0.2
             }
            },
            "type": "bar"
           }
          ],
          "barpolar": [
           {
            "marker": {
             "line": {
              "color": "white",
              "width": 0.5
             },
             "pattern": {
              "fillmode": "overlay",
              "size": 10,
              "solidity": 0.2
             }
            },
            "type": "barpolar"
           }
          ],
          "carpet": [
           {
            "aaxis": {
             "endlinecolor": "#2a3f5f",
             "gridcolor": "#C8D4E3",
             "linecolor": "#C8D4E3",
             "minorgridcolor": "#C8D4E3",
             "startlinecolor": "#2a3f5f"
            },
            "baxis": {
             "endlinecolor": "#2a3f5f",
             "gridcolor": "#C8D4E3",
             "linecolor": "#C8D4E3",
             "minorgridcolor": "#C8D4E3",
             "startlinecolor": "#2a3f5f"
            },
            "type": "carpet"
           }
          ],
          "choropleth": [
           {
            "colorbar": {
             "outlinewidth": 0,
             "ticks": ""
            },
            "type": "choropleth"
           }
          ],
          "contour": [
           {
            "colorbar": {
             "outlinewidth": 0,
             "ticks": ""
            },
            "colorscale": [
             [
              0,
              "#0d0887"
             ],
             [
              0.1111111111111111,
              "#46039f"
             ],
             [
              0.2222222222222222,
              "#7201a8"
             ],
             [
              0.3333333333333333,
              "#9c179e"
             ],
             [
              0.4444444444444444,
              "#bd3786"
             ],
             [
              0.5555555555555556,
              "#d8576b"
             ],
             [
              0.6666666666666666,
              "#ed7953"
             ],
             [
              0.7777777777777778,
              "#fb9f3a"
             ],
             [
              0.8888888888888888,
              "#fdca26"
             ],
             [
              1,
              "#f0f921"
             ]
            ],
            "type": "contour"
           }
          ],
          "contourcarpet": [
           {
            "colorbar": {
             "outlinewidth": 0,
             "ticks": ""
            },
            "type": "contourcarpet"
           }
          ],
          "heatmap": [
           {
            "colorbar": {
             "outlinewidth": 0,
             "ticks": ""
            },
            "colorscale": [
             [
              0,
              "#0d0887"
             ],
             [
              0.1111111111111111,
              "#46039f"
             ],
             [
              0.2222222222222222,
              "#7201a8"
             ],
             [
              0.3333333333333333,
              "#9c179e"
             ],
             [
              0.4444444444444444,
              "#bd3786"
             ],
             [
              0.5555555555555556,
              "#d8576b"
             ],
             [
              0.6666666666666666,
              "#ed7953"
             ],
             [
              0.7777777777777778,
              "#fb9f3a"
             ],
             [
              0.8888888888888888,
              "#fdca26"
             ],
             [
              1,
              "#f0f921"
             ]
            ],
            "type": "heatmap"
           }
          ],
          "heatmapgl": [
           {
            "colorbar": {
             "outlinewidth": 0,
             "ticks": ""
            },
            "colorscale": [
             [
              0,
              "#0d0887"
             ],
             [
              0.1111111111111111,
              "#46039f"
             ],
             [
              0.2222222222222222,
              "#7201a8"
             ],
             [
              0.3333333333333333,
              "#9c179e"
             ],
             [
              0.4444444444444444,
              "#bd3786"
             ],
             [
              0.5555555555555556,
              "#d8576b"
             ],
             [
              0.6666666666666666,
              "#ed7953"
             ],
             [
              0.7777777777777778,
              "#fb9f3a"
             ],
             [
              0.8888888888888888,
              "#fdca26"
             ],
             [
              1,
              "#f0f921"
             ]
            ],
            "type": "heatmapgl"
           }
          ],
          "histogram": [
           {
            "marker": {
             "pattern": {
              "fillmode": "overlay",
              "size": 10,
              "solidity": 0.2
             }
            },
            "type": "histogram"
           }
          ],
          "histogram2d": [
           {
            "colorbar": {
             "outlinewidth": 0,
             "ticks": ""
            },
            "colorscale": [
             [
              0,
              "#0d0887"
             ],
             [
              0.1111111111111111,
              "#46039f"
             ],
             [
              0.2222222222222222,
              "#7201a8"
             ],
             [
              0.3333333333333333,
              "#9c179e"
             ],
             [
              0.4444444444444444,
              "#bd3786"
             ],
             [
              0.5555555555555556,
              "#d8576b"
             ],
             [
              0.6666666666666666,
              "#ed7953"
             ],
             [
              0.7777777777777778,
              "#fb9f3a"
             ],
             [
              0.8888888888888888,
              "#fdca26"
             ],
             [
              1,
              "#f0f921"
             ]
            ],
            "type": "histogram2d"
           }
          ],
          "histogram2dcontour": [
           {
            "colorbar": {
             "outlinewidth": 0,
             "ticks": ""
            },
            "colorscale": [
             [
              0,
              "#0d0887"
             ],
             [
              0.1111111111111111,
              "#46039f"
             ],
             [
              0.2222222222222222,
              "#7201a8"
             ],
             [
              0.3333333333333333,
              "#9c179e"
             ],
             [
              0.4444444444444444,
              "#bd3786"
             ],
             [
              0.5555555555555556,
              "#d8576b"
             ],
             [
              0.6666666666666666,
              "#ed7953"
             ],
             [
              0.7777777777777778,
              "#fb9f3a"
             ],
             [
              0.8888888888888888,
              "#fdca26"
             ],
             [
              1,
              "#f0f921"
             ]
            ],
            "type": "histogram2dcontour"
           }
          ],
          "mesh3d": [
           {
            "colorbar": {
             "outlinewidth": 0,
             "ticks": ""
            },
            "type": "mesh3d"
           }
          ],
          "parcoords": [
           {
            "line": {
             "colorbar": {
              "outlinewidth": 0,
              "ticks": ""
             }
            },
            "type": "parcoords"
           }
          ],
          "pie": [
           {
            "automargin": true,
            "type": "pie"
           }
          ],
          "scatter": [
           {
            "fillpattern": {
             "fillmode": "overlay",
             "size": 10,
             "solidity": 0.2
            },
            "type": "scatter"
           }
          ],
          "scatter3d": [
           {
            "line": {
             "colorbar": {
              "outlinewidth": 0,
              "ticks": ""
             }
            },
            "marker": {
             "colorbar": {
              "outlinewidth": 0,
              "ticks": ""
             }
            },
            "type": "scatter3d"
           }
          ],
          "scattercarpet": [
           {
            "marker": {
             "colorbar": {
              "outlinewidth": 0,
              "ticks": ""
             }
            },
            "type": "scattercarpet"
           }
          ],
          "scattergeo": [
           {
            "marker": {
             "colorbar": {
              "outlinewidth": 0,
              "ticks": ""
             }
            },
            "type": "scattergeo"
           }
          ],
          "scattergl": [
           {
            "marker": {
             "colorbar": {
              "outlinewidth": 0,
              "ticks": ""
             }
            },
            "type": "scattergl"
           }
          ],
          "scattermapbox": [
           {
            "marker": {
             "colorbar": {
              "outlinewidth": 0,
              "ticks": ""
             }
            },
            "type": "scattermapbox"
           }
          ],
          "scatterpolar": [
           {
            "marker": {
             "colorbar": {
              "outlinewidth": 0,
              "ticks": ""
             }
            },
            "type": "scatterpolar"
           }
          ],
          "scatterpolargl": [
           {
            "marker": {
             "colorbar": {
              "outlinewidth": 0,
              "ticks": ""
             }
            },
            "type": "scatterpolargl"
           }
          ],
          "scatterternary": [
           {
            "marker": {
             "colorbar": {
              "outlinewidth": 0,
              "ticks": ""
             }
            },
            "type": "scatterternary"
           }
          ],
          "surface": [
           {
            "colorbar": {
             "outlinewidth": 0,
             "ticks": ""
            },
            "colorscale": [
             [
              0,
              "#0d0887"
             ],
             [
              0.1111111111111111,
              "#46039f"
             ],
             [
              0.2222222222222222,
              "#7201a8"
             ],
             [
              0.3333333333333333,
              "#9c179e"
             ],
             [
              0.4444444444444444,
              "#bd3786"
             ],
             [
              0.5555555555555556,
              "#d8576b"
             ],
             [
              0.6666666666666666,
              "#ed7953"
             ],
             [
              0.7777777777777778,
              "#fb9f3a"
             ],
             [
              0.8888888888888888,
              "#fdca26"
             ],
             [
              1,
              "#f0f921"
             ]
            ],
            "type": "surface"
           }
          ],
          "table": [
           {
            "cells": {
             "fill": {
              "color": "#EBF0F8"
             },
             "line": {
              "color": "white"
             }
            },
            "header": {
             "fill": {
              "color": "#C8D4E3"
             },
             "line": {
              "color": "white"
             }
            },
            "type": "table"
           }
          ]
         },
         "layout": {
          "annotationdefaults": {
           "arrowcolor": "#2a3f5f",
           "arrowhead": 0,
           "arrowwidth": 1
          },
          "autotypenumbers": "strict",
          "coloraxis": {
           "colorbar": {
            "outlinewidth": 0,
            "ticks": ""
           }
          },
          "colorscale": {
           "diverging": [
            [
             0,
             "#8e0152"
            ],
            [
             0.1,
             "#c51b7d"
            ],
            [
             0.2,
             "#de77ae"
            ],
            [
             0.3,
             "#f1b6da"
            ],
            [
             0.4,
             "#fde0ef"
            ],
            [
             0.5,
             "#f7f7f7"
            ],
            [
             0.6,
             "#e6f5d0"
            ],
            [
             0.7,
             "#b8e186"
            ],
            [
             0.8,
             "#7fbc41"
            ],
            [
             0.9,
             "#4d9221"
            ],
            [
             1,
             "#276419"
            ]
           ],
           "sequential": [
            [
             0,
             "#0d0887"
            ],
            [
             0.1111111111111111,
             "#46039f"
            ],
            [
             0.2222222222222222,
             "#7201a8"
            ],
            [
             0.3333333333333333,
             "#9c179e"
            ],
            [
             0.4444444444444444,
             "#bd3786"
            ],
            [
             0.5555555555555556,
             "#d8576b"
            ],
            [
             0.6666666666666666,
             "#ed7953"
            ],
            [
             0.7777777777777778,
             "#fb9f3a"
            ],
            [
             0.8888888888888888,
             "#fdca26"
            ],
            [
             1,
             "#f0f921"
            ]
           ],
           "sequentialminus": [
            [
             0,
             "#0d0887"
            ],
            [
             0.1111111111111111,
             "#46039f"
            ],
            [
             0.2222222222222222,
             "#7201a8"
            ],
            [
             0.3333333333333333,
             "#9c179e"
            ],
            [
             0.4444444444444444,
             "#bd3786"
            ],
            [
             0.5555555555555556,
             "#d8576b"
            ],
            [
             0.6666666666666666,
             "#ed7953"
            ],
            [
             0.7777777777777778,
             "#fb9f3a"
            ],
            [
             0.8888888888888888,
             "#fdca26"
            ],
            [
             1,
             "#f0f921"
            ]
           ]
          },
          "colorway": [
           "#636efa",
           "#EF553B",
           "#00cc96",
           "#ab63fa",
           "#FFA15A",
           "#19d3f3",
           "#FF6692",
           "#B6E880",
           "#FF97FF",
           "#FECB52"
          ],
          "font": {
           "color": "#2a3f5f"
          },
          "geo": {
           "bgcolor": "white",
           "lakecolor": "white",
           "landcolor": "white",
           "showlakes": true,
           "showland": true,
           "subunitcolor": "#C8D4E3"
          },
          "hoverlabel": {
           "align": "left"
          },
          "hovermode": "closest",
          "mapbox": {
           "style": "light"
          },
          "paper_bgcolor": "white",
          "plot_bgcolor": "white",
          "polar": {
           "angularaxis": {
            "gridcolor": "#EBF0F8",
            "linecolor": "#EBF0F8",
            "ticks": ""
           },
           "bgcolor": "white",
           "radialaxis": {
            "gridcolor": "#EBF0F8",
            "linecolor": "#EBF0F8",
            "ticks": ""
           }
          },
          "scene": {
           "xaxis": {
            "backgroundcolor": "white",
            "gridcolor": "#DFE8F3",
            "gridwidth": 2,
            "linecolor": "#EBF0F8",
            "showbackground": true,
            "ticks": "",
            "zerolinecolor": "#EBF0F8"
           },
           "yaxis": {
            "backgroundcolor": "white",
            "gridcolor": "#DFE8F3",
            "gridwidth": 2,
            "linecolor": "#EBF0F8",
            "showbackground": true,
            "ticks": "",
            "zerolinecolor": "#EBF0F8"
           },
           "zaxis": {
            "backgroundcolor": "white",
            "gridcolor": "#DFE8F3",
            "gridwidth": 2,
            "linecolor": "#EBF0F8",
            "showbackground": true,
            "ticks": "",
            "zerolinecolor": "#EBF0F8"
           }
          },
          "shapedefaults": {
           "line": {
            "color": "#2a3f5f"
           }
          },
          "ternary": {
           "aaxis": {
            "gridcolor": "#DFE8F3",
            "linecolor": "#A2B1C6",
            "ticks": ""
           },
           "baxis": {
            "gridcolor": "#DFE8F3",
            "linecolor": "#A2B1C6",
            "ticks": ""
           },
           "bgcolor": "white",
           "caxis": {
            "gridcolor": "#DFE8F3",
            "linecolor": "#A2B1C6",
            "ticks": ""
           }
          },
          "title": {
           "x": 0.05
          },
          "xaxis": {
           "automargin": true,
           "gridcolor": "#EBF0F8",
           "linecolor": "#EBF0F8",
           "ticks": "",
           "title": {
            "standoff": 15
           },
           "zerolinecolor": "#EBF0F8",
           "zerolinewidth": 2
          },
          "yaxis": {
           "automargin": true,
           "gridcolor": "#EBF0F8",
           "linecolor": "#EBF0F8",
           "ticks": "",
           "title": {
            "standoff": 15
           },
           "zerolinecolor": "#EBF0F8",
           "zerolinewidth": 2
          }
         }
        },
        "title": {
         "text": "Cidades com maior número de passageiros emigrantes em ABR/2022"
        },
        "xaxis": {
         "anchor": "y",
         "domain": [
          0,
          1
         ],
         "title": {
          "text": "Cidade de partida da viagem"
         }
        },
        "yaxis": {
         "anchor": "x",
         "domain": [
          0,
          1
         ],
         "title": {
          "text": "N° bilhetes emitidos"
         }
        }
       }
      },
      "text/html": [
       "<div>                            <div id=\"a28b4c77-0f98-4b8e-a7dc-8db6fed486ff\" class=\"plotly-graph-div\" style=\"height:525px; width:100%;\"></div>            <script type=\"text/javascript\">                require([\"plotly\"], function(Plotly) {                    window.PLOTLYENV=window.PLOTLYENV || {};                                    if (document.getElementById(\"a28b4c77-0f98-4b8e-a7dc-8db6fed486ff\")) {                    Plotly.newPlot(                        \"a28b4c77-0f98-4b8e-a7dc-8db6fed486ff\",                        [{\"alignmentgroup\":\"True\",\"hovertemplate\":\"Cidade de partida da viagem=%{x}<br>N\\u00b0 bilhetes emitidos=%{y}<extra></extra>\",\"legendgroup\":\"\",\"marker\":{\"color\":\"#636efa\",\"pattern\":{\"shape\":\"\"}},\"name\":\"\",\"offsetgroup\":\"\",\"orientation\":\"v\",\"showlegend\":false,\"textposition\":\"auto\",\"x\":[\"SAO PAULO/SP\",\"RIO DE JANEIRO/RJ\",\"BRASILIA/DF\",\"GOIANIA/GO\",\"CURITIBA/PR\",\"BELO HORIZONTE/MG\",\"CAMPINAS/SP\",\"CAMPO GRANDE/MS\",\"FORTALEZA/CE\",\"CASCAVEL/PR\",\"MARINGA/PR\",\"VITORIA/ES\",\"LONDRINA/PR\",\"FLORIANOPOLIS/SC\",\"CUIABA/MT\",\"TERESINA/PI\",\"UBERLANDIA/MG\",\"PORTO ALEGRE/RS\",\"SAO JOSE DO RIO PRETO/SP\",\"JOINVILLE/SC\",\"SALVADOR/BA\",\"BALNEARIO CAMBORIU/SC\",\"RIBEIRAO PRETO/SP\",\"PRESIDENTE PRUDENTE/SP\",\"ITAJAI/SC\",\"RECIFE/PE\",\"FOZ DO IGUACU/PR\",\"ANAPOLIS/GO\"],\"xaxis\":\"x\",\"y\":[4470,2169,1968,1931,1369,1254,1236,947,887,872,838,813,811,809,793,677,677,654,622,606,601,595,586,546,528,524,514,507],\"yaxis\":\"y\",\"type\":\"bar\"}],                        {\"template\":{\"data\":{\"barpolar\":[{\"marker\":{\"line\":{\"color\":\"white\",\"width\":0.5},\"pattern\":{\"fillmode\":\"overlay\",\"size\":10,\"solidity\":0.2}},\"type\":\"barpolar\"}],\"bar\":[{\"error_x\":{\"color\":\"#2a3f5f\"},\"error_y\":{\"color\":\"#2a3f5f\"},\"marker\":{\"line\":{\"color\":\"white\",\"width\":0.5},\"pattern\":{\"fillmode\":\"overlay\",\"size\":10,\"solidity\":0.2}},\"type\":\"bar\"}],\"carpet\":[{\"aaxis\":{\"endlinecolor\":\"#2a3f5f\",\"gridcolor\":\"#C8D4E3\",\"linecolor\":\"#C8D4E3\",\"minorgridcolor\":\"#C8D4E3\",\"startlinecolor\":\"#2a3f5f\"},\"baxis\":{\"endlinecolor\":\"#2a3f5f\",\"gridcolor\":\"#C8D4E3\",\"linecolor\":\"#C8D4E3\",\"minorgridcolor\":\"#C8D4E3\",\"startlinecolor\":\"#2a3f5f\"},\"type\":\"carpet\"}],\"choropleth\":[{\"colorbar\":{\"outlinewidth\":0,\"ticks\":\"\"},\"type\":\"choropleth\"}],\"contourcarpet\":[{\"colorbar\":{\"outlinewidth\":0,\"ticks\":\"\"},\"type\":\"contourcarpet\"}],\"contour\":[{\"colorbar\":{\"outlinewidth\":0,\"ticks\":\"\"},\"colorscale\":[[0.0,\"#0d0887\"],[0.1111111111111111,\"#46039f\"],[0.2222222222222222,\"#7201a8\"],[0.3333333333333333,\"#9c179e\"],[0.4444444444444444,\"#bd3786\"],[0.5555555555555556,\"#d8576b\"],[0.6666666666666666,\"#ed7953\"],[0.7777777777777778,\"#fb9f3a\"],[0.8888888888888888,\"#fdca26\"],[1.0,\"#f0f921\"]],\"type\":\"contour\"}],\"heatmapgl\":[{\"colorbar\":{\"outlinewidth\":0,\"ticks\":\"\"},\"colorscale\":[[0.0,\"#0d0887\"],[0.1111111111111111,\"#46039f\"],[0.2222222222222222,\"#7201a8\"],[0.3333333333333333,\"#9c179e\"],[0.4444444444444444,\"#bd3786\"],[0.5555555555555556,\"#d8576b\"],[0.6666666666666666,\"#ed7953\"],[0.7777777777777778,\"#fb9f3a\"],[0.8888888888888888,\"#fdca26\"],[1.0,\"#f0f921\"]],\"type\":\"heatmapgl\"}],\"heatmap\":[{\"colorbar\":{\"outlinewidth\":0,\"ticks\":\"\"},\"colorscale\":[[0.0,\"#0d0887\"],[0.1111111111111111,\"#46039f\"],[0.2222222222222222,\"#7201a8\"],[0.3333333333333333,\"#9c179e\"],[0.4444444444444444,\"#bd3786\"],[0.5555555555555556,\"#d8576b\"],[0.6666666666666666,\"#ed7953\"],[0.7777777777777778,\"#fb9f3a\"],[0.8888888888888888,\"#fdca26\"],[1.0,\"#f0f921\"]],\"type\":\"heatmap\"}],\"histogram2dcontour\":[{\"colorbar\":{\"outlinewidth\":0,\"ticks\":\"\"},\"colorscale\":[[0.0,\"#0d0887\"],[0.1111111111111111,\"#46039f\"],[0.2222222222222222,\"#7201a8\"],[0.3333333333333333,\"#9c179e\"],[0.4444444444444444,\"#bd3786\"],[0.5555555555555556,\"#d8576b\"],[0.6666666666666666,\"#ed7953\"],[0.7777777777777778,\"#fb9f3a\"],[0.8888888888888888,\"#fdca26\"],[1.0,\"#f0f921\"]],\"type\":\"histogram2dcontour\"}],\"histogram2d\":[{\"colorbar\":{\"outlinewidth\":0,\"ticks\":\"\"},\"colorscale\":[[0.0,\"#0d0887\"],[0.1111111111111111,\"#46039f\"],[0.2222222222222222,\"#7201a8\"],[0.3333333333333333,\"#9c179e\"],[0.4444444444444444,\"#bd3786\"],[0.5555555555555556,\"#d8576b\"],[0.6666666666666666,\"#ed7953\"],[0.7777777777777778,\"#fb9f3a\"],[0.8888888888888888,\"#fdca26\"],[1.0,\"#f0f921\"]],\"type\":\"histogram2d\"}],\"histogram\":[{\"marker\":{\"pattern\":{\"fillmode\":\"overlay\",\"size\":10,\"solidity\":0.2}},\"type\":\"histogram\"}],\"mesh3d\":[{\"colorbar\":{\"outlinewidth\":0,\"ticks\":\"\"},\"type\":\"mesh3d\"}],\"parcoords\":[{\"line\":{\"colorbar\":{\"outlinewidth\":0,\"ticks\":\"\"}},\"type\":\"parcoords\"}],\"pie\":[{\"automargin\":true,\"type\":\"pie\"}],\"scatter3d\":[{\"line\":{\"colorbar\":{\"outlinewidth\":0,\"ticks\":\"\"}},\"marker\":{\"colorbar\":{\"outlinewidth\":0,\"ticks\":\"\"}},\"type\":\"scatter3d\"}],\"scattercarpet\":[{\"marker\":{\"colorbar\":{\"outlinewidth\":0,\"ticks\":\"\"}},\"type\":\"scattercarpet\"}],\"scattergeo\":[{\"marker\":{\"colorbar\":{\"outlinewidth\":0,\"ticks\":\"\"}},\"type\":\"scattergeo\"}],\"scattergl\":[{\"marker\":{\"colorbar\":{\"outlinewidth\":0,\"ticks\":\"\"}},\"type\":\"scattergl\"}],\"scattermapbox\":[{\"marker\":{\"colorbar\":{\"outlinewidth\":0,\"ticks\":\"\"}},\"type\":\"scattermapbox\"}],\"scatterpolargl\":[{\"marker\":{\"colorbar\":{\"outlinewidth\":0,\"ticks\":\"\"}},\"type\":\"scatterpolargl\"}],\"scatterpolar\":[{\"marker\":{\"colorbar\":{\"outlinewidth\":0,\"ticks\":\"\"}},\"type\":\"scatterpolar\"}],\"scatter\":[{\"fillpattern\":{\"fillmode\":\"overlay\",\"size\":10,\"solidity\":0.2},\"type\":\"scatter\"}],\"scatterternary\":[{\"marker\":{\"colorbar\":{\"outlinewidth\":0,\"ticks\":\"\"}},\"type\":\"scatterternary\"}],\"surface\":[{\"colorbar\":{\"outlinewidth\":0,\"ticks\":\"\"},\"colorscale\":[[0.0,\"#0d0887\"],[0.1111111111111111,\"#46039f\"],[0.2222222222222222,\"#7201a8\"],[0.3333333333333333,\"#9c179e\"],[0.4444444444444444,\"#bd3786\"],[0.5555555555555556,\"#d8576b\"],[0.6666666666666666,\"#ed7953\"],[0.7777777777777778,\"#fb9f3a\"],[0.8888888888888888,\"#fdca26\"],[1.0,\"#f0f921\"]],\"type\":\"surface\"}],\"table\":[{\"cells\":{\"fill\":{\"color\":\"#EBF0F8\"},\"line\":{\"color\":\"white\"}},\"header\":{\"fill\":{\"color\":\"#C8D4E3\"},\"line\":{\"color\":\"white\"}},\"type\":\"table\"}]},\"layout\":{\"annotationdefaults\":{\"arrowcolor\":\"#2a3f5f\",\"arrowhead\":0,\"arrowwidth\":1},\"autotypenumbers\":\"strict\",\"coloraxis\":{\"colorbar\":{\"outlinewidth\":0,\"ticks\":\"\"}},\"colorscale\":{\"diverging\":[[0,\"#8e0152\"],[0.1,\"#c51b7d\"],[0.2,\"#de77ae\"],[0.3,\"#f1b6da\"],[0.4,\"#fde0ef\"],[0.5,\"#f7f7f7\"],[0.6,\"#e6f5d0\"],[0.7,\"#b8e186\"],[0.8,\"#7fbc41\"],[0.9,\"#4d9221\"],[1,\"#276419\"]],\"sequential\":[[0.0,\"#0d0887\"],[0.1111111111111111,\"#46039f\"],[0.2222222222222222,\"#7201a8\"],[0.3333333333333333,\"#9c179e\"],[0.4444444444444444,\"#bd3786\"],[0.5555555555555556,\"#d8576b\"],[0.6666666666666666,\"#ed7953\"],[0.7777777777777778,\"#fb9f3a\"],[0.8888888888888888,\"#fdca26\"],[1.0,\"#f0f921\"]],\"sequentialminus\":[[0.0,\"#0d0887\"],[0.1111111111111111,\"#46039f\"],[0.2222222222222222,\"#7201a8\"],[0.3333333333333333,\"#9c179e\"],[0.4444444444444444,\"#bd3786\"],[0.5555555555555556,\"#d8576b\"],[0.6666666666666666,\"#ed7953\"],[0.7777777777777778,\"#fb9f3a\"],[0.8888888888888888,\"#fdca26\"],[1.0,\"#f0f921\"]]},\"colorway\":[\"#636efa\",\"#EF553B\",\"#00cc96\",\"#ab63fa\",\"#FFA15A\",\"#19d3f3\",\"#FF6692\",\"#B6E880\",\"#FF97FF\",\"#FECB52\"],\"font\":{\"color\":\"#2a3f5f\"},\"geo\":{\"bgcolor\":\"white\",\"lakecolor\":\"white\",\"landcolor\":\"white\",\"showlakes\":true,\"showland\":true,\"subunitcolor\":\"#C8D4E3\"},\"hoverlabel\":{\"align\":\"left\"},\"hovermode\":\"closest\",\"mapbox\":{\"style\":\"light\"},\"paper_bgcolor\":\"white\",\"plot_bgcolor\":\"white\",\"polar\":{\"angularaxis\":{\"gridcolor\":\"#EBF0F8\",\"linecolor\":\"#EBF0F8\",\"ticks\":\"\"},\"bgcolor\":\"white\",\"radialaxis\":{\"gridcolor\":\"#EBF0F8\",\"linecolor\":\"#EBF0F8\",\"ticks\":\"\"}},\"scene\":{\"xaxis\":{\"backgroundcolor\":\"white\",\"gridcolor\":\"#DFE8F3\",\"gridwidth\":2,\"linecolor\":\"#EBF0F8\",\"showbackground\":true,\"ticks\":\"\",\"zerolinecolor\":\"#EBF0F8\"},\"yaxis\":{\"backgroundcolor\":\"white\",\"gridcolor\":\"#DFE8F3\",\"gridwidth\":2,\"linecolor\":\"#EBF0F8\",\"showbackground\":true,\"ticks\":\"\",\"zerolinecolor\":\"#EBF0F8\"},\"zaxis\":{\"backgroundcolor\":\"white\",\"gridcolor\":\"#DFE8F3\",\"gridwidth\":2,\"linecolor\":\"#EBF0F8\",\"showbackground\":true,\"ticks\":\"\",\"zerolinecolor\":\"#EBF0F8\"}},\"shapedefaults\":{\"line\":{\"color\":\"#2a3f5f\"}},\"ternary\":{\"aaxis\":{\"gridcolor\":\"#DFE8F3\",\"linecolor\":\"#A2B1C6\",\"ticks\":\"\"},\"baxis\":{\"gridcolor\":\"#DFE8F3\",\"linecolor\":\"#A2B1C6\",\"ticks\":\"\"},\"bgcolor\":\"white\",\"caxis\":{\"gridcolor\":\"#DFE8F3\",\"linecolor\":\"#A2B1C6\",\"ticks\":\"\"}},\"title\":{\"x\":0.05},\"xaxis\":{\"automargin\":true,\"gridcolor\":\"#EBF0F8\",\"linecolor\":\"#EBF0F8\",\"ticks\":\"\",\"title\":{\"standoff\":15},\"zerolinecolor\":\"#EBF0F8\",\"zerolinewidth\":2},\"yaxis\":{\"automargin\":true,\"gridcolor\":\"#EBF0F8\",\"linecolor\":\"#EBF0F8\",\"ticks\":\"\",\"title\":{\"standoff\":15},\"zerolinecolor\":\"#EBF0F8\",\"zerolinewidth\":2}}},\"xaxis\":{\"anchor\":\"y\",\"domain\":[0.0,1.0],\"title\":{\"text\":\"Cidade de partida da viagem\"}},\"yaxis\":{\"anchor\":\"x\",\"domain\":[0.0,1.0],\"title\":{\"text\":\"N\\u00b0 bilhetes emitidos\"}},\"legend\":{\"tracegroupgap\":0},\"title\":{\"text\":\"Cidades com maior n\\u00famero de passageiros emigrantes em ABR/2022\"},\"barmode\":\"relative\"},                        {\"responsive\": true}                    ).then(function(){\n",
       "                            \n",
       "var gd = document.getElementById('a28b4c77-0f98-4b8e-a7dc-8db6fed486ff');\n",
       "var x = new MutationObserver(function (mutations, observer) {{\n",
       "        var display = window.getComputedStyle(gd).display;\n",
       "        if (!display || display === 'none') {{\n",
       "            console.log([gd, 'removed!']);\n",
       "            Plotly.purge(gd);\n",
       "            observer.disconnect();\n",
       "        }}\n",
       "}});\n",
       "\n",
       "// Listen for the removal of the full notebook cells\n",
       "var notebookContainer = gd.closest('#notebook-container');\n",
       "if (notebookContainer) {{\n",
       "    x.observe(notebookContainer, {childList: true});\n",
       "}}\n",
       "\n",
       "// Listen for the clearing of the current output cell\n",
       "var outputEl = gd.closest('.output');\n",
       "if (outputEl) {{\n",
       "    x.observe(outputEl, {childList: true});\n",
       "}}\n",
       "\n",
       "                        })                };                });            </script>        </div>"
      ]
     },
     "metadata": {},
     "output_type": "display_data"
    }
   ],
   "source": [
    "import matplotlib.pyplot as plt\n",
    "import plotly.express as px\n",
    "\n",
    "BilhetesABR = bilhetes[(bilhetes['mes_viagem'].str[0:2] == '04')]\n",
    "df = BilhetesABR.groupby(['ponto_origem_viagem']).count()\n",
    "df = df.loc[df['mes_emissao_bilhete']>500].sort_values(by=['mes_viagem'], ascending=False)\n",
    "\n",
    "px.bar(df, y='mes_viagem',\n",
    "       labels={'mes_viagem': 'N° bilhetes emitidos', 'ponto_origem_viagem': 'Cidade de partida da viagem'},\n",
    "       title='Cidades com maior número de passageiros emigrantes em ABR/2022',\n",
    "       template='plotly_white')                                              "
   ]
  },
  {
   "cell_type": "code",
   "execution_count": 66,
   "id": "debbb1dd",
   "metadata": {
    "scrolled": false
   },
   "outputs": [
    {
     "data": {
      "application/vnd.plotly.v1+json": {
       "config": {
        "plotlyServerURL": "https://plot.ly"
       },
       "data": [
        {
         "alignmentgroup": "True",
         "hovertemplate": "Cidade de destino da viagem=%{x}<br>N° de bilhetes=%{y}<extra></extra>",
         "legendgroup": "",
         "marker": {
          "color": "#636efa",
          "pattern": {
           "shape": ""
          }
         },
         "name": "",
         "offsetgroup": "",
         "orientation": "v",
         "showlegend": false,
         "textposition": "auto",
         "type": "bar",
         "x": [
          "SAO PAULO/SP",
          "RIO DE JANEIRO/RJ",
          "GOIANIA/GO",
          "BRASILIA/DF",
          "CURITIBA/PR",
          "BELO HORIZONTE/MG",
          "CAMPINAS/SP",
          "CAMPO GRANDE/MS",
          "FLORIANOPOLIS/SC",
          "CASCAVEL/PR",
          "VITORIA/ES",
          "CUIABA/MT",
          "MARINGA/PR",
          "FORTALEZA/CE",
          "LONDRINA/PR",
          "JOINVILLE/SC",
          "TERESINA/PI",
          "BALNEARIO CAMBORIU/SC",
          "PORTO ALEGRE/RS",
          "SAO JOSE DO RIO PRETO/SP",
          "UBERLANDIA/MG",
          "RIBEIRAO PRETO/SP",
          "SALVADOR/BA",
          "ITAJAI/SC",
          "PRESIDENTE PRUDENTE/SP",
          "RECIFE/PE"
         ],
         "xaxis": "x",
         "y": [
          4367,
          2175,
          1953,
          1840,
          1335,
          1329,
          1177,
          947,
          900,
          844,
          836,
          815,
          810,
          805,
          795,
          711,
          703,
          669,
          666,
          642,
          635,
          613,
          590,
          557,
          522,
          522
         ],
         "yaxis": "y"
        }
       ],
       "layout": {
        "barmode": "relative",
        "legend": {
         "tracegroupgap": 0
        },
        "template": {
         "data": {
          "bar": [
           {
            "error_x": {
             "color": "#2a3f5f"
            },
            "error_y": {
             "color": "#2a3f5f"
            },
            "marker": {
             "line": {
              "color": "white",
              "width": 0.5
             },
             "pattern": {
              "fillmode": "overlay",
              "size": 10,
              "solidity": 0.2
             }
            },
            "type": "bar"
           }
          ],
          "barpolar": [
           {
            "marker": {
             "line": {
              "color": "white",
              "width": 0.5
             },
             "pattern": {
              "fillmode": "overlay",
              "size": 10,
              "solidity": 0.2
             }
            },
            "type": "barpolar"
           }
          ],
          "carpet": [
           {
            "aaxis": {
             "endlinecolor": "#2a3f5f",
             "gridcolor": "#C8D4E3",
             "linecolor": "#C8D4E3",
             "minorgridcolor": "#C8D4E3",
             "startlinecolor": "#2a3f5f"
            },
            "baxis": {
             "endlinecolor": "#2a3f5f",
             "gridcolor": "#C8D4E3",
             "linecolor": "#C8D4E3",
             "minorgridcolor": "#C8D4E3",
             "startlinecolor": "#2a3f5f"
            },
            "type": "carpet"
           }
          ],
          "choropleth": [
           {
            "colorbar": {
             "outlinewidth": 0,
             "ticks": ""
            },
            "type": "choropleth"
           }
          ],
          "contour": [
           {
            "colorbar": {
             "outlinewidth": 0,
             "ticks": ""
            },
            "colorscale": [
             [
              0,
              "#0d0887"
             ],
             [
              0.1111111111111111,
              "#46039f"
             ],
             [
              0.2222222222222222,
              "#7201a8"
             ],
             [
              0.3333333333333333,
              "#9c179e"
             ],
             [
              0.4444444444444444,
              "#bd3786"
             ],
             [
              0.5555555555555556,
              "#d8576b"
             ],
             [
              0.6666666666666666,
              "#ed7953"
             ],
             [
              0.7777777777777778,
              "#fb9f3a"
             ],
             [
              0.8888888888888888,
              "#fdca26"
             ],
             [
              1,
              "#f0f921"
             ]
            ],
            "type": "contour"
           }
          ],
          "contourcarpet": [
           {
            "colorbar": {
             "outlinewidth": 0,
             "ticks": ""
            },
            "type": "contourcarpet"
           }
          ],
          "heatmap": [
           {
            "colorbar": {
             "outlinewidth": 0,
             "ticks": ""
            },
            "colorscale": [
             [
              0,
              "#0d0887"
             ],
             [
              0.1111111111111111,
              "#46039f"
             ],
             [
              0.2222222222222222,
              "#7201a8"
             ],
             [
              0.3333333333333333,
              "#9c179e"
             ],
             [
              0.4444444444444444,
              "#bd3786"
             ],
             [
              0.5555555555555556,
              "#d8576b"
             ],
             [
              0.6666666666666666,
              "#ed7953"
             ],
             [
              0.7777777777777778,
              "#fb9f3a"
             ],
             [
              0.8888888888888888,
              "#fdca26"
             ],
             [
              1,
              "#f0f921"
             ]
            ],
            "type": "heatmap"
           }
          ],
          "heatmapgl": [
           {
            "colorbar": {
             "outlinewidth": 0,
             "ticks": ""
            },
            "colorscale": [
             [
              0,
              "#0d0887"
             ],
             [
              0.1111111111111111,
              "#46039f"
             ],
             [
              0.2222222222222222,
              "#7201a8"
             ],
             [
              0.3333333333333333,
              "#9c179e"
             ],
             [
              0.4444444444444444,
              "#bd3786"
             ],
             [
              0.5555555555555556,
              "#d8576b"
             ],
             [
              0.6666666666666666,
              "#ed7953"
             ],
             [
              0.7777777777777778,
              "#fb9f3a"
             ],
             [
              0.8888888888888888,
              "#fdca26"
             ],
             [
              1,
              "#f0f921"
             ]
            ],
            "type": "heatmapgl"
           }
          ],
          "histogram": [
           {
            "marker": {
             "pattern": {
              "fillmode": "overlay",
              "size": 10,
              "solidity": 0.2
             }
            },
            "type": "histogram"
           }
          ],
          "histogram2d": [
           {
            "colorbar": {
             "outlinewidth": 0,
             "ticks": ""
            },
            "colorscale": [
             [
              0,
              "#0d0887"
             ],
             [
              0.1111111111111111,
              "#46039f"
             ],
             [
              0.2222222222222222,
              "#7201a8"
             ],
             [
              0.3333333333333333,
              "#9c179e"
             ],
             [
              0.4444444444444444,
              "#bd3786"
             ],
             [
              0.5555555555555556,
              "#d8576b"
             ],
             [
              0.6666666666666666,
              "#ed7953"
             ],
             [
              0.7777777777777778,
              "#fb9f3a"
             ],
             [
              0.8888888888888888,
              "#fdca26"
             ],
             [
              1,
              "#f0f921"
             ]
            ],
            "type": "histogram2d"
           }
          ],
          "histogram2dcontour": [
           {
            "colorbar": {
             "outlinewidth": 0,
             "ticks": ""
            },
            "colorscale": [
             [
              0,
              "#0d0887"
             ],
             [
              0.1111111111111111,
              "#46039f"
             ],
             [
              0.2222222222222222,
              "#7201a8"
             ],
             [
              0.3333333333333333,
              "#9c179e"
             ],
             [
              0.4444444444444444,
              "#bd3786"
             ],
             [
              0.5555555555555556,
              "#d8576b"
             ],
             [
              0.6666666666666666,
              "#ed7953"
             ],
             [
              0.7777777777777778,
              "#fb9f3a"
             ],
             [
              0.8888888888888888,
              "#fdca26"
             ],
             [
              1,
              "#f0f921"
             ]
            ],
            "type": "histogram2dcontour"
           }
          ],
          "mesh3d": [
           {
            "colorbar": {
             "outlinewidth": 0,
             "ticks": ""
            },
            "type": "mesh3d"
           }
          ],
          "parcoords": [
           {
            "line": {
             "colorbar": {
              "outlinewidth": 0,
              "ticks": ""
             }
            },
            "type": "parcoords"
           }
          ],
          "pie": [
           {
            "automargin": true,
            "type": "pie"
           }
          ],
          "scatter": [
           {
            "fillpattern": {
             "fillmode": "overlay",
             "size": 10,
             "solidity": 0.2
            },
            "type": "scatter"
           }
          ],
          "scatter3d": [
           {
            "line": {
             "colorbar": {
              "outlinewidth": 0,
              "ticks": ""
             }
            },
            "marker": {
             "colorbar": {
              "outlinewidth": 0,
              "ticks": ""
             }
            },
            "type": "scatter3d"
           }
          ],
          "scattercarpet": [
           {
            "marker": {
             "colorbar": {
              "outlinewidth": 0,
              "ticks": ""
             }
            },
            "type": "scattercarpet"
           }
          ],
          "scattergeo": [
           {
            "marker": {
             "colorbar": {
              "outlinewidth": 0,
              "ticks": ""
             }
            },
            "type": "scattergeo"
           }
          ],
          "scattergl": [
           {
            "marker": {
             "colorbar": {
              "outlinewidth": 0,
              "ticks": ""
             }
            },
            "type": "scattergl"
           }
          ],
          "scattermapbox": [
           {
            "marker": {
             "colorbar": {
              "outlinewidth": 0,
              "ticks": ""
             }
            },
            "type": "scattermapbox"
           }
          ],
          "scatterpolar": [
           {
            "marker": {
             "colorbar": {
              "outlinewidth": 0,
              "ticks": ""
             }
            },
            "type": "scatterpolar"
           }
          ],
          "scatterpolargl": [
           {
            "marker": {
             "colorbar": {
              "outlinewidth": 0,
              "ticks": ""
             }
            },
            "type": "scatterpolargl"
           }
          ],
          "scatterternary": [
           {
            "marker": {
             "colorbar": {
              "outlinewidth": 0,
              "ticks": ""
             }
            },
            "type": "scatterternary"
           }
          ],
          "surface": [
           {
            "colorbar": {
             "outlinewidth": 0,
             "ticks": ""
            },
            "colorscale": [
             [
              0,
              "#0d0887"
             ],
             [
              0.1111111111111111,
              "#46039f"
             ],
             [
              0.2222222222222222,
              "#7201a8"
             ],
             [
              0.3333333333333333,
              "#9c179e"
             ],
             [
              0.4444444444444444,
              "#bd3786"
             ],
             [
              0.5555555555555556,
              "#d8576b"
             ],
             [
              0.6666666666666666,
              "#ed7953"
             ],
             [
              0.7777777777777778,
              "#fb9f3a"
             ],
             [
              0.8888888888888888,
              "#fdca26"
             ],
             [
              1,
              "#f0f921"
             ]
            ],
            "type": "surface"
           }
          ],
          "table": [
           {
            "cells": {
             "fill": {
              "color": "#EBF0F8"
             },
             "line": {
              "color": "white"
             }
            },
            "header": {
             "fill": {
              "color": "#C8D4E3"
             },
             "line": {
              "color": "white"
             }
            },
            "type": "table"
           }
          ]
         },
         "layout": {
          "annotationdefaults": {
           "arrowcolor": "#2a3f5f",
           "arrowhead": 0,
           "arrowwidth": 1
          },
          "autotypenumbers": "strict",
          "coloraxis": {
           "colorbar": {
            "outlinewidth": 0,
            "ticks": ""
           }
          },
          "colorscale": {
           "diverging": [
            [
             0,
             "#8e0152"
            ],
            [
             0.1,
             "#c51b7d"
            ],
            [
             0.2,
             "#de77ae"
            ],
            [
             0.3,
             "#f1b6da"
            ],
            [
             0.4,
             "#fde0ef"
            ],
            [
             0.5,
             "#f7f7f7"
            ],
            [
             0.6,
             "#e6f5d0"
            ],
            [
             0.7,
             "#b8e186"
            ],
            [
             0.8,
             "#7fbc41"
            ],
            [
             0.9,
             "#4d9221"
            ],
            [
             1,
             "#276419"
            ]
           ],
           "sequential": [
            [
             0,
             "#0d0887"
            ],
            [
             0.1111111111111111,
             "#46039f"
            ],
            [
             0.2222222222222222,
             "#7201a8"
            ],
            [
             0.3333333333333333,
             "#9c179e"
            ],
            [
             0.4444444444444444,
             "#bd3786"
            ],
            [
             0.5555555555555556,
             "#d8576b"
            ],
            [
             0.6666666666666666,
             "#ed7953"
            ],
            [
             0.7777777777777778,
             "#fb9f3a"
            ],
            [
             0.8888888888888888,
             "#fdca26"
            ],
            [
             1,
             "#f0f921"
            ]
           ],
           "sequentialminus": [
            [
             0,
             "#0d0887"
            ],
            [
             0.1111111111111111,
             "#46039f"
            ],
            [
             0.2222222222222222,
             "#7201a8"
            ],
            [
             0.3333333333333333,
             "#9c179e"
            ],
            [
             0.4444444444444444,
             "#bd3786"
            ],
            [
             0.5555555555555556,
             "#d8576b"
            ],
            [
             0.6666666666666666,
             "#ed7953"
            ],
            [
             0.7777777777777778,
             "#fb9f3a"
            ],
            [
             0.8888888888888888,
             "#fdca26"
            ],
            [
             1,
             "#f0f921"
            ]
           ]
          },
          "colorway": [
           "#636efa",
           "#EF553B",
           "#00cc96",
           "#ab63fa",
           "#FFA15A",
           "#19d3f3",
           "#FF6692",
           "#B6E880",
           "#FF97FF",
           "#FECB52"
          ],
          "font": {
           "color": "#2a3f5f"
          },
          "geo": {
           "bgcolor": "white",
           "lakecolor": "white",
           "landcolor": "white",
           "showlakes": true,
           "showland": true,
           "subunitcolor": "#C8D4E3"
          },
          "hoverlabel": {
           "align": "left"
          },
          "hovermode": "closest",
          "mapbox": {
           "style": "light"
          },
          "paper_bgcolor": "white",
          "plot_bgcolor": "white",
          "polar": {
           "angularaxis": {
            "gridcolor": "#EBF0F8",
            "linecolor": "#EBF0F8",
            "ticks": ""
           },
           "bgcolor": "white",
           "radialaxis": {
            "gridcolor": "#EBF0F8",
            "linecolor": "#EBF0F8",
            "ticks": ""
           }
          },
          "scene": {
           "xaxis": {
            "backgroundcolor": "white",
            "gridcolor": "#DFE8F3",
            "gridwidth": 2,
            "linecolor": "#EBF0F8",
            "showbackground": true,
            "ticks": "",
            "zerolinecolor": "#EBF0F8"
           },
           "yaxis": {
            "backgroundcolor": "white",
            "gridcolor": "#DFE8F3",
            "gridwidth": 2,
            "linecolor": "#EBF0F8",
            "showbackground": true,
            "ticks": "",
            "zerolinecolor": "#EBF0F8"
           },
           "zaxis": {
            "backgroundcolor": "white",
            "gridcolor": "#DFE8F3",
            "gridwidth": 2,
            "linecolor": "#EBF0F8",
            "showbackground": true,
            "ticks": "",
            "zerolinecolor": "#EBF0F8"
           }
          },
          "shapedefaults": {
           "line": {
            "color": "#2a3f5f"
           }
          },
          "ternary": {
           "aaxis": {
            "gridcolor": "#DFE8F3",
            "linecolor": "#A2B1C6",
            "ticks": ""
           },
           "baxis": {
            "gridcolor": "#DFE8F3",
            "linecolor": "#A2B1C6",
            "ticks": ""
           },
           "bgcolor": "white",
           "caxis": {
            "gridcolor": "#DFE8F3",
            "linecolor": "#A2B1C6",
            "ticks": ""
           }
          },
          "title": {
           "x": 0.05
          },
          "xaxis": {
           "automargin": true,
           "gridcolor": "#EBF0F8",
           "linecolor": "#EBF0F8",
           "ticks": "",
           "title": {
            "standoff": 15
           },
           "zerolinecolor": "#EBF0F8",
           "zerolinewidth": 2
          },
          "yaxis": {
           "automargin": true,
           "gridcolor": "#EBF0F8",
           "linecolor": "#EBF0F8",
           "ticks": "",
           "title": {
            "standoff": 15
           },
           "zerolinecolor": "#EBF0F8",
           "zerolinewidth": 2
          }
         }
        },
        "title": {
         "text": "Cidades com maior número de passageiros imigrantes em ABR/2022"
        },
        "xaxis": {
         "anchor": "y",
         "domain": [
          0,
          1
         ],
         "title": {
          "text": "Cidade de destino da viagem"
         }
        },
        "yaxis": {
         "anchor": "x",
         "domain": [
          0,
          1
         ],
         "title": {
          "text": "N° de bilhetes"
         }
        }
       }
      },
      "text/html": [
       "<div>                            <div id=\"b425f92c-407e-42cc-aacd-60d40f4194e9\" class=\"plotly-graph-div\" style=\"height:525px; width:100%;\"></div>            <script type=\"text/javascript\">                require([\"plotly\"], function(Plotly) {                    window.PLOTLYENV=window.PLOTLYENV || {};                                    if (document.getElementById(\"b425f92c-407e-42cc-aacd-60d40f4194e9\")) {                    Plotly.newPlot(                        \"b425f92c-407e-42cc-aacd-60d40f4194e9\",                        [{\"alignmentgroup\":\"True\",\"hovertemplate\":\"Cidade de destino da viagem=%{x}<br>N\\u00b0 de bilhetes=%{y}<extra></extra>\",\"legendgroup\":\"\",\"marker\":{\"color\":\"#636efa\",\"pattern\":{\"shape\":\"\"}},\"name\":\"\",\"offsetgroup\":\"\",\"orientation\":\"v\",\"showlegend\":false,\"textposition\":\"auto\",\"x\":[\"SAO PAULO/SP\",\"RIO DE JANEIRO/RJ\",\"GOIANIA/GO\",\"BRASILIA/DF\",\"CURITIBA/PR\",\"BELO HORIZONTE/MG\",\"CAMPINAS/SP\",\"CAMPO GRANDE/MS\",\"FLORIANOPOLIS/SC\",\"CASCAVEL/PR\",\"VITORIA/ES\",\"CUIABA/MT\",\"MARINGA/PR\",\"FORTALEZA/CE\",\"LONDRINA/PR\",\"JOINVILLE/SC\",\"TERESINA/PI\",\"BALNEARIO CAMBORIU/SC\",\"PORTO ALEGRE/RS\",\"SAO JOSE DO RIO PRETO/SP\",\"UBERLANDIA/MG\",\"RIBEIRAO PRETO/SP\",\"SALVADOR/BA\",\"ITAJAI/SC\",\"PRESIDENTE PRUDENTE/SP\",\"RECIFE/PE\"],\"xaxis\":\"x\",\"y\":[4367,2175,1953,1840,1335,1329,1177,947,900,844,836,815,810,805,795,711,703,669,666,642,635,613,590,557,522,522],\"yaxis\":\"y\",\"type\":\"bar\"}],                        {\"template\":{\"data\":{\"barpolar\":[{\"marker\":{\"line\":{\"color\":\"white\",\"width\":0.5},\"pattern\":{\"fillmode\":\"overlay\",\"size\":10,\"solidity\":0.2}},\"type\":\"barpolar\"}],\"bar\":[{\"error_x\":{\"color\":\"#2a3f5f\"},\"error_y\":{\"color\":\"#2a3f5f\"},\"marker\":{\"line\":{\"color\":\"white\",\"width\":0.5},\"pattern\":{\"fillmode\":\"overlay\",\"size\":10,\"solidity\":0.2}},\"type\":\"bar\"}],\"carpet\":[{\"aaxis\":{\"endlinecolor\":\"#2a3f5f\",\"gridcolor\":\"#C8D4E3\",\"linecolor\":\"#C8D4E3\",\"minorgridcolor\":\"#C8D4E3\",\"startlinecolor\":\"#2a3f5f\"},\"baxis\":{\"endlinecolor\":\"#2a3f5f\",\"gridcolor\":\"#C8D4E3\",\"linecolor\":\"#C8D4E3\",\"minorgridcolor\":\"#C8D4E3\",\"startlinecolor\":\"#2a3f5f\"},\"type\":\"carpet\"}],\"choropleth\":[{\"colorbar\":{\"outlinewidth\":0,\"ticks\":\"\"},\"type\":\"choropleth\"}],\"contourcarpet\":[{\"colorbar\":{\"outlinewidth\":0,\"ticks\":\"\"},\"type\":\"contourcarpet\"}],\"contour\":[{\"colorbar\":{\"outlinewidth\":0,\"ticks\":\"\"},\"colorscale\":[[0.0,\"#0d0887\"],[0.1111111111111111,\"#46039f\"],[0.2222222222222222,\"#7201a8\"],[0.3333333333333333,\"#9c179e\"],[0.4444444444444444,\"#bd3786\"],[0.5555555555555556,\"#d8576b\"],[0.6666666666666666,\"#ed7953\"],[0.7777777777777778,\"#fb9f3a\"],[0.8888888888888888,\"#fdca26\"],[1.0,\"#f0f921\"]],\"type\":\"contour\"}],\"heatmapgl\":[{\"colorbar\":{\"outlinewidth\":0,\"ticks\":\"\"},\"colorscale\":[[0.0,\"#0d0887\"],[0.1111111111111111,\"#46039f\"],[0.2222222222222222,\"#7201a8\"],[0.3333333333333333,\"#9c179e\"],[0.4444444444444444,\"#bd3786\"],[0.5555555555555556,\"#d8576b\"],[0.6666666666666666,\"#ed7953\"],[0.7777777777777778,\"#fb9f3a\"],[0.8888888888888888,\"#fdca26\"],[1.0,\"#f0f921\"]],\"type\":\"heatmapgl\"}],\"heatmap\":[{\"colorbar\":{\"outlinewidth\":0,\"ticks\":\"\"},\"colorscale\":[[0.0,\"#0d0887\"],[0.1111111111111111,\"#46039f\"],[0.2222222222222222,\"#7201a8\"],[0.3333333333333333,\"#9c179e\"],[0.4444444444444444,\"#bd3786\"],[0.5555555555555556,\"#d8576b\"],[0.6666666666666666,\"#ed7953\"],[0.7777777777777778,\"#fb9f3a\"],[0.8888888888888888,\"#fdca26\"],[1.0,\"#f0f921\"]],\"type\":\"heatmap\"}],\"histogram2dcontour\":[{\"colorbar\":{\"outlinewidth\":0,\"ticks\":\"\"},\"colorscale\":[[0.0,\"#0d0887\"],[0.1111111111111111,\"#46039f\"],[0.2222222222222222,\"#7201a8\"],[0.3333333333333333,\"#9c179e\"],[0.4444444444444444,\"#bd3786\"],[0.5555555555555556,\"#d8576b\"],[0.6666666666666666,\"#ed7953\"],[0.7777777777777778,\"#fb9f3a\"],[0.8888888888888888,\"#fdca26\"],[1.0,\"#f0f921\"]],\"type\":\"histogram2dcontour\"}],\"histogram2d\":[{\"colorbar\":{\"outlinewidth\":0,\"ticks\":\"\"},\"colorscale\":[[0.0,\"#0d0887\"],[0.1111111111111111,\"#46039f\"],[0.2222222222222222,\"#7201a8\"],[0.3333333333333333,\"#9c179e\"],[0.4444444444444444,\"#bd3786\"],[0.5555555555555556,\"#d8576b\"],[0.6666666666666666,\"#ed7953\"],[0.7777777777777778,\"#fb9f3a\"],[0.8888888888888888,\"#fdca26\"],[1.0,\"#f0f921\"]],\"type\":\"histogram2d\"}],\"histogram\":[{\"marker\":{\"pattern\":{\"fillmode\":\"overlay\",\"size\":10,\"solidity\":0.2}},\"type\":\"histogram\"}],\"mesh3d\":[{\"colorbar\":{\"outlinewidth\":0,\"ticks\":\"\"},\"type\":\"mesh3d\"}],\"parcoords\":[{\"line\":{\"colorbar\":{\"outlinewidth\":0,\"ticks\":\"\"}},\"type\":\"parcoords\"}],\"pie\":[{\"automargin\":true,\"type\":\"pie\"}],\"scatter3d\":[{\"line\":{\"colorbar\":{\"outlinewidth\":0,\"ticks\":\"\"}},\"marker\":{\"colorbar\":{\"outlinewidth\":0,\"ticks\":\"\"}},\"type\":\"scatter3d\"}],\"scattercarpet\":[{\"marker\":{\"colorbar\":{\"outlinewidth\":0,\"ticks\":\"\"}},\"type\":\"scattercarpet\"}],\"scattergeo\":[{\"marker\":{\"colorbar\":{\"outlinewidth\":0,\"ticks\":\"\"}},\"type\":\"scattergeo\"}],\"scattergl\":[{\"marker\":{\"colorbar\":{\"outlinewidth\":0,\"ticks\":\"\"}},\"type\":\"scattergl\"}],\"scattermapbox\":[{\"marker\":{\"colorbar\":{\"outlinewidth\":0,\"ticks\":\"\"}},\"type\":\"scattermapbox\"}],\"scatterpolargl\":[{\"marker\":{\"colorbar\":{\"outlinewidth\":0,\"ticks\":\"\"}},\"type\":\"scatterpolargl\"}],\"scatterpolar\":[{\"marker\":{\"colorbar\":{\"outlinewidth\":0,\"ticks\":\"\"}},\"type\":\"scatterpolar\"}],\"scatter\":[{\"fillpattern\":{\"fillmode\":\"overlay\",\"size\":10,\"solidity\":0.2},\"type\":\"scatter\"}],\"scatterternary\":[{\"marker\":{\"colorbar\":{\"outlinewidth\":0,\"ticks\":\"\"}},\"type\":\"scatterternary\"}],\"surface\":[{\"colorbar\":{\"outlinewidth\":0,\"ticks\":\"\"},\"colorscale\":[[0.0,\"#0d0887\"],[0.1111111111111111,\"#46039f\"],[0.2222222222222222,\"#7201a8\"],[0.3333333333333333,\"#9c179e\"],[0.4444444444444444,\"#bd3786\"],[0.5555555555555556,\"#d8576b\"],[0.6666666666666666,\"#ed7953\"],[0.7777777777777778,\"#fb9f3a\"],[0.8888888888888888,\"#fdca26\"],[1.0,\"#f0f921\"]],\"type\":\"surface\"}],\"table\":[{\"cells\":{\"fill\":{\"color\":\"#EBF0F8\"},\"line\":{\"color\":\"white\"}},\"header\":{\"fill\":{\"color\":\"#C8D4E3\"},\"line\":{\"color\":\"white\"}},\"type\":\"table\"}]},\"layout\":{\"annotationdefaults\":{\"arrowcolor\":\"#2a3f5f\",\"arrowhead\":0,\"arrowwidth\":1},\"autotypenumbers\":\"strict\",\"coloraxis\":{\"colorbar\":{\"outlinewidth\":0,\"ticks\":\"\"}},\"colorscale\":{\"diverging\":[[0,\"#8e0152\"],[0.1,\"#c51b7d\"],[0.2,\"#de77ae\"],[0.3,\"#f1b6da\"],[0.4,\"#fde0ef\"],[0.5,\"#f7f7f7\"],[0.6,\"#e6f5d0\"],[0.7,\"#b8e186\"],[0.8,\"#7fbc41\"],[0.9,\"#4d9221\"],[1,\"#276419\"]],\"sequential\":[[0.0,\"#0d0887\"],[0.1111111111111111,\"#46039f\"],[0.2222222222222222,\"#7201a8\"],[0.3333333333333333,\"#9c179e\"],[0.4444444444444444,\"#bd3786\"],[0.5555555555555556,\"#d8576b\"],[0.6666666666666666,\"#ed7953\"],[0.7777777777777778,\"#fb9f3a\"],[0.8888888888888888,\"#fdca26\"],[1.0,\"#f0f921\"]],\"sequentialminus\":[[0.0,\"#0d0887\"],[0.1111111111111111,\"#46039f\"],[0.2222222222222222,\"#7201a8\"],[0.3333333333333333,\"#9c179e\"],[0.4444444444444444,\"#bd3786\"],[0.5555555555555556,\"#d8576b\"],[0.6666666666666666,\"#ed7953\"],[0.7777777777777778,\"#fb9f3a\"],[0.8888888888888888,\"#fdca26\"],[1.0,\"#f0f921\"]]},\"colorway\":[\"#636efa\",\"#EF553B\",\"#00cc96\",\"#ab63fa\",\"#FFA15A\",\"#19d3f3\",\"#FF6692\",\"#B6E880\",\"#FF97FF\",\"#FECB52\"],\"font\":{\"color\":\"#2a3f5f\"},\"geo\":{\"bgcolor\":\"white\",\"lakecolor\":\"white\",\"landcolor\":\"white\",\"showlakes\":true,\"showland\":true,\"subunitcolor\":\"#C8D4E3\"},\"hoverlabel\":{\"align\":\"left\"},\"hovermode\":\"closest\",\"mapbox\":{\"style\":\"light\"},\"paper_bgcolor\":\"white\",\"plot_bgcolor\":\"white\",\"polar\":{\"angularaxis\":{\"gridcolor\":\"#EBF0F8\",\"linecolor\":\"#EBF0F8\",\"ticks\":\"\"},\"bgcolor\":\"white\",\"radialaxis\":{\"gridcolor\":\"#EBF0F8\",\"linecolor\":\"#EBF0F8\",\"ticks\":\"\"}},\"scene\":{\"xaxis\":{\"backgroundcolor\":\"white\",\"gridcolor\":\"#DFE8F3\",\"gridwidth\":2,\"linecolor\":\"#EBF0F8\",\"showbackground\":true,\"ticks\":\"\",\"zerolinecolor\":\"#EBF0F8\"},\"yaxis\":{\"backgroundcolor\":\"white\",\"gridcolor\":\"#DFE8F3\",\"gridwidth\":2,\"linecolor\":\"#EBF0F8\",\"showbackground\":true,\"ticks\":\"\",\"zerolinecolor\":\"#EBF0F8\"},\"zaxis\":{\"backgroundcolor\":\"white\",\"gridcolor\":\"#DFE8F3\",\"gridwidth\":2,\"linecolor\":\"#EBF0F8\",\"showbackground\":true,\"ticks\":\"\",\"zerolinecolor\":\"#EBF0F8\"}},\"shapedefaults\":{\"line\":{\"color\":\"#2a3f5f\"}},\"ternary\":{\"aaxis\":{\"gridcolor\":\"#DFE8F3\",\"linecolor\":\"#A2B1C6\",\"ticks\":\"\"},\"baxis\":{\"gridcolor\":\"#DFE8F3\",\"linecolor\":\"#A2B1C6\",\"ticks\":\"\"},\"bgcolor\":\"white\",\"caxis\":{\"gridcolor\":\"#DFE8F3\",\"linecolor\":\"#A2B1C6\",\"ticks\":\"\"}},\"title\":{\"x\":0.05},\"xaxis\":{\"automargin\":true,\"gridcolor\":\"#EBF0F8\",\"linecolor\":\"#EBF0F8\",\"ticks\":\"\",\"title\":{\"standoff\":15},\"zerolinecolor\":\"#EBF0F8\",\"zerolinewidth\":2},\"yaxis\":{\"automargin\":true,\"gridcolor\":\"#EBF0F8\",\"linecolor\":\"#EBF0F8\",\"ticks\":\"\",\"title\":{\"standoff\":15},\"zerolinecolor\":\"#EBF0F8\",\"zerolinewidth\":2}}},\"xaxis\":{\"anchor\":\"y\",\"domain\":[0.0,1.0],\"title\":{\"text\":\"Cidade de destino da viagem\"}},\"yaxis\":{\"anchor\":\"x\",\"domain\":[0.0,1.0],\"title\":{\"text\":\"N\\u00b0 de bilhetes\"}},\"legend\":{\"tracegroupgap\":0},\"title\":{\"text\":\"Cidades com maior n\\u00famero de passageiros imigrantes em ABR/2022\"},\"barmode\":\"relative\"},                        {\"responsive\": true}                    ).then(function(){\n",
       "                            \n",
       "var gd = document.getElementById('b425f92c-407e-42cc-aacd-60d40f4194e9');\n",
       "var x = new MutationObserver(function (mutations, observer) {{\n",
       "        var display = window.getComputedStyle(gd).display;\n",
       "        if (!display || display === 'none') {{\n",
       "            console.log([gd, 'removed!']);\n",
       "            Plotly.purge(gd);\n",
       "            observer.disconnect();\n",
       "        }}\n",
       "}});\n",
       "\n",
       "// Listen for the removal of the full notebook cells\n",
       "var notebookContainer = gd.closest('#notebook-container');\n",
       "if (notebookContainer) {{\n",
       "    x.observe(notebookContainer, {childList: true});\n",
       "}}\n",
       "\n",
       "// Listen for the clearing of the current output cell\n",
       "var outputEl = gd.closest('.output');\n",
       "if (outputEl) {{\n",
       "    x.observe(outputEl, {childList: true});\n",
       "}}\n",
       "\n",
       "                        })                };                });            </script>        </div>"
      ]
     },
     "metadata": {},
     "output_type": "display_data"
    }
   ],
   "source": [
    "df2 = BilhetesABR.groupby(['ponto_destino_viagem']).count()\n",
    "df2 = df2.loc[df2['mes_emissao_bilhete']>500].sort_values(by=['mes_viagem'], ascending=False)\n",
    "px.bar(df2, y='mes_viagem',\n",
    "       labels={'mes_viagem': 'N° de bilhetes', 'ponto_destino_viagem': 'Cidade de destino da viagem'},\n",
    "       title='Cidades com maior número de passageiros imigrantes em ABR/2022',\n",
    "       template='plotly_white')"
   ]
  },
  {
   "cell_type": "markdown",
   "id": "b4171f2e",
   "metadata": {},
   "source": [
    "Perceba que tanto no ponto de partida, quanto no ponto de destino as cinco cidades predominantes são:\n",
    "\n",
    "<br />\n",
    "\n",
    " *  São Paulo (SP)\n",
    " *  Rio de Janeiro (RJ)\n",
    " *  Goiânia (GO)\n",
    " *  Brasília (DF)\n",
    " *  Curitiba (PR)\n",
    " \n",
    "<br />\n",
    "\n",
    "Com certeza estas são cidades boas para se inserir em suas rotas de viagem. \n",
    "\n",
    "Mas existe também duas outras perguntas: \n",
    "\n",
    "<br />\n",
    "\n",
    " *  \"Estas pessoas que saem de São Paulo, para onde elas vão?\"\n",
    "\n",
    "<br />\n",
    "\n",
    " *  \"E as pessoas que vêm para São Paulo, de onde elas partem?\"\n",
    " \n",
    "<br />\n",
    "\n",
    "Para responder a estas perguntas vamos fazer uma cross table e ver o resultado."
   ]
  },
  {
   "cell_type": "code",
   "execution_count": 70,
   "id": "119f5bbe",
   "metadata": {},
   "outputs": [],
   "source": [
    "rotas = pd.crosstab(BilhetesABR['ponto_origem_viagem'],BilhetesABR['ponto_destino_viagem'])\n",
    "rotasSP=rotas.loc[:,[\"SAO PAULO/SP\"]].sort_values(by=['SAO PAULO/SP'], ascending = False)\n",
    "rotasSP = rotasSP.loc[rotasSP['SAO PAULO/SP'] != 0] # Retirando as cidades que não possuem bilhetes"
   ]
  },
  {
   "cell_type": "code",
   "execution_count": 71,
   "id": "65c2c740",
   "metadata": {},
   "outputs": [
    {
     "data": {
      "application/vnd.plotly.v1+json": {
       "config": {
        "plotlyServerURL": "https://plot.ly"
       },
       "data": [
        {
         "alignmentgroup": "True",
         "hovertemplate": "ponto_destino_viagem=SAO PAULO/SP<br>Cidade de origem=%{x}<br>N° de bilhetes=%{y}<extra></extra>",
         "legendgroup": "SAO PAULO/SP",
         "marker": {
          "color": "#636efa",
          "pattern": {
           "shape": ""
          }
         },
         "name": "SAO PAULO/SP",
         "offsetgroup": "SAO PAULO/SP",
         "orientation": "v",
         "showlegend": true,
         "textposition": "auto",
         "type": "bar",
         "x": [
          "CURITIBA/PR",
          "VITORIA DA CONQUISTA/BA",
          "RIO DE JANEIRO/RJ",
          "BRASILIA/DF",
          "LONDRINA/PR",
          "BELO HORIZONTE/MG",
          "GOIANIA/GO",
          "MARINGA/PR",
          "CASCAVEL/PR",
          "FOZ DO IGUACU/PR",
          "UBERLANDIA/MG",
          "JOINVILLE/SC",
          "CAMPO MOURAO/PR",
          "UBERABA/MG",
          "UMUARAMA/PR",
          "DOURADOS/MS",
          "PONTA GROSSA/PR",
          "FLORIANOPOLIS/SC",
          "TEOFILO OTONI/MG",
          "TEIXEIRA DE FREITAS/BA",
          "CAMPO GRANDE/MS",
          "MONTES CLAROS/MG",
          "CIANORTE/PR",
          "GUARAPUAVA/PR",
          "CUIABA/MT",
          "ITAJAI/SC",
          "BALNEARIO CAMBORIU/SC",
          "SALVADOR/BA",
          "VITORIA/ES",
          "MOSSORO/RN",
          "ALMENARA/MG",
          "NATAL/RN",
          "MEDIANEIRA/PR",
          "ANAPOLIS/GO",
          "GUAIRA/PR",
          "CALDAS NOVAS/GO",
          "NOVA ANDRADINA/MS",
          "ITUMBIARA/GO",
          "PADRE PARAISO/MG",
          "NOVA IGUACU/RJ",
          "FORTALEZA/CE",
          "ARAXA/MG",
          "GUANHAES/MG",
          "LAVRAS/MG",
          "PORTO ALEGRE/RS",
          "BLUMENAU/SC",
          "ITABUNA/BA",
          "VICOSA/MG",
          "PETROPOLIS/RJ",
          "ARAPIRACA/AL",
          "BETIM/MG",
          "TUBARAO/SC",
          "CABO FRIO/RJ",
          "PONTE NOVA/MG",
          "GUANAMBI/BA",
          "JATAI/GO",
          "CAXIAS DO SUL/RS",
          "SAO MATEUS/ES",
          "CANDIDO SALES/BA",
          "CONSELHEIRO LAFAIETE/MG",
          "TOLEDO/PR",
          "ARACUAI/MG",
          "EUNAPOLIS/BA",
          "JARAGUA DO SUL/SC",
          "APUCARANA/PR",
          "RECIFE/PE",
          "NITEROI/RJ",
          "SEABRA/BA",
          "FEIRA DE SANTANA/BA",
          "CURVELO/MG",
          "JANUARIA/MG",
          "TRES LAGOAS/MS",
          "BRUSQUE/SC",
          "SANTANA/BA",
          "PORECATU/PR",
          "MORRO DO CHAPEU/BA",
          "CHAPECO/SC",
          "JUIZ DE FORA/MG",
          "VIRGEM DA LAPA/MG",
          "ARAGUARI/MG",
          "ERECHIM/RS",
          "SETE LAGOAS/MG",
          "DUQUE DE CAXIAS/RJ",
          "ARAPONGAS/PR",
          "PIRAPORA/MG",
          "TERESOPOLIS/RJ",
          "PAULO AFONSO/BA",
          "RONDONOPOLIS/MT",
          "MAGE/RJ",
          "BOCAIUVA/MG",
          "UBA/MG",
          "SAO FRANCISCO/MG",
          "JEQUIE/BA",
          "RESENDE/RJ",
          "IBOTIRAMA/BA",
          "MINAS NOVAS/MG",
          "IRECE/BA",
          "TUPA/SP",
          "VACARIA/RS",
          "BARBACENA/MG",
          "BARRA MANSA/RJ",
          "LAGES/SC",
          "UBATA/BA",
          "BALNEARIO PICARRAS/SC",
          "PONTA PORA/MS",
          "LINHARES/ES",
          "MACEIO/AL",
          "PATOS/PB",
          "PARANAVAI/PR",
          "VALPARAISO DE GOIAS/GO",
          "ILHEUS/BA",
          "PATOS DE MINAS/MG",
          "PARATI/RJ",
          "MEDINA/MG",
          "GARANHUNS/PE",
          "PENEDO/AL",
          "ALEM PARAIBA/MG",
          "PASSO FUNDO/RS",
          "GRAVATAI/RS",
          "MARECHAL CANDIDO RONDON/PR",
          "SANTA MARIA/RS",
          "FATIMA DO SUL/MS",
          "RIO VERDE/GO",
          "ROLANDIA/PR",
          "SAO JOAO DEL REI/MG",
          "GOIOERE/PR",
          "CORINTO/MG",
          "SAO JOAO EVANGELISTA/MG",
          "IVINHEMA/MS",
          "JUAZEIRO DO NORTE/CE",
          "PORTO SEGURO/BA",
          "TAIOBEIRAS/MG",
          "CRUZ DAS ALMAS/BA",
          "BOTUCATU/SP",
          "SENHOR DO BONFIM/BA",
          "ITAOBIM/MG",
          "SANTO ESTEVAO/BA",
          "BARRA VELHA/SC",
          "BOM JESUS DA LAPA/BA",
          "DIAMANTINA/MG",
          "RIO DO SUL/SC",
          "IVAIPORA/PR",
          "ARACAJU/SE",
          "VOLTA REDONDA/RJ",
          "XIQUE-XIQUE/BA",
          "UBIRATA/PR",
          "PAU DOS FERROS/RN",
          "PATROCINIO/MG",
          "POCOES/BA",
          "VISCONDE DO RIO BRANCO/MG",
          "PETROLINA/PE",
          "MARIANA/MG",
          "BATAGUASSU/MS",
          "PORTO UNIAO/SC",
          "ITAPETINGA/BA",
          "EUCLIDES DA CUNHA/BA",
          "CAMPINA GRANDE/PB",
          "MARIBONDO/AL",
          "CORNELIO PROCOPIO/PR",
          "MURIAE/MG",
          "JOACABA/SC",
          "SALINAS/MG",
          "SANTA ROSA/RS",
          "SALGUEIRO/PE",
          "JOAO PESSOA/PB",
          "MINEIROS/GO",
          "JACOBINA/BA",
          "CACADOR/SC",
          "MILAGRES/BA",
          "ITUIUTABA/MG",
          "LOANDA/PR",
          "NOVA FRIBURGO/RJ",
          "JUAZEIRO/BA",
          "PALMAS/PR",
          "VALENCA/BA",
          "CAJAZEIRAS/PB",
          "TRES RIOS/RJ",
          "SAO JOAO DO PARAISO/MG",
          "ESTANCIA/SE",
          "ESPINOSA/MG",
          "MARAVILHA/SC",
          "TERESINA/PI",
          "CANSANCAO/BA",
          "EXU/PE",
          "IPIRA/BA",
          "ITAPEMA/SC",
          "ITAJUBA/MG",
          "ANGRA DOS REIS/RJ",
          "MARILIA/SP",
          "TAPIRA/PR",
          "RIBEIRA DO POMBAL/BA",
          "DIVINOPOLIS/MG",
          "BRASILIA DE MINAS/MG",
          "SERRINHA/BA",
          "INHAMBUPE/BA",
          "RIO CASCA/MG",
          "PEDRO CANARIO/ES",
          "IGUATU/CE",
          "POMBAL/PB",
          "ICO/CE",
          "SANTO ANGELO/RS",
          "SANTA MARIA DO SUACUI/MG",
          "IBICARAI/BA",
          "ARCOS/MG",
          "TUCANO/BA",
          "CRATO/CE",
          "CRICIUMA/SC",
          "SAO MATEUS DO SUL/PR",
          "ASSIS CHATEAUBRIAND/PR",
          "PORTEIRINHA/MG",
          "BARREIRAS/BA",
          "CATALAO/GO",
          "MAFRA/SC",
          "JACUTINGA/MG",
          "JESUITAS/PR",
          "IPORA/PR",
          "PORTO VELHO/RO",
          "LARANJEIRAS DO SUL/PR",
          "ITACARE/BA",
          "GOVERNADOR VALADARES/MG",
          "CAMBARA/PR",
          "VIDEIRA/SC",
          "OURO FINO/MG",
          "OURO PRETO/MG",
          "NOVO HAMBURGO/RS",
          "NAVIRAI/MS",
          "MEDEIROS NETO/BA",
          "COLIDER/MT",
          "CAMPO BELO/MG",
          "BARRA DO PIRAI/RJ",
          "IMBITUBA/SC",
          "IPUPIARA/BA",
          "BANDEIRANTES/PR",
          "VASSOURAS/RJ",
          "JEQUITINHONHA/MG",
          "CRATEUS/CE",
          "VARZEA DA PALMA/MG",
          "CAPELINHA/MG",
          "TIJUCAS/SC",
          "MANTENA/MG",
          "URANDI/BA",
          "LAGUNA/SC",
          "MIRANDA/MS",
          "JANAUBA/MG",
          "QUEIMADAS/BA",
          "CARATINGA/MG",
          "PRADO/BA",
          "LAJEDO/PE",
          "ICONHA/ES",
          "NOVA ESPERANCA/PR",
          "BATAIPORA/MS",
          "SAO MIGUEL D'OESTE/SC",
          "ITANHEM/BA",
          "MONTALVANIA/MG",
          "CASSIA/MG",
          "CACHOEIRO DE ITAPEMIRIM/ES",
          "MOMBACA/CE",
          "SAO LEOPOLDO/RS",
          "SERTANIA/PE",
          "SANTO ANTONIO DE PADUA/RJ",
          "OLIVEIRA/MG",
          "SANTA MARIANA/PR",
          "NOVA LONDRINA/PR",
          "PARA DE MINAS/MG",
          "CARANDAI/MG",
          "PALMEIRA DOS INDIOS/AL",
          "PALMAS/TO",
          "CRUZILIA/MG",
          "PARAISOPOLIS/MG",
          "CARAZINHO/RS",
          "NOVA ALVORADA DO SUL/MS",
          "NEPOMUCENO/MG",
          "OLIVEIRA DOS BREJINHOS/BA",
          "ADAMANTINA/SP",
          "FORMOSA DO OESTE/PR",
          "PARANAIBA/MS",
          "SANTO ANTONIO DE JESUS/BA",
          "GANDU/BA",
          "SANTA CECILIA/SC",
          "CARMO DO PARANAIBA/MG",
          "SERRA TALHADA/PE",
          "GLORIA DE DOURADOS/MS",
          "FRUTAL/MG",
          "POMPEIA/SP",
          "MIRABELA/MG",
          "UNIAO DA VITORIA/PR",
          "ITABERABA/BA",
          "MARMELEIRO/PR",
          "ITAMARAJU/BA",
          "ITANHANDU/MG",
          "TAUA/CE",
          "RAUL SOARES/MG",
          "QUIXADA/CE",
          "PROPRIA/SE",
          "ITUTINGA/MG",
          "JACIARA/MT",
          "ANDIRA/PR",
          "BELEM/PA",
          "JANDAIA DO SUL/PR",
          "BARROSO/MG",
          "UIRAUNA/PB",
          "ARARANGUA/SC",
          "POUSO ALEGRE/MG",
          "LUIS EDUARDO MAGALHAES/BA",
          "JOAO PINHEIRO/MG",
          "LAGARTO/SE",
          "ITABAIANA/SE",
          "RIO GRANDE/RS",
          "BRASOPOLIS/MG",
          "RIO BRILHANTE/MS",
          "INHAPIM/MG",
          "IPATINGA/MG",
          "INDIAROBA/SE",
          "MIGUEL CALMON/BA",
          "SOUSA/PB",
          "RIO POMBA/MG",
          "ARACI/BA",
          "CAXAMBU/MG",
          "IRAQUARA/BA",
          "PINHALZINHO/SC",
          "JANIOPOLIS/PR",
          "PARACATU/MG",
          "PARAIBA DO SUL/RJ",
          "DEODAPOLIS/MS",
          "CUSTODIA/PE",
          "SAO MIGUEL DOS CAMPOS/AL",
          "TIMBO/SC",
          "JAGUARIBE/CE",
          "BAURU/SP",
          "TOBIAS BARRETO/SE",
          "MANHUMIRIM/MG",
          "PELOTAS/RS",
          "XANXERE/SC",
          "ITORORO/BA",
          "SAO JOSE DO EGITO/PE",
          "LEOPOLDINA/MG",
          "UBAITABA/BA",
          "LUCELIA/SP",
          "RUY BARBOSA/BA",
          "PIRITIBA/BA",
          "TRES DE MAIO/RS",
          "SAO LUIS/MA",
          "CONGONHAS/MG",
          "SAO JERONIMO/RS",
          "JI-PARANA/RO",
          "SAO GOTARDO/MG",
          "BARRA DO MENDES/BA",
          "ARARIPINA/PE",
          "POSSE/GO",
          "SAO GABRIEL DO OESTE/MS",
          "SETE QUEDAS/MS",
          "SOBRAL/CE",
          "CANOINHAS/SC",
          "ITAGUAI/RJ",
          "PIMENTA BUENO/RO",
          "FORMIGA/MG",
          "FORMOSA/GO",
          "ALAGOINHAS/BA",
          "ALCOBACA/BA",
          "OSVALDO CRUZ/SP",
          "SARANDI/RS",
          "CANDEIAS/MG",
          "GOVERNADOR MANGABEIRA/BA",
          "PICOS/PI",
          "CAMPOS DOS GOYTACAZES/RJ",
          "MONTE SANTO/BA",
          "ITATIAIA/RJ",
          "ESPLANADA/BA",
          "ENTRE RIOS DE MINAS/MG",
          "AGUA CLARA/MS",
          "PEDRA AZUL/MG",
          "CENTRAL/BA",
          "ITABIRA/MG",
          "GETULIO VARGAS/RS",
          "FRANCISCO SA/MG",
          "CONCEICAO DO COITE/BA",
          "FREDERICO WESTPHALEN/RS",
          "RIBAS DO RIO PARDO/MS",
          "GASPAR/SC",
          "SANTA HELENA DE GOIAS/GO",
          "ITABAIANA/PB",
          "MASSARANDUBA/SC",
          "LUCAS DO RIO VERDE/MT",
          "PASSA QUATRO/MG",
          "RIACHO DE SANTANA/BA",
          "OURICURI/PE",
          "NANUQUE/MG",
          "SANTANA DO IPANEMA/AL",
          "NAZARENO/MG",
          "MONTEIRO/PB",
          "ENGENHEIRO BELTRAO/PR",
          "ITAUNA/MG",
          "QUIPAPA/PE",
          "ITAPERUNA/RJ",
          "INDAIAL/SC",
          "RIO DAS OSTRAS/RJ",
          "MATO VERDE/MG",
          "CRUZEIRO DO OESTE/PR",
          "JEREMOABO/BA",
          "IJUI/RS",
          "CRISTALINA/GO",
          "PARANAGUA/PR",
          "MANHUACU/MG",
          "DRACENA/SP",
          "IGUATEMI/MS",
          "FLORESTA/PE",
          "DOIS VIZINHOS/PR",
          "OSORIO/RS",
          "TIMBAUBA/PE",
          "SAO LOURENCO/MG",
          "ARIQUEMES/RO",
          "BUENOPOLIS/MG",
          "ALEGRE/ES",
          "CANINDE/CE",
          "CARANGOLA/MG",
          "TAPEJARA/PR",
          "CABACEIRAS DO PARAGUACU/BA",
          "SONORA/MS",
          "SINOP/MT",
          "TUPI PAULISTA/SP",
          "AFOGADOS DA INGAZEIRA/PE",
          "BAMBUI/MG",
          "CARMO DA CACHOEIRA/MG",
          "CACERES/MT",
          "SAO PAULO/SP",
          "UNIAO DOS PALMARES/AL",
          "ANDRELANDIA/MG",
          "ACOPIARA/CE",
          "SORRISO/MT",
          "BARRA DO GARCAS/MT",
          "ANAURILANDIA/MS",
          "CAPIM GROSSO/BA",
          "RIO VERDE DE MATO GROSSO/MS",
          "LIMOEIRO/PE",
          "AGUA BOA/MG",
          "CRISTALANDIA DO PIAUI/PI",
          "LAGOA DOURADA/MG",
          "BENTO GONCALVES/RS",
          "LAGOA FORMOSA/MG",
          "GOIATUBA/GO",
          "COSTA RICA/MS",
          "VARZEA GRANDE/MT",
          "BOM DESPACHO/MG",
          "PEABIRU/PR",
          "ALTA FLORESTA/MT",
          "SANTA MARIA DE ITABIRA/MG",
          "CARMO DA MATA/MG",
          "CORRENTINA/BA",
          "GUARABIRA/PB",
          "GUARANIACU/PR",
          "DOM CAVATI/MG",
          "SANTO ANTONIO DO AMPARO/MG",
          "CAMACARI/BA",
          "GURUPI/TO",
          "MONTE AZUL/MG",
          "LAJEADO/RS",
          "NILOPOLIS/RJ",
          "CURRAIS NOVOS/RN",
          "APARECIDA DE GOIANIA/GO",
          "PRIMAVERA DO LESTE/MT",
          "ALTO PARANA/PR",
          "SALTO DO ITARARE/PR",
          "CANHOTINHO/PE",
          "IBIA/MG",
          "MUNDO NOVO/BA",
          "ARCOVERDE/PE",
          "SANTANA DO LIVRAMENTO/RS",
          "SANTA MARIA DA VITORIA/BA",
          "PINDAI/BA",
          "AFRANIO/PE",
          "PALMEIRA DAS MISSOES/RS",
          "AMARANTE/PI",
          "PERDOES/MG",
          "LUZIANIA/GO",
          "CAMPO VERDE/MT",
          "BARRO/CE",
          "BRASILANDIA/MS",
          "CIPO/BA",
          "CICERO DANTAS/BA",
          "MACAE/RJ",
          "GILBUES/PI",
          "CHAPADAO DO SUL/MS",
          "XAXIM/SC",
          "SAO JOSE DO JACUIPE/BA",
          "BOM JESUS DO NORTE/ES",
          "SUME/PB",
          "SAO JOAO DO IVAI/PR",
          "APARECIDA DO TABOADO/MS",
          "BOM SUCESSO/MG",
          "LIMOEIRO DO NORTE/CE",
          "IBITITA/BA",
          "FIGUEIRA/PR",
          "FLORIANO/PI",
          "ARAUCARIA/PR",
          "PRATA/MG",
          "CONCORDIA/SC",
          "PIRES DO RIO/GO",
          "ANGUERA/BA",
          "CAICO/RN",
          "FLORES/PE",
          "ELOI MENDES/MG",
          "MONTE SANTO DE MINAS/MG",
          "CAMPO MAIOR/PI",
          "ALTEROSA/MG",
          "SANTANA DA VARGEM/MG",
          "POCO FUNDO/MG",
          "FRONTEIRA DOS VALES/MG",
          "SAO THOME DAS LETRAS/MG",
          "FERVEDOURO/MG",
          "ITAGIMIRIM/BA",
          "GARUVA/SC",
          "MORRINHOS/GO",
          "ITAGUACU DA BAHIA/BA",
          "SAO SEBASTIAO DO PARAISO/MG",
          "ITAGUARA/MG",
          "PETROLANDIA/PE",
          "ANDRADAS/MG",
          "PATO BRANCO/PR",
          "FRANCISCO BELTRAO/PR",
          "CAMPOS GERAIS/MG",
          "LAMBARI/MG",
          "ALVORADA DO NORTE/GO",
          "ITAPEVA/SP",
          "PLANURA/MG",
          "CAMAQUA/RS",
          "POCOS DE CALDAS/MG",
          "PEDRALVA/MG",
          "SANTA RITA DO SAPUCAI/MG",
          "ANDRADINA/SP",
          "REMANSO/BA",
          "TELEMACO BORBA/PR",
          "MIRASSOL D'OESTE/MT",
          "CAMPESTRE/MG",
          "ITAMBACURI/MG",
          "CAMPANHA/MG",
          "ITABERA/SP",
          "ESPERA FELIZ/MG",
          "LEBON REGIS/SC",
          "CAMBUQUIRA/MG",
          "TEIXEIRA SOARES/PR",
          "MONTE ALEGRE DE MINAS/MG",
          "MACHADO/MG",
          "GUARAI/TO",
          "WAGNER/BA",
          "CONCEICAO DA APARECIDA/MG",
          "CABROBO/PE",
          "CARUARU/PE",
          "IPORA/GO",
          "CARNAUBAL/CE",
          "ABELARDO LUZ/SC",
          "CARMO DO RIO CLARO/MG",
          "CRUZ ALTA/RS",
          "CORONEL VIVIDA/PR",
          "CORUMBAIBA/GO",
          "NOVA MUTUM/MT",
          "PARAGUACU/MG",
          "CRISTINA/MG",
          "CRISTINO CASTRO/PI",
          "RIO LARGO/AL",
          "COLONIA DO GURGUEIA/PI",
          "IGUATAMA/MG",
          "SIQUEIRA CAMPOS/PR",
          "CASSILANDIA/MS",
          "TIMOTEO/MG",
          "TRES PONTAS/MG",
          "PIRANGUINHO/MG",
          "SAO JOAQUIM/SC",
          "PIRANHAS/GO",
          "SOMBRIO/SC",
          "TRES CORACOES/MG",
          "IMPERATRIZ/MA",
          "SAO JOSE DO BELMONTE/PE",
          "ACAILANDIA/MA",
          "BARRA/BA",
          "MAE DO RIO/PA",
          "PIRIPIRI/PI",
          "COXIM/MS",
          "VILHENA/RO",
          "IACU/BA",
          "CAMPO DO MEIO/MG",
          "GUAXUPE/MG",
          "URUACU/GO",
          "PARAISO DO TOCANTINS/TO",
          "PORANGATU/GO",
          "BORDA DA MATA/MG",
          "RIACHAO DO JACUIPE/BA",
          "CURIUVA/PR",
          "BAGE/RS",
          "MUZAMBINHO/MG",
          "ALFENAS/MG",
          "IUNA/ES",
          "GUARAPARI/ES",
          "PARNAIBA/PI",
          "RUSSAS/CE",
          "VITORIA DE SANTO ANTAO/PE",
          "BOA ESPERANCA/MG",
          "ITAETE/BA",
          "ITAGI/BA",
          "CACHOEIRAS DE MACACU/RJ",
          "CAMPINAS/SP",
          "SOUTO SOARES/BA",
          "MARCIONILIO SOUZA/BA",
          "SURUBIM/PE",
          "MADALENA/CE",
          "URUGUAIANA/RS",
          "PINTADAS/BA",
          "HELIODORA/MG",
          "ROSARIO OESTE/MT",
          "ARAGUAINA/TO",
          "IRAI/RS",
          "IBIPEBA/BA",
          "IRAMAIA/BA",
          "URUCUCA/BA",
          "AREADO/MG",
          "IBAITI/PR",
          "IPUEIRAS/CE",
          "ROSARIO DO SUL/RS",
          "SERRANIA/MG",
          "PINHALAO/PR",
          "SIMPLICIO MENDES/PI",
          "PIRENOPOLIS/GO",
          "GRAVATA/PE",
          "BARRACAO/RS",
          "GARIBALDI/RS",
          "SAO JOSE DOS CAMPOS/SP",
          "PARAOPEBA/MG",
          "NOSSA SENHORA DAS DORES/SE",
          "AGRESTINA/PE",
          "AGUA BRANCA/PI",
          "BAIXA GRANDE/BA",
          "NOVA ERECHIM/SC",
          "JULIO DE CASTILHOS/RS",
          "VITORIA DO MEARIM/MA",
          "SAO CARLOS/SC",
          "NONOAI/RS",
          "CAPAO BONITO/SP",
          "TIANGUA/CE",
          "NAZARE DA MATA/PE",
          "SANTA CRUZ DO SUL/RS",
          "BIRIGUI/SP",
          "ALEGRETE/RS",
          "PONTE SERRADA/SC",
          "MUQUI/ES",
          "CARMO DE MINAS/MG",
          "CORONEL FABRICIANO/MG",
          "PAPANDUVA/SC",
          "PALMITOS/SC",
          "BARRACAO/PR",
          "CATENDE/PE",
          "OURO BRANCO/MG",
          "SAO JOSE DOS QUATRO MARCOS/MT",
          "JATI/CE",
          "SAO JOSE DO BARREIRO/SP",
          "JARAGUA/GO",
          "JAPIRA/PR",
          "OEIRAS/PI",
          "TOMAZINA/PR",
          "BARAO DE ANTONINA/SP",
          "ACUCENA/MG",
          "PORTO NACIONAL/TO",
          "BELEM DE SAO FRANCISCO/PE",
          "SAO LUIS DE MONTES BELOS/GO",
          "DOM PEDRITO/RS",
          "ALTO TAQUARI/MT",
          "MONTE BELO/MG",
          "ITAPORANGA/SP",
          "ESTREITO/MA",
          "ITAMOGI/MG",
          "FRECHEIRINHA/CE",
          "PEDRA BRANCA/CE",
          "SERRA BRANCA/PB",
          "TUPACIGUARA/MG",
          "ITAPIPOCA/CE",
          "MIRANDA DO NORTE/MA",
          "FARROUPILHA/RS",
          "BOM JESUS DE GOIAS/GO",
          "PAULISTANA/PI",
          "MORPARA/BA",
          "SANTA INES/MA",
          "MIRANORTE/TO",
          "REDENCAO DO GURGUEIA/PI",
          "PLANALTINA/GO",
          "BOM JESUS/PI",
          "SANTA MARIA DA BOA VISTA/PE",
          "ARROIO DOS RATOS/RS"
         ],
         "xaxis": "x",
         "y": [
          37,
          34,
          31,
          31,
          30,
          29,
          29,
          29,
          27,
          25,
          24,
          24,
          23,
          23,
          22,
          22,
          21,
          20,
          20,
          20,
          20,
          20,
          19,
          19,
          19,
          19,
          18,
          18,
          17,
          17,
          16,
          16,
          16,
          16,
          16,
          16,
          16,
          16,
          16,
          16,
          15,
          15,
          15,
          15,
          15,
          15,
          15,
          15,
          14,
          14,
          14,
          14,
          14,
          14,
          14,
          14,
          14,
          14,
          13,
          13,
          13,
          13,
          13,
          13,
          13,
          13,
          13,
          13,
          13,
          13,
          13,
          13,
          13,
          13,
          13,
          13,
          13,
          13,
          12,
          12,
          12,
          12,
          12,
          12,
          12,
          12,
          12,
          12,
          12,
          12,
          12,
          12,
          12,
          12,
          12,
          12,
          12,
          12,
          12,
          12,
          11,
          11,
          11,
          11,
          11,
          11,
          11,
          11,
          11,
          11,
          11,
          11,
          11,
          11,
          11,
          11,
          11,
          11,
          11,
          11,
          11,
          11,
          10,
          10,
          10,
          10,
          10,
          10,
          10,
          10,
          10,
          10,
          10,
          10,
          10,
          10,
          10,
          10,
          10,
          10,
          10,
          10,
          10,
          10,
          10,
          10,
          10,
          10,
          10,
          10,
          10,
          9,
          9,
          9,
          9,
          9,
          9,
          9,
          9,
          9,
          9,
          9,
          9,
          9,
          9,
          9,
          9,
          9,
          9,
          9,
          9,
          9,
          9,
          9,
          9,
          9,
          9,
          9,
          8,
          8,
          8,
          8,
          8,
          8,
          8,
          8,
          8,
          8,
          8,
          8,
          8,
          8,
          8,
          8,
          8,
          8,
          8,
          8,
          8,
          8,
          8,
          8,
          8,
          8,
          8,
          8,
          8,
          8,
          8,
          8,
          8,
          8,
          8,
          8,
          7,
          7,
          7,
          7,
          7,
          7,
          7,
          7,
          7,
          7,
          7,
          7,
          7,
          7,
          7,
          7,
          7,
          7,
          7,
          7,
          7,
          7,
          7,
          7,
          7,
          7,
          7,
          7,
          7,
          7,
          7,
          7,
          7,
          7,
          7,
          7,
          7,
          7,
          7,
          7,
          6,
          6,
          6,
          6,
          6,
          6,
          6,
          6,
          6,
          6,
          6,
          6,
          6,
          6,
          6,
          6,
          6,
          6,
          6,
          6,
          6,
          6,
          6,
          6,
          6,
          6,
          6,
          6,
          6,
          6,
          6,
          6,
          6,
          6,
          6,
          6,
          6,
          6,
          6,
          6,
          6,
          6,
          6,
          6,
          6,
          6,
          6,
          6,
          6,
          6,
          6,
          6,
          6,
          6,
          6,
          6,
          6,
          6,
          6,
          6,
          6,
          6,
          5,
          5,
          5,
          5,
          5,
          5,
          5,
          5,
          5,
          5,
          5,
          5,
          5,
          5,
          5,
          5,
          5,
          5,
          5,
          5,
          5,
          5,
          5,
          5,
          5,
          5,
          5,
          5,
          5,
          5,
          5,
          5,
          5,
          5,
          5,
          5,
          5,
          5,
          5,
          5,
          5,
          5,
          5,
          5,
          5,
          5,
          5,
          5,
          5,
          5,
          5,
          5,
          5,
          5,
          5,
          4,
          4,
          4,
          4,
          4,
          4,
          4,
          4,
          4,
          4,
          4,
          4,
          4,
          4,
          4,
          4,
          4,
          4,
          4,
          4,
          4,
          4,
          4,
          4,
          4,
          4,
          4,
          4,
          4,
          4,
          4,
          4,
          4,
          4,
          4,
          4,
          4,
          4,
          4,
          4,
          4,
          4,
          4,
          4,
          4,
          4,
          4,
          4,
          4,
          4,
          4,
          4,
          4,
          4,
          4,
          4,
          4,
          4,
          4,
          4,
          4,
          3,
          3,
          3,
          3,
          3,
          3,
          3,
          3,
          3,
          3,
          3,
          3,
          3,
          3,
          3,
          3,
          3,
          3,
          3,
          3,
          3,
          3,
          3,
          3,
          3,
          3,
          3,
          3,
          3,
          3,
          3,
          3,
          3,
          3,
          3,
          3,
          3,
          3,
          3,
          3,
          3,
          3,
          3,
          3,
          3,
          3,
          3,
          3,
          3,
          3,
          3,
          3,
          3,
          3,
          3,
          3,
          3,
          3,
          3,
          3,
          3,
          3,
          3,
          3,
          3,
          2,
          2,
          2,
          2,
          2,
          2,
          2,
          2,
          2,
          2,
          2,
          2,
          2,
          2,
          2,
          2,
          2,
          2,
          2,
          2,
          2,
          2,
          2,
          2,
          2,
          2,
          2,
          2,
          2,
          2,
          2,
          2,
          2,
          2,
          2,
          2,
          2,
          2,
          2,
          2,
          2,
          2,
          2,
          2,
          2,
          2,
          2,
          2,
          2,
          2,
          2,
          2,
          2,
          2,
          2,
          2,
          2,
          2,
          2,
          2,
          2,
          2,
          2,
          2,
          2,
          2,
          2,
          2,
          2,
          2,
          2,
          2,
          2,
          2,
          2,
          2,
          2,
          2,
          2,
          2,
          2,
          2,
          2,
          2,
          2,
          2,
          2,
          2,
          2,
          2,
          2,
          2,
          2,
          2,
          2,
          2,
          2,
          2,
          2,
          1,
          1,
          1,
          1,
          1,
          1,
          1,
          1,
          1,
          1,
          1,
          1,
          1,
          1,
          1,
          1,
          1,
          1,
          1,
          1,
          1,
          1,
          1,
          1,
          1,
          1,
          1,
          1,
          1,
          1,
          1,
          1,
          1,
          1,
          1,
          1,
          1,
          1,
          1,
          1,
          1,
          1,
          1,
          1,
          1,
          1,
          1,
          1,
          1,
          1,
          1,
          1,
          1,
          1,
          1,
          1,
          1,
          1,
          1,
          1,
          1,
          1,
          1,
          1,
          1,
          1,
          1,
          1,
          1,
          1,
          1,
          1,
          1,
          1,
          1,
          1,
          1,
          1,
          1,
          1,
          1,
          1,
          1,
          1,
          1,
          1,
          1,
          1,
          1
         ],
         "yaxis": "y"
        }
       ],
       "layout": {
        "barmode": "relative",
        "legend": {
         "title": {
          "text": "ponto_destino_viagem"
         },
         "tracegroupgap": 0
        },
        "template": {
         "data": {
          "bar": [
           {
            "error_x": {
             "color": "#2a3f5f"
            },
            "error_y": {
             "color": "#2a3f5f"
            },
            "marker": {
             "line": {
              "color": "white",
              "width": 0.5
             },
             "pattern": {
              "fillmode": "overlay",
              "size": 10,
              "solidity": 0.2
             }
            },
            "type": "bar"
           }
          ],
          "barpolar": [
           {
            "marker": {
             "line": {
              "color": "white",
              "width": 0.5
             },
             "pattern": {
              "fillmode": "overlay",
              "size": 10,
              "solidity": 0.2
             }
            },
            "type": "barpolar"
           }
          ],
          "carpet": [
           {
            "aaxis": {
             "endlinecolor": "#2a3f5f",
             "gridcolor": "#C8D4E3",
             "linecolor": "#C8D4E3",
             "minorgridcolor": "#C8D4E3",
             "startlinecolor": "#2a3f5f"
            },
            "baxis": {
             "endlinecolor": "#2a3f5f",
             "gridcolor": "#C8D4E3",
             "linecolor": "#C8D4E3",
             "minorgridcolor": "#C8D4E3",
             "startlinecolor": "#2a3f5f"
            },
            "type": "carpet"
           }
          ],
          "choropleth": [
           {
            "colorbar": {
             "outlinewidth": 0,
             "ticks": ""
            },
            "type": "choropleth"
           }
          ],
          "contour": [
           {
            "colorbar": {
             "outlinewidth": 0,
             "ticks": ""
            },
            "colorscale": [
             [
              0,
              "#0d0887"
             ],
             [
              0.1111111111111111,
              "#46039f"
             ],
             [
              0.2222222222222222,
              "#7201a8"
             ],
             [
              0.3333333333333333,
              "#9c179e"
             ],
             [
              0.4444444444444444,
              "#bd3786"
             ],
             [
              0.5555555555555556,
              "#d8576b"
             ],
             [
              0.6666666666666666,
              "#ed7953"
             ],
             [
              0.7777777777777778,
              "#fb9f3a"
             ],
             [
              0.8888888888888888,
              "#fdca26"
             ],
             [
              1,
              "#f0f921"
             ]
            ],
            "type": "contour"
           }
          ],
          "contourcarpet": [
           {
            "colorbar": {
             "outlinewidth": 0,
             "ticks": ""
            },
            "type": "contourcarpet"
           }
          ],
          "heatmap": [
           {
            "colorbar": {
             "outlinewidth": 0,
             "ticks": ""
            },
            "colorscale": [
             [
              0,
              "#0d0887"
             ],
             [
              0.1111111111111111,
              "#46039f"
             ],
             [
              0.2222222222222222,
              "#7201a8"
             ],
             [
              0.3333333333333333,
              "#9c179e"
             ],
             [
              0.4444444444444444,
              "#bd3786"
             ],
             [
              0.5555555555555556,
              "#d8576b"
             ],
             [
              0.6666666666666666,
              "#ed7953"
             ],
             [
              0.7777777777777778,
              "#fb9f3a"
             ],
             [
              0.8888888888888888,
              "#fdca26"
             ],
             [
              1,
              "#f0f921"
             ]
            ],
            "type": "heatmap"
           }
          ],
          "heatmapgl": [
           {
            "colorbar": {
             "outlinewidth": 0,
             "ticks": ""
            },
            "colorscale": [
             [
              0,
              "#0d0887"
             ],
             [
              0.1111111111111111,
              "#46039f"
             ],
             [
              0.2222222222222222,
              "#7201a8"
             ],
             [
              0.3333333333333333,
              "#9c179e"
             ],
             [
              0.4444444444444444,
              "#bd3786"
             ],
             [
              0.5555555555555556,
              "#d8576b"
             ],
             [
              0.6666666666666666,
              "#ed7953"
             ],
             [
              0.7777777777777778,
              "#fb9f3a"
             ],
             [
              0.8888888888888888,
              "#fdca26"
             ],
             [
              1,
              "#f0f921"
             ]
            ],
            "type": "heatmapgl"
           }
          ],
          "histogram": [
           {
            "marker": {
             "pattern": {
              "fillmode": "overlay",
              "size": 10,
              "solidity": 0.2
             }
            },
            "type": "histogram"
           }
          ],
          "histogram2d": [
           {
            "colorbar": {
             "outlinewidth": 0,
             "ticks": ""
            },
            "colorscale": [
             [
              0,
              "#0d0887"
             ],
             [
              0.1111111111111111,
              "#46039f"
             ],
             [
              0.2222222222222222,
              "#7201a8"
             ],
             [
              0.3333333333333333,
              "#9c179e"
             ],
             [
              0.4444444444444444,
              "#bd3786"
             ],
             [
              0.5555555555555556,
              "#d8576b"
             ],
             [
              0.6666666666666666,
              "#ed7953"
             ],
             [
              0.7777777777777778,
              "#fb9f3a"
             ],
             [
              0.8888888888888888,
              "#fdca26"
             ],
             [
              1,
              "#f0f921"
             ]
            ],
            "type": "histogram2d"
           }
          ],
          "histogram2dcontour": [
           {
            "colorbar": {
             "outlinewidth": 0,
             "ticks": ""
            },
            "colorscale": [
             [
              0,
              "#0d0887"
             ],
             [
              0.1111111111111111,
              "#46039f"
             ],
             [
              0.2222222222222222,
              "#7201a8"
             ],
             [
              0.3333333333333333,
              "#9c179e"
             ],
             [
              0.4444444444444444,
              "#bd3786"
             ],
             [
              0.5555555555555556,
              "#d8576b"
             ],
             [
              0.6666666666666666,
              "#ed7953"
             ],
             [
              0.7777777777777778,
              "#fb9f3a"
             ],
             [
              0.8888888888888888,
              "#fdca26"
             ],
             [
              1,
              "#f0f921"
             ]
            ],
            "type": "histogram2dcontour"
           }
          ],
          "mesh3d": [
           {
            "colorbar": {
             "outlinewidth": 0,
             "ticks": ""
            },
            "type": "mesh3d"
           }
          ],
          "parcoords": [
           {
            "line": {
             "colorbar": {
              "outlinewidth": 0,
              "ticks": ""
             }
            },
            "type": "parcoords"
           }
          ],
          "pie": [
           {
            "automargin": true,
            "type": "pie"
           }
          ],
          "scatter": [
           {
            "fillpattern": {
             "fillmode": "overlay",
             "size": 10,
             "solidity": 0.2
            },
            "type": "scatter"
           }
          ],
          "scatter3d": [
           {
            "line": {
             "colorbar": {
              "outlinewidth": 0,
              "ticks": ""
             }
            },
            "marker": {
             "colorbar": {
              "outlinewidth": 0,
              "ticks": ""
             }
            },
            "type": "scatter3d"
           }
          ],
          "scattercarpet": [
           {
            "marker": {
             "colorbar": {
              "outlinewidth": 0,
              "ticks": ""
             }
            },
            "type": "scattercarpet"
           }
          ],
          "scattergeo": [
           {
            "marker": {
             "colorbar": {
              "outlinewidth": 0,
              "ticks": ""
             }
            },
            "type": "scattergeo"
           }
          ],
          "scattergl": [
           {
            "marker": {
             "colorbar": {
              "outlinewidth": 0,
              "ticks": ""
             }
            },
            "type": "scattergl"
           }
          ],
          "scattermapbox": [
           {
            "marker": {
             "colorbar": {
              "outlinewidth": 0,
              "ticks": ""
             }
            },
            "type": "scattermapbox"
           }
          ],
          "scatterpolar": [
           {
            "marker": {
             "colorbar": {
              "outlinewidth": 0,
              "ticks": ""
             }
            },
            "type": "scatterpolar"
           }
          ],
          "scatterpolargl": [
           {
            "marker": {
             "colorbar": {
              "outlinewidth": 0,
              "ticks": ""
             }
            },
            "type": "scatterpolargl"
           }
          ],
          "scatterternary": [
           {
            "marker": {
             "colorbar": {
              "outlinewidth": 0,
              "ticks": ""
             }
            },
            "type": "scatterternary"
           }
          ],
          "surface": [
           {
            "colorbar": {
             "outlinewidth": 0,
             "ticks": ""
            },
            "colorscale": [
             [
              0,
              "#0d0887"
             ],
             [
              0.1111111111111111,
              "#46039f"
             ],
             [
              0.2222222222222222,
              "#7201a8"
             ],
             [
              0.3333333333333333,
              "#9c179e"
             ],
             [
              0.4444444444444444,
              "#bd3786"
             ],
             [
              0.5555555555555556,
              "#d8576b"
             ],
             [
              0.6666666666666666,
              "#ed7953"
             ],
             [
              0.7777777777777778,
              "#fb9f3a"
             ],
             [
              0.8888888888888888,
              "#fdca26"
             ],
             [
              1,
              "#f0f921"
             ]
            ],
            "type": "surface"
           }
          ],
          "table": [
           {
            "cells": {
             "fill": {
              "color": "#EBF0F8"
             },
             "line": {
              "color": "white"
             }
            },
            "header": {
             "fill": {
              "color": "#C8D4E3"
             },
             "line": {
              "color": "white"
             }
            },
            "type": "table"
           }
          ]
         },
         "layout": {
          "annotationdefaults": {
           "arrowcolor": "#2a3f5f",
           "arrowhead": 0,
           "arrowwidth": 1
          },
          "autotypenumbers": "strict",
          "coloraxis": {
           "colorbar": {
            "outlinewidth": 0,
            "ticks": ""
           }
          },
          "colorscale": {
           "diverging": [
            [
             0,
             "#8e0152"
            ],
            [
             0.1,
             "#c51b7d"
            ],
            [
             0.2,
             "#de77ae"
            ],
            [
             0.3,
             "#f1b6da"
            ],
            [
             0.4,
             "#fde0ef"
            ],
            [
             0.5,
             "#f7f7f7"
            ],
            [
             0.6,
             "#e6f5d0"
            ],
            [
             0.7,
             "#b8e186"
            ],
            [
             0.8,
             "#7fbc41"
            ],
            [
             0.9,
             "#4d9221"
            ],
            [
             1,
             "#276419"
            ]
           ],
           "sequential": [
            [
             0,
             "#0d0887"
            ],
            [
             0.1111111111111111,
             "#46039f"
            ],
            [
             0.2222222222222222,
             "#7201a8"
            ],
            [
             0.3333333333333333,
             "#9c179e"
            ],
            [
             0.4444444444444444,
             "#bd3786"
            ],
            [
             0.5555555555555556,
             "#d8576b"
            ],
            [
             0.6666666666666666,
             "#ed7953"
            ],
            [
             0.7777777777777778,
             "#fb9f3a"
            ],
            [
             0.8888888888888888,
             "#fdca26"
            ],
            [
             1,
             "#f0f921"
            ]
           ],
           "sequentialminus": [
            [
             0,
             "#0d0887"
            ],
            [
             0.1111111111111111,
             "#46039f"
            ],
            [
             0.2222222222222222,
             "#7201a8"
            ],
            [
             0.3333333333333333,
             "#9c179e"
            ],
            [
             0.4444444444444444,
             "#bd3786"
            ],
            [
             0.5555555555555556,
             "#d8576b"
            ],
            [
             0.6666666666666666,
             "#ed7953"
            ],
            [
             0.7777777777777778,
             "#fb9f3a"
            ],
            [
             0.8888888888888888,
             "#fdca26"
            ],
            [
             1,
             "#f0f921"
            ]
           ]
          },
          "colorway": [
           "#636efa",
           "#EF553B",
           "#00cc96",
           "#ab63fa",
           "#FFA15A",
           "#19d3f3",
           "#FF6692",
           "#B6E880",
           "#FF97FF",
           "#FECB52"
          ],
          "font": {
           "color": "#2a3f5f"
          },
          "geo": {
           "bgcolor": "white",
           "lakecolor": "white",
           "landcolor": "white",
           "showlakes": true,
           "showland": true,
           "subunitcolor": "#C8D4E3"
          },
          "hoverlabel": {
           "align": "left"
          },
          "hovermode": "closest",
          "mapbox": {
           "style": "light"
          },
          "paper_bgcolor": "white",
          "plot_bgcolor": "white",
          "polar": {
           "angularaxis": {
            "gridcolor": "#EBF0F8",
            "linecolor": "#EBF0F8",
            "ticks": ""
           },
           "bgcolor": "white",
           "radialaxis": {
            "gridcolor": "#EBF0F8",
            "linecolor": "#EBF0F8",
            "ticks": ""
           }
          },
          "scene": {
           "xaxis": {
            "backgroundcolor": "white",
            "gridcolor": "#DFE8F3",
            "gridwidth": 2,
            "linecolor": "#EBF0F8",
            "showbackground": true,
            "ticks": "",
            "zerolinecolor": "#EBF0F8"
           },
           "yaxis": {
            "backgroundcolor": "white",
            "gridcolor": "#DFE8F3",
            "gridwidth": 2,
            "linecolor": "#EBF0F8",
            "showbackground": true,
            "ticks": "",
            "zerolinecolor": "#EBF0F8"
           },
           "zaxis": {
            "backgroundcolor": "white",
            "gridcolor": "#DFE8F3",
            "gridwidth": 2,
            "linecolor": "#EBF0F8",
            "showbackground": true,
            "ticks": "",
            "zerolinecolor": "#EBF0F8"
           }
          },
          "shapedefaults": {
           "line": {
            "color": "#2a3f5f"
           }
          },
          "ternary": {
           "aaxis": {
            "gridcolor": "#DFE8F3",
            "linecolor": "#A2B1C6",
            "ticks": ""
           },
           "baxis": {
            "gridcolor": "#DFE8F3",
            "linecolor": "#A2B1C6",
            "ticks": ""
           },
           "bgcolor": "white",
           "caxis": {
            "gridcolor": "#DFE8F3",
            "linecolor": "#A2B1C6",
            "ticks": ""
           }
          },
          "title": {
           "x": 0.05
          },
          "xaxis": {
           "automargin": true,
           "gridcolor": "#EBF0F8",
           "linecolor": "#EBF0F8",
           "ticks": "",
           "title": {
            "standoff": 15
           },
           "zerolinecolor": "#EBF0F8",
           "zerolinewidth": 2
          },
          "yaxis": {
           "automargin": true,
           "gridcolor": "#EBF0F8",
           "linecolor": "#EBF0F8",
           "ticks": "",
           "title": {
            "standoff": 15
           },
           "zerolinecolor": "#EBF0F8",
           "zerolinewidth": 2
          }
         }
        },
        "title": {
         "text": "Rotas com sentido a São Paulo em ABR/2022"
        },
        "xaxis": {
         "anchor": "y",
         "domain": [
          0,
          1
         ],
         "title": {
          "text": "Cidade de origem"
         }
        },
        "yaxis": {
         "anchor": "x",
         "domain": [
          0,
          1
         ],
         "title": {
          "text": "N° de bilhetes"
         }
        }
       }
      },
      "text/html": [
       "<div>                            <div id=\"4f8c3c75-b6a8-404c-9ca5-9369fec9e086\" class=\"plotly-graph-div\" style=\"height:525px; width:100%;\"></div>            <script type=\"text/javascript\">                require([\"plotly\"], function(Plotly) {                    window.PLOTLYENV=window.PLOTLYENV || {};                                    if (document.getElementById(\"4f8c3c75-b6a8-404c-9ca5-9369fec9e086\")) {                    Plotly.newPlot(                        \"4f8c3c75-b6a8-404c-9ca5-9369fec9e086\",                        [{\"alignmentgroup\":\"True\",\"hovertemplate\":\"ponto_destino_viagem=SAO PAULO/SP<br>Cidade de origem=%{x}<br>N\\u00b0 de bilhetes=%{y}<extra></extra>\",\"legendgroup\":\"SAO PAULO/SP\",\"marker\":{\"color\":\"#636efa\",\"pattern\":{\"shape\":\"\"}},\"name\":\"SAO PAULO/SP\",\"offsetgroup\":\"SAO PAULO/SP\",\"orientation\":\"v\",\"showlegend\":true,\"textposition\":\"auto\",\"x\":[\"CURITIBA/PR\",\"VITORIA DA CONQUISTA/BA\",\"RIO DE JANEIRO/RJ\",\"BRASILIA/DF\",\"LONDRINA/PR\",\"BELO HORIZONTE/MG\",\"GOIANIA/GO\",\"MARINGA/PR\",\"CASCAVEL/PR\",\"FOZ DO IGUACU/PR\",\"UBERLANDIA/MG\",\"JOINVILLE/SC\",\"CAMPO MOURAO/PR\",\"UBERABA/MG\",\"UMUARAMA/PR\",\"DOURADOS/MS\",\"PONTA GROSSA/PR\",\"FLORIANOPOLIS/SC\",\"TEOFILO OTONI/MG\",\"TEIXEIRA DE FREITAS/BA\",\"CAMPO GRANDE/MS\",\"MONTES CLAROS/MG\",\"CIANORTE/PR\",\"GUARAPUAVA/PR\",\"CUIABA/MT\",\"ITAJAI/SC\",\"BALNEARIO CAMBORIU/SC\",\"SALVADOR/BA\",\"VITORIA/ES\",\"MOSSORO/RN\",\"ALMENARA/MG\",\"NATAL/RN\",\"MEDIANEIRA/PR\",\"ANAPOLIS/GO\",\"GUAIRA/PR\",\"CALDAS NOVAS/GO\",\"NOVA ANDRADINA/MS\",\"ITUMBIARA/GO\",\"PADRE PARAISO/MG\",\"NOVA IGUACU/RJ\",\"FORTALEZA/CE\",\"ARAXA/MG\",\"GUANHAES/MG\",\"LAVRAS/MG\",\"PORTO ALEGRE/RS\",\"BLUMENAU/SC\",\"ITABUNA/BA\",\"VICOSA/MG\",\"PETROPOLIS/RJ\",\"ARAPIRACA/AL\",\"BETIM/MG\",\"TUBARAO/SC\",\"CABO FRIO/RJ\",\"PONTE NOVA/MG\",\"GUANAMBI/BA\",\"JATAI/GO\",\"CAXIAS DO SUL/RS\",\"SAO MATEUS/ES\",\"CANDIDO SALES/BA\",\"CONSELHEIRO LAFAIETE/MG\",\"TOLEDO/PR\",\"ARACUAI/MG\",\"EUNAPOLIS/BA\",\"JARAGUA DO SUL/SC\",\"APUCARANA/PR\",\"RECIFE/PE\",\"NITEROI/RJ\",\"SEABRA/BA\",\"FEIRA DE SANTANA/BA\",\"CURVELO/MG\",\"JANUARIA/MG\",\"TRES LAGOAS/MS\",\"BRUSQUE/SC\",\"SANTANA/BA\",\"PORECATU/PR\",\"MORRO DO CHAPEU/BA\",\"CHAPECO/SC\",\"JUIZ DE FORA/MG\",\"VIRGEM DA LAPA/MG\",\"ARAGUARI/MG\",\"ERECHIM/RS\",\"SETE LAGOAS/MG\",\"DUQUE DE CAXIAS/RJ\",\"ARAPONGAS/PR\",\"PIRAPORA/MG\",\"TERESOPOLIS/RJ\",\"PAULO AFONSO/BA\",\"RONDONOPOLIS/MT\",\"MAGE/RJ\",\"BOCAIUVA/MG\",\"UBA/MG\",\"SAO FRANCISCO/MG\",\"JEQUIE/BA\",\"RESENDE/RJ\",\"IBOTIRAMA/BA\",\"MINAS NOVAS/MG\",\"IRECE/BA\",\"TUPA/SP\",\"VACARIA/RS\",\"BARBACENA/MG\",\"BARRA MANSA/RJ\",\"LAGES/SC\",\"UBATA/BA\",\"BALNEARIO PICARRAS/SC\",\"PONTA PORA/MS\",\"LINHARES/ES\",\"MACEIO/AL\",\"PATOS/PB\",\"PARANAVAI/PR\",\"VALPARAISO DE GOIAS/GO\",\"ILHEUS/BA\",\"PATOS DE MINAS/MG\",\"PARATI/RJ\",\"MEDINA/MG\",\"GARANHUNS/PE\",\"PENEDO/AL\",\"ALEM PARAIBA/MG\",\"PASSO FUNDO/RS\",\"GRAVATAI/RS\",\"MARECHAL CANDIDO RONDON/PR\",\"SANTA MARIA/RS\",\"FATIMA DO SUL/MS\",\"RIO VERDE/GO\",\"ROLANDIA/PR\",\"SAO JOAO DEL REI/MG\",\"GOIOERE/PR\",\"CORINTO/MG\",\"SAO JOAO EVANGELISTA/MG\",\"IVINHEMA/MS\",\"JUAZEIRO DO NORTE/CE\",\"PORTO SEGURO/BA\",\"TAIOBEIRAS/MG\",\"CRUZ DAS ALMAS/BA\",\"BOTUCATU/SP\",\"SENHOR DO BONFIM/BA\",\"ITAOBIM/MG\",\"SANTO ESTEVAO/BA\",\"BARRA VELHA/SC\",\"BOM JESUS DA LAPA/BA\",\"DIAMANTINA/MG\",\"RIO DO SUL/SC\",\"IVAIPORA/PR\",\"ARACAJU/SE\",\"VOLTA REDONDA/RJ\",\"XIQUE-XIQUE/BA\",\"UBIRATA/PR\",\"PAU DOS FERROS/RN\",\"PATROCINIO/MG\",\"POCOES/BA\",\"VISCONDE DO RIO BRANCO/MG\",\"PETROLINA/PE\",\"MARIANA/MG\",\"BATAGUASSU/MS\",\"PORTO UNIAO/SC\",\"ITAPETINGA/BA\",\"EUCLIDES DA CUNHA/BA\",\"CAMPINA GRANDE/PB\",\"MARIBONDO/AL\",\"CORNELIO PROCOPIO/PR\",\"MURIAE/MG\",\"JOACABA/SC\",\"SALINAS/MG\",\"SANTA ROSA/RS\",\"SALGUEIRO/PE\",\"JOAO PESSOA/PB\",\"MINEIROS/GO\",\"JACOBINA/BA\",\"CACADOR/SC\",\"MILAGRES/BA\",\"ITUIUTABA/MG\",\"LOANDA/PR\",\"NOVA FRIBURGO/RJ\",\"JUAZEIRO/BA\",\"PALMAS/PR\",\"VALENCA/BA\",\"CAJAZEIRAS/PB\",\"TRES RIOS/RJ\",\"SAO JOAO DO PARAISO/MG\",\"ESTANCIA/SE\",\"ESPINOSA/MG\",\"MARAVILHA/SC\",\"TERESINA/PI\",\"CANSANCAO/BA\",\"EXU/PE\",\"IPIRA/BA\",\"ITAPEMA/SC\",\"ITAJUBA/MG\",\"ANGRA DOS REIS/RJ\",\"MARILIA/SP\",\"TAPIRA/PR\",\"RIBEIRA DO POMBAL/BA\",\"DIVINOPOLIS/MG\",\"BRASILIA DE MINAS/MG\",\"SERRINHA/BA\",\"INHAMBUPE/BA\",\"RIO CASCA/MG\",\"PEDRO CANARIO/ES\",\"IGUATU/CE\",\"POMBAL/PB\",\"ICO/CE\",\"SANTO ANGELO/RS\",\"SANTA MARIA DO SUACUI/MG\",\"IBICARAI/BA\",\"ARCOS/MG\",\"TUCANO/BA\",\"CRATO/CE\",\"CRICIUMA/SC\",\"SAO MATEUS DO SUL/PR\",\"ASSIS CHATEAUBRIAND/PR\",\"PORTEIRINHA/MG\",\"BARREIRAS/BA\",\"CATALAO/GO\",\"MAFRA/SC\",\"JACUTINGA/MG\",\"JESUITAS/PR\",\"IPORA/PR\",\"PORTO VELHO/RO\",\"LARANJEIRAS DO SUL/PR\",\"ITACARE/BA\",\"GOVERNADOR VALADARES/MG\",\"CAMBARA/PR\",\"VIDEIRA/SC\",\"OURO FINO/MG\",\"OURO PRETO/MG\",\"NOVO HAMBURGO/RS\",\"NAVIRAI/MS\",\"MEDEIROS NETO/BA\",\"COLIDER/MT\",\"CAMPO BELO/MG\",\"BARRA DO PIRAI/RJ\",\"IMBITUBA/SC\",\"IPUPIARA/BA\",\"BANDEIRANTES/PR\",\"VASSOURAS/RJ\",\"JEQUITINHONHA/MG\",\"CRATEUS/CE\",\"VARZEA DA PALMA/MG\",\"CAPELINHA/MG\",\"TIJUCAS/SC\",\"MANTENA/MG\",\"URANDI/BA\",\"LAGUNA/SC\",\"MIRANDA/MS\",\"JANAUBA/MG\",\"QUEIMADAS/BA\",\"CARATINGA/MG\",\"PRADO/BA\",\"LAJEDO/PE\",\"ICONHA/ES\",\"NOVA ESPERANCA/PR\",\"BATAIPORA/MS\",\"SAO MIGUEL D'OESTE/SC\",\"ITANHEM/BA\",\"MONTALVANIA/MG\",\"CASSIA/MG\",\"CACHOEIRO DE ITAPEMIRIM/ES\",\"MOMBACA/CE\",\"SAO LEOPOLDO/RS\",\"SERTANIA/PE\",\"SANTO ANTONIO DE PADUA/RJ\",\"OLIVEIRA/MG\",\"SANTA MARIANA/PR\",\"NOVA LONDRINA/PR\",\"PARA DE MINAS/MG\",\"CARANDAI/MG\",\"PALMEIRA DOS INDIOS/AL\",\"PALMAS/TO\",\"CRUZILIA/MG\",\"PARAISOPOLIS/MG\",\"CARAZINHO/RS\",\"NOVA ALVORADA DO SUL/MS\",\"NEPOMUCENO/MG\",\"OLIVEIRA DOS BREJINHOS/BA\",\"ADAMANTINA/SP\",\"FORMOSA DO OESTE/PR\",\"PARANAIBA/MS\",\"SANTO ANTONIO DE JESUS/BA\",\"GANDU/BA\",\"SANTA CECILIA/SC\",\"CARMO DO PARANAIBA/MG\",\"SERRA TALHADA/PE\",\"GLORIA DE DOURADOS/MS\",\"FRUTAL/MG\",\"POMPEIA/SP\",\"MIRABELA/MG\",\"UNIAO DA VITORIA/PR\",\"ITABERABA/BA\",\"MARMELEIRO/PR\",\"ITAMARAJU/BA\",\"ITANHANDU/MG\",\"TAUA/CE\",\"RAUL SOARES/MG\",\"QUIXADA/CE\",\"PROPRIA/SE\",\"ITUTINGA/MG\",\"JACIARA/MT\",\"ANDIRA/PR\",\"BELEM/PA\",\"JANDAIA DO SUL/PR\",\"BARROSO/MG\",\"UIRAUNA/PB\",\"ARARANGUA/SC\",\"POUSO ALEGRE/MG\",\"LUIS EDUARDO MAGALHAES/BA\",\"JOAO PINHEIRO/MG\",\"LAGARTO/SE\",\"ITABAIANA/SE\",\"RIO GRANDE/RS\",\"BRASOPOLIS/MG\",\"RIO BRILHANTE/MS\",\"INHAPIM/MG\",\"IPATINGA/MG\",\"INDIAROBA/SE\",\"MIGUEL CALMON/BA\",\"SOUSA/PB\",\"RIO POMBA/MG\",\"ARACI/BA\",\"CAXAMBU/MG\",\"IRAQUARA/BA\",\"PINHALZINHO/SC\",\"JANIOPOLIS/PR\",\"PARACATU/MG\",\"PARAIBA DO SUL/RJ\",\"DEODAPOLIS/MS\",\"CUSTODIA/PE\",\"SAO MIGUEL DOS CAMPOS/AL\",\"TIMBO/SC\",\"JAGUARIBE/CE\",\"BAURU/SP\",\"TOBIAS BARRETO/SE\",\"MANHUMIRIM/MG\",\"PELOTAS/RS\",\"XANXERE/SC\",\"ITORORO/BA\",\"SAO JOSE DO EGITO/PE\",\"LEOPOLDINA/MG\",\"UBAITABA/BA\",\"LUCELIA/SP\",\"RUY BARBOSA/BA\",\"PIRITIBA/BA\",\"TRES DE MAIO/RS\",\"SAO LUIS/MA\",\"CONGONHAS/MG\",\"SAO JERONIMO/RS\",\"JI-PARANA/RO\",\"SAO GOTARDO/MG\",\"BARRA DO MENDES/BA\",\"ARARIPINA/PE\",\"POSSE/GO\",\"SAO GABRIEL DO OESTE/MS\",\"SETE QUEDAS/MS\",\"SOBRAL/CE\",\"CANOINHAS/SC\",\"ITAGUAI/RJ\",\"PIMENTA BUENO/RO\",\"FORMIGA/MG\",\"FORMOSA/GO\",\"ALAGOINHAS/BA\",\"ALCOBACA/BA\",\"OSVALDO CRUZ/SP\",\"SARANDI/RS\",\"CANDEIAS/MG\",\"GOVERNADOR MANGABEIRA/BA\",\"PICOS/PI\",\"CAMPOS DOS GOYTACAZES/RJ\",\"MONTE SANTO/BA\",\"ITATIAIA/RJ\",\"ESPLANADA/BA\",\"ENTRE RIOS DE MINAS/MG\",\"AGUA CLARA/MS\",\"PEDRA AZUL/MG\",\"CENTRAL/BA\",\"ITABIRA/MG\",\"GETULIO VARGAS/RS\",\"FRANCISCO SA/MG\",\"CONCEICAO DO COITE/BA\",\"FREDERICO WESTPHALEN/RS\",\"RIBAS DO RIO PARDO/MS\",\"GASPAR/SC\",\"SANTA HELENA DE GOIAS/GO\",\"ITABAIANA/PB\",\"MASSARANDUBA/SC\",\"LUCAS DO RIO VERDE/MT\",\"PASSA QUATRO/MG\",\"RIACHO DE SANTANA/BA\",\"OURICURI/PE\",\"NANUQUE/MG\",\"SANTANA DO IPANEMA/AL\",\"NAZARENO/MG\",\"MONTEIRO/PB\",\"ENGENHEIRO BELTRAO/PR\",\"ITAUNA/MG\",\"QUIPAPA/PE\",\"ITAPERUNA/RJ\",\"INDAIAL/SC\",\"RIO DAS OSTRAS/RJ\",\"MATO VERDE/MG\",\"CRUZEIRO DO OESTE/PR\",\"JEREMOABO/BA\",\"IJUI/RS\",\"CRISTALINA/GO\",\"PARANAGUA/PR\",\"MANHUACU/MG\",\"DRACENA/SP\",\"IGUATEMI/MS\",\"FLORESTA/PE\",\"DOIS VIZINHOS/PR\",\"OSORIO/RS\",\"TIMBAUBA/PE\",\"SAO LOURENCO/MG\",\"ARIQUEMES/RO\",\"BUENOPOLIS/MG\",\"ALEGRE/ES\",\"CANINDE/CE\",\"CARANGOLA/MG\",\"TAPEJARA/PR\",\"CABACEIRAS DO PARAGUACU/BA\",\"SONORA/MS\",\"SINOP/MT\",\"TUPI PAULISTA/SP\",\"AFOGADOS DA INGAZEIRA/PE\",\"BAMBUI/MG\",\"CARMO DA CACHOEIRA/MG\",\"CACERES/MT\",\"SAO PAULO/SP\",\"UNIAO DOS PALMARES/AL\",\"ANDRELANDIA/MG\",\"ACOPIARA/CE\",\"SORRISO/MT\",\"BARRA DO GARCAS/MT\",\"ANAURILANDIA/MS\",\"CAPIM GROSSO/BA\",\"RIO VERDE DE MATO GROSSO/MS\",\"LIMOEIRO/PE\",\"AGUA BOA/MG\",\"CRISTALANDIA DO PIAUI/PI\",\"LAGOA DOURADA/MG\",\"BENTO GONCALVES/RS\",\"LAGOA FORMOSA/MG\",\"GOIATUBA/GO\",\"COSTA RICA/MS\",\"VARZEA GRANDE/MT\",\"BOM DESPACHO/MG\",\"PEABIRU/PR\",\"ALTA FLORESTA/MT\",\"SANTA MARIA DE ITABIRA/MG\",\"CARMO DA MATA/MG\",\"CORRENTINA/BA\",\"GUARABIRA/PB\",\"GUARANIACU/PR\",\"DOM CAVATI/MG\",\"SANTO ANTONIO DO AMPARO/MG\",\"CAMACARI/BA\",\"GURUPI/TO\",\"MONTE AZUL/MG\",\"LAJEADO/RS\",\"NILOPOLIS/RJ\",\"CURRAIS NOVOS/RN\",\"APARECIDA DE GOIANIA/GO\",\"PRIMAVERA DO LESTE/MT\",\"ALTO PARANA/PR\",\"SALTO DO ITARARE/PR\",\"CANHOTINHO/PE\",\"IBIA/MG\",\"MUNDO NOVO/BA\",\"ARCOVERDE/PE\",\"SANTANA DO LIVRAMENTO/RS\",\"SANTA MARIA DA VITORIA/BA\",\"PINDAI/BA\",\"AFRANIO/PE\",\"PALMEIRA DAS MISSOES/RS\",\"AMARANTE/PI\",\"PERDOES/MG\",\"LUZIANIA/GO\",\"CAMPO VERDE/MT\",\"BARRO/CE\",\"BRASILANDIA/MS\",\"CIPO/BA\",\"CICERO DANTAS/BA\",\"MACAE/RJ\",\"GILBUES/PI\",\"CHAPADAO DO SUL/MS\",\"XAXIM/SC\",\"SAO JOSE DO JACUIPE/BA\",\"BOM JESUS DO NORTE/ES\",\"SUME/PB\",\"SAO JOAO DO IVAI/PR\",\"APARECIDA DO TABOADO/MS\",\"BOM SUCESSO/MG\",\"LIMOEIRO DO NORTE/CE\",\"IBITITA/BA\",\"FIGUEIRA/PR\",\"FLORIANO/PI\",\"ARAUCARIA/PR\",\"PRATA/MG\",\"CONCORDIA/SC\",\"PIRES DO RIO/GO\",\"ANGUERA/BA\",\"CAICO/RN\",\"FLORES/PE\",\"ELOI MENDES/MG\",\"MONTE SANTO DE MINAS/MG\",\"CAMPO MAIOR/PI\",\"ALTEROSA/MG\",\"SANTANA DA VARGEM/MG\",\"POCO FUNDO/MG\",\"FRONTEIRA DOS VALES/MG\",\"SAO THOME DAS LETRAS/MG\",\"FERVEDOURO/MG\",\"ITAGIMIRIM/BA\",\"GARUVA/SC\",\"MORRINHOS/GO\",\"ITAGUACU DA BAHIA/BA\",\"SAO SEBASTIAO DO PARAISO/MG\",\"ITAGUARA/MG\",\"PETROLANDIA/PE\",\"ANDRADAS/MG\",\"PATO BRANCO/PR\",\"FRANCISCO BELTRAO/PR\",\"CAMPOS GERAIS/MG\",\"LAMBARI/MG\",\"ALVORADA DO NORTE/GO\",\"ITAPEVA/SP\",\"PLANURA/MG\",\"CAMAQUA/RS\",\"POCOS DE CALDAS/MG\",\"PEDRALVA/MG\",\"SANTA RITA DO SAPUCAI/MG\",\"ANDRADINA/SP\",\"REMANSO/BA\",\"TELEMACO BORBA/PR\",\"MIRASSOL D'OESTE/MT\",\"CAMPESTRE/MG\",\"ITAMBACURI/MG\",\"CAMPANHA/MG\",\"ITABERA/SP\",\"ESPERA FELIZ/MG\",\"LEBON REGIS/SC\",\"CAMBUQUIRA/MG\",\"TEIXEIRA SOARES/PR\",\"MONTE ALEGRE DE MINAS/MG\",\"MACHADO/MG\",\"GUARAI/TO\",\"WAGNER/BA\",\"CONCEICAO DA APARECIDA/MG\",\"CABROBO/PE\",\"CARUARU/PE\",\"IPORA/GO\",\"CARNAUBAL/CE\",\"ABELARDO LUZ/SC\",\"CARMO DO RIO CLARO/MG\",\"CRUZ ALTA/RS\",\"CORONEL VIVIDA/PR\",\"CORUMBAIBA/GO\",\"NOVA MUTUM/MT\",\"PARAGUACU/MG\",\"CRISTINA/MG\",\"CRISTINO CASTRO/PI\",\"RIO LARGO/AL\",\"COLONIA DO GURGUEIA/PI\",\"IGUATAMA/MG\",\"SIQUEIRA CAMPOS/PR\",\"CASSILANDIA/MS\",\"TIMOTEO/MG\",\"TRES PONTAS/MG\",\"PIRANGUINHO/MG\",\"SAO JOAQUIM/SC\",\"PIRANHAS/GO\",\"SOMBRIO/SC\",\"TRES CORACOES/MG\",\"IMPERATRIZ/MA\",\"SAO JOSE DO BELMONTE/PE\",\"ACAILANDIA/MA\",\"BARRA/BA\",\"MAE DO RIO/PA\",\"PIRIPIRI/PI\",\"COXIM/MS\",\"VILHENA/RO\",\"IACU/BA\",\"CAMPO DO MEIO/MG\",\"GUAXUPE/MG\",\"URUACU/GO\",\"PARAISO DO TOCANTINS/TO\",\"PORANGATU/GO\",\"BORDA DA MATA/MG\",\"RIACHAO DO JACUIPE/BA\",\"CURIUVA/PR\",\"BAGE/RS\",\"MUZAMBINHO/MG\",\"ALFENAS/MG\",\"IUNA/ES\",\"GUARAPARI/ES\",\"PARNAIBA/PI\",\"RUSSAS/CE\",\"VITORIA DE SANTO ANTAO/PE\",\"BOA ESPERANCA/MG\",\"ITAETE/BA\",\"ITAGI/BA\",\"CACHOEIRAS DE MACACU/RJ\",\"CAMPINAS/SP\",\"SOUTO SOARES/BA\",\"MARCIONILIO SOUZA/BA\",\"SURUBIM/PE\",\"MADALENA/CE\",\"URUGUAIANA/RS\",\"PINTADAS/BA\",\"HELIODORA/MG\",\"ROSARIO OESTE/MT\",\"ARAGUAINA/TO\",\"IRAI/RS\",\"IBIPEBA/BA\",\"IRAMAIA/BA\",\"URUCUCA/BA\",\"AREADO/MG\",\"IBAITI/PR\",\"IPUEIRAS/CE\",\"ROSARIO DO SUL/RS\",\"SERRANIA/MG\",\"PINHALAO/PR\",\"SIMPLICIO MENDES/PI\",\"PIRENOPOLIS/GO\",\"GRAVATA/PE\",\"BARRACAO/RS\",\"GARIBALDI/RS\",\"SAO JOSE DOS CAMPOS/SP\",\"PARAOPEBA/MG\",\"NOSSA SENHORA DAS DORES/SE\",\"AGRESTINA/PE\",\"AGUA BRANCA/PI\",\"BAIXA GRANDE/BA\",\"NOVA ERECHIM/SC\",\"JULIO DE CASTILHOS/RS\",\"VITORIA DO MEARIM/MA\",\"SAO CARLOS/SC\",\"NONOAI/RS\",\"CAPAO BONITO/SP\",\"TIANGUA/CE\",\"NAZARE DA MATA/PE\",\"SANTA CRUZ DO SUL/RS\",\"BIRIGUI/SP\",\"ALEGRETE/RS\",\"PONTE SERRADA/SC\",\"MUQUI/ES\",\"CARMO DE MINAS/MG\",\"CORONEL FABRICIANO/MG\",\"PAPANDUVA/SC\",\"PALMITOS/SC\",\"BARRACAO/PR\",\"CATENDE/PE\",\"OURO BRANCO/MG\",\"SAO JOSE DOS QUATRO MARCOS/MT\",\"JATI/CE\",\"SAO JOSE DO BARREIRO/SP\",\"JARAGUA/GO\",\"JAPIRA/PR\",\"OEIRAS/PI\",\"TOMAZINA/PR\",\"BARAO DE ANTONINA/SP\",\"ACUCENA/MG\",\"PORTO NACIONAL/TO\",\"BELEM DE SAO FRANCISCO/PE\",\"SAO LUIS DE MONTES BELOS/GO\",\"DOM PEDRITO/RS\",\"ALTO TAQUARI/MT\",\"MONTE BELO/MG\",\"ITAPORANGA/SP\",\"ESTREITO/MA\",\"ITAMOGI/MG\",\"FRECHEIRINHA/CE\",\"PEDRA BRANCA/CE\",\"SERRA BRANCA/PB\",\"TUPACIGUARA/MG\",\"ITAPIPOCA/CE\",\"MIRANDA DO NORTE/MA\",\"FARROUPILHA/RS\",\"BOM JESUS DE GOIAS/GO\",\"PAULISTANA/PI\",\"MORPARA/BA\",\"SANTA INES/MA\",\"MIRANORTE/TO\",\"REDENCAO DO GURGUEIA/PI\",\"PLANALTINA/GO\",\"BOM JESUS/PI\",\"SANTA MARIA DA BOA VISTA/PE\",\"ARROIO DOS RATOS/RS\"],\"xaxis\":\"x\",\"y\":[37,34,31,31,30,29,29,29,27,25,24,24,23,23,22,22,21,20,20,20,20,20,19,19,19,19,18,18,17,17,16,16,16,16,16,16,16,16,16,16,15,15,15,15,15,15,15,15,14,14,14,14,14,14,14,14,14,14,13,13,13,13,13,13,13,13,13,13,13,13,13,13,13,13,13,13,13,13,12,12,12,12,12,12,12,12,12,12,12,12,12,12,12,12,12,12,12,12,12,12,11,11,11,11,11,11,11,11,11,11,11,11,11,11,11,11,11,11,11,11,11,11,10,10,10,10,10,10,10,10,10,10,10,10,10,10,10,10,10,10,10,10,10,10,10,10,10,10,10,10,10,9,9,9,9,9,9,9,9,9,9,9,9,9,9,9,9,9,9,9,9,9,9,9,9,9,9,9,8,8,8,8,8,8,8,8,8,8,8,8,8,8,8,8,8,8,8,8,8,8,8,8,8,8,8,8,8,8,8,8,8,8,8,8,7,7,7,7,7,7,7,7,7,7,7,7,7,7,7,7,7,7,7,7,7,7,7,7,7,7,7,7,7,7,7,7,7,7,7,7,7,7,7,7,6,6,6,6,6,6,6,6,6,6,6,6,6,6,6,6,6,6,6,6,6,6,6,6,6,6,6,6,6,6,6,6,6,6,6,6,6,6,6,6,6,6,6,6,6,6,6,6,6,6,6,6,6,6,6,6,6,6,6,6,6,6,5,5,5,5,5,5,5,5,5,5,5,5,5,5,5,5,5,5,5,5,5,5,5,5,5,5,5,5,5,5,5,5,5,5,5,5,5,5,5,5,5,5,5,5,5,5,5,5,5,5,5,5,5,5,5,4,4,4,4,4,4,4,4,4,4,4,4,4,4,4,4,4,4,4,4,4,4,4,4,4,4,4,4,4,4,4,4,4,4,4,4,4,4,4,4,4,4,4,4,4,4,4,4,4,4,4,4,4,4,4,4,4,4,4,4,4,3,3,3,3,3,3,3,3,3,3,3,3,3,3,3,3,3,3,3,3,3,3,3,3,3,3,3,3,3,3,3,3,3,3,3,3,3,3,3,3,3,3,3,3,3,3,3,3,3,3,3,3,3,3,3,3,3,3,3,3,3,3,3,3,3,2,2,2,2,2,2,2,2,2,2,2,2,2,2,2,2,2,2,2,2,2,2,2,2,2,2,2,2,2,2,2,2,2,2,2,2,2,2,2,2,2,2,2,2,2,2,2,2,2,2,2,2,2,2,2,2,2,2,2,2,2,2,2,2,2,2,2,2,2,2,2,2,2,2,2,2,2,2,2,2,2,2,2,2,2,2,2,2,2,2,2,2,2,2,2,2,2,2,2,1,1,1,1,1,1,1,1,1,1,1,1,1,1,1,1,1,1,1,1,1,1,1,1,1,1,1,1,1,1,1,1,1,1,1,1,1,1,1,1,1,1,1,1,1,1,1,1,1,1,1,1,1,1,1,1,1,1,1,1,1,1,1,1,1,1,1,1,1,1,1,1,1,1,1,1,1,1,1,1,1,1,1,1,1,1,1,1,1],\"yaxis\":\"y\",\"type\":\"bar\"}],                        {\"template\":{\"data\":{\"barpolar\":[{\"marker\":{\"line\":{\"color\":\"white\",\"width\":0.5},\"pattern\":{\"fillmode\":\"overlay\",\"size\":10,\"solidity\":0.2}},\"type\":\"barpolar\"}],\"bar\":[{\"error_x\":{\"color\":\"#2a3f5f\"},\"error_y\":{\"color\":\"#2a3f5f\"},\"marker\":{\"line\":{\"color\":\"white\",\"width\":0.5},\"pattern\":{\"fillmode\":\"overlay\",\"size\":10,\"solidity\":0.2}},\"type\":\"bar\"}],\"carpet\":[{\"aaxis\":{\"endlinecolor\":\"#2a3f5f\",\"gridcolor\":\"#C8D4E3\",\"linecolor\":\"#C8D4E3\",\"minorgridcolor\":\"#C8D4E3\",\"startlinecolor\":\"#2a3f5f\"},\"baxis\":{\"endlinecolor\":\"#2a3f5f\",\"gridcolor\":\"#C8D4E3\",\"linecolor\":\"#C8D4E3\",\"minorgridcolor\":\"#C8D4E3\",\"startlinecolor\":\"#2a3f5f\"},\"type\":\"carpet\"}],\"choropleth\":[{\"colorbar\":{\"outlinewidth\":0,\"ticks\":\"\"},\"type\":\"choropleth\"}],\"contourcarpet\":[{\"colorbar\":{\"outlinewidth\":0,\"ticks\":\"\"},\"type\":\"contourcarpet\"}],\"contour\":[{\"colorbar\":{\"outlinewidth\":0,\"ticks\":\"\"},\"colorscale\":[[0.0,\"#0d0887\"],[0.1111111111111111,\"#46039f\"],[0.2222222222222222,\"#7201a8\"],[0.3333333333333333,\"#9c179e\"],[0.4444444444444444,\"#bd3786\"],[0.5555555555555556,\"#d8576b\"],[0.6666666666666666,\"#ed7953\"],[0.7777777777777778,\"#fb9f3a\"],[0.8888888888888888,\"#fdca26\"],[1.0,\"#f0f921\"]],\"type\":\"contour\"}],\"heatmapgl\":[{\"colorbar\":{\"outlinewidth\":0,\"ticks\":\"\"},\"colorscale\":[[0.0,\"#0d0887\"],[0.1111111111111111,\"#46039f\"],[0.2222222222222222,\"#7201a8\"],[0.3333333333333333,\"#9c179e\"],[0.4444444444444444,\"#bd3786\"],[0.5555555555555556,\"#d8576b\"],[0.6666666666666666,\"#ed7953\"],[0.7777777777777778,\"#fb9f3a\"],[0.8888888888888888,\"#fdca26\"],[1.0,\"#f0f921\"]],\"type\":\"heatmapgl\"}],\"heatmap\":[{\"colorbar\":{\"outlinewidth\":0,\"ticks\":\"\"},\"colorscale\":[[0.0,\"#0d0887\"],[0.1111111111111111,\"#46039f\"],[0.2222222222222222,\"#7201a8\"],[0.3333333333333333,\"#9c179e\"],[0.4444444444444444,\"#bd3786\"],[0.5555555555555556,\"#d8576b\"],[0.6666666666666666,\"#ed7953\"],[0.7777777777777778,\"#fb9f3a\"],[0.8888888888888888,\"#fdca26\"],[1.0,\"#f0f921\"]],\"type\":\"heatmap\"}],\"histogram2dcontour\":[{\"colorbar\":{\"outlinewidth\":0,\"ticks\":\"\"},\"colorscale\":[[0.0,\"#0d0887\"],[0.1111111111111111,\"#46039f\"],[0.2222222222222222,\"#7201a8\"],[0.3333333333333333,\"#9c179e\"],[0.4444444444444444,\"#bd3786\"],[0.5555555555555556,\"#d8576b\"],[0.6666666666666666,\"#ed7953\"],[0.7777777777777778,\"#fb9f3a\"],[0.8888888888888888,\"#fdca26\"],[1.0,\"#f0f921\"]],\"type\":\"histogram2dcontour\"}],\"histogram2d\":[{\"colorbar\":{\"outlinewidth\":0,\"ticks\":\"\"},\"colorscale\":[[0.0,\"#0d0887\"],[0.1111111111111111,\"#46039f\"],[0.2222222222222222,\"#7201a8\"],[0.3333333333333333,\"#9c179e\"],[0.4444444444444444,\"#bd3786\"],[0.5555555555555556,\"#d8576b\"],[0.6666666666666666,\"#ed7953\"],[0.7777777777777778,\"#fb9f3a\"],[0.8888888888888888,\"#fdca26\"],[1.0,\"#f0f921\"]],\"type\":\"histogram2d\"}],\"histogram\":[{\"marker\":{\"pattern\":{\"fillmode\":\"overlay\",\"size\":10,\"solidity\":0.2}},\"type\":\"histogram\"}],\"mesh3d\":[{\"colorbar\":{\"outlinewidth\":0,\"ticks\":\"\"},\"type\":\"mesh3d\"}],\"parcoords\":[{\"line\":{\"colorbar\":{\"outlinewidth\":0,\"ticks\":\"\"}},\"type\":\"parcoords\"}],\"pie\":[{\"automargin\":true,\"type\":\"pie\"}],\"scatter3d\":[{\"line\":{\"colorbar\":{\"outlinewidth\":0,\"ticks\":\"\"}},\"marker\":{\"colorbar\":{\"outlinewidth\":0,\"ticks\":\"\"}},\"type\":\"scatter3d\"}],\"scattercarpet\":[{\"marker\":{\"colorbar\":{\"outlinewidth\":0,\"ticks\":\"\"}},\"type\":\"scattercarpet\"}],\"scattergeo\":[{\"marker\":{\"colorbar\":{\"outlinewidth\":0,\"ticks\":\"\"}},\"type\":\"scattergeo\"}],\"scattergl\":[{\"marker\":{\"colorbar\":{\"outlinewidth\":0,\"ticks\":\"\"}},\"type\":\"scattergl\"}],\"scattermapbox\":[{\"marker\":{\"colorbar\":{\"outlinewidth\":0,\"ticks\":\"\"}},\"type\":\"scattermapbox\"}],\"scatterpolargl\":[{\"marker\":{\"colorbar\":{\"outlinewidth\":0,\"ticks\":\"\"}},\"type\":\"scatterpolargl\"}],\"scatterpolar\":[{\"marker\":{\"colorbar\":{\"outlinewidth\":0,\"ticks\":\"\"}},\"type\":\"scatterpolar\"}],\"scatter\":[{\"fillpattern\":{\"fillmode\":\"overlay\",\"size\":10,\"solidity\":0.2},\"type\":\"scatter\"}],\"scatterternary\":[{\"marker\":{\"colorbar\":{\"outlinewidth\":0,\"ticks\":\"\"}},\"type\":\"scatterternary\"}],\"surface\":[{\"colorbar\":{\"outlinewidth\":0,\"ticks\":\"\"},\"colorscale\":[[0.0,\"#0d0887\"],[0.1111111111111111,\"#46039f\"],[0.2222222222222222,\"#7201a8\"],[0.3333333333333333,\"#9c179e\"],[0.4444444444444444,\"#bd3786\"],[0.5555555555555556,\"#d8576b\"],[0.6666666666666666,\"#ed7953\"],[0.7777777777777778,\"#fb9f3a\"],[0.8888888888888888,\"#fdca26\"],[1.0,\"#f0f921\"]],\"type\":\"surface\"}],\"table\":[{\"cells\":{\"fill\":{\"color\":\"#EBF0F8\"},\"line\":{\"color\":\"white\"}},\"header\":{\"fill\":{\"color\":\"#C8D4E3\"},\"line\":{\"color\":\"white\"}},\"type\":\"table\"}]},\"layout\":{\"annotationdefaults\":{\"arrowcolor\":\"#2a3f5f\",\"arrowhead\":0,\"arrowwidth\":1},\"autotypenumbers\":\"strict\",\"coloraxis\":{\"colorbar\":{\"outlinewidth\":0,\"ticks\":\"\"}},\"colorscale\":{\"diverging\":[[0,\"#8e0152\"],[0.1,\"#c51b7d\"],[0.2,\"#de77ae\"],[0.3,\"#f1b6da\"],[0.4,\"#fde0ef\"],[0.5,\"#f7f7f7\"],[0.6,\"#e6f5d0\"],[0.7,\"#b8e186\"],[0.8,\"#7fbc41\"],[0.9,\"#4d9221\"],[1,\"#276419\"]],\"sequential\":[[0.0,\"#0d0887\"],[0.1111111111111111,\"#46039f\"],[0.2222222222222222,\"#7201a8\"],[0.3333333333333333,\"#9c179e\"],[0.4444444444444444,\"#bd3786\"],[0.5555555555555556,\"#d8576b\"],[0.6666666666666666,\"#ed7953\"],[0.7777777777777778,\"#fb9f3a\"],[0.8888888888888888,\"#fdca26\"],[1.0,\"#f0f921\"]],\"sequentialminus\":[[0.0,\"#0d0887\"],[0.1111111111111111,\"#46039f\"],[0.2222222222222222,\"#7201a8\"],[0.3333333333333333,\"#9c179e\"],[0.4444444444444444,\"#bd3786\"],[0.5555555555555556,\"#d8576b\"],[0.6666666666666666,\"#ed7953\"],[0.7777777777777778,\"#fb9f3a\"],[0.8888888888888888,\"#fdca26\"],[1.0,\"#f0f921\"]]},\"colorway\":[\"#636efa\",\"#EF553B\",\"#00cc96\",\"#ab63fa\",\"#FFA15A\",\"#19d3f3\",\"#FF6692\",\"#B6E880\",\"#FF97FF\",\"#FECB52\"],\"font\":{\"color\":\"#2a3f5f\"},\"geo\":{\"bgcolor\":\"white\",\"lakecolor\":\"white\",\"landcolor\":\"white\",\"showlakes\":true,\"showland\":true,\"subunitcolor\":\"#C8D4E3\"},\"hoverlabel\":{\"align\":\"left\"},\"hovermode\":\"closest\",\"mapbox\":{\"style\":\"light\"},\"paper_bgcolor\":\"white\",\"plot_bgcolor\":\"white\",\"polar\":{\"angularaxis\":{\"gridcolor\":\"#EBF0F8\",\"linecolor\":\"#EBF0F8\",\"ticks\":\"\"},\"bgcolor\":\"white\",\"radialaxis\":{\"gridcolor\":\"#EBF0F8\",\"linecolor\":\"#EBF0F8\",\"ticks\":\"\"}},\"scene\":{\"xaxis\":{\"backgroundcolor\":\"white\",\"gridcolor\":\"#DFE8F3\",\"gridwidth\":2,\"linecolor\":\"#EBF0F8\",\"showbackground\":true,\"ticks\":\"\",\"zerolinecolor\":\"#EBF0F8\"},\"yaxis\":{\"backgroundcolor\":\"white\",\"gridcolor\":\"#DFE8F3\",\"gridwidth\":2,\"linecolor\":\"#EBF0F8\",\"showbackground\":true,\"ticks\":\"\",\"zerolinecolor\":\"#EBF0F8\"},\"zaxis\":{\"backgroundcolor\":\"white\",\"gridcolor\":\"#DFE8F3\",\"gridwidth\":2,\"linecolor\":\"#EBF0F8\",\"showbackground\":true,\"ticks\":\"\",\"zerolinecolor\":\"#EBF0F8\"}},\"shapedefaults\":{\"line\":{\"color\":\"#2a3f5f\"}},\"ternary\":{\"aaxis\":{\"gridcolor\":\"#DFE8F3\",\"linecolor\":\"#A2B1C6\",\"ticks\":\"\"},\"baxis\":{\"gridcolor\":\"#DFE8F3\",\"linecolor\":\"#A2B1C6\",\"ticks\":\"\"},\"bgcolor\":\"white\",\"caxis\":{\"gridcolor\":\"#DFE8F3\",\"linecolor\":\"#A2B1C6\",\"ticks\":\"\"}},\"title\":{\"x\":0.05},\"xaxis\":{\"automargin\":true,\"gridcolor\":\"#EBF0F8\",\"linecolor\":\"#EBF0F8\",\"ticks\":\"\",\"title\":{\"standoff\":15},\"zerolinecolor\":\"#EBF0F8\",\"zerolinewidth\":2},\"yaxis\":{\"automargin\":true,\"gridcolor\":\"#EBF0F8\",\"linecolor\":\"#EBF0F8\",\"ticks\":\"\",\"title\":{\"standoff\":15},\"zerolinecolor\":\"#EBF0F8\",\"zerolinewidth\":2}}},\"xaxis\":{\"anchor\":\"y\",\"domain\":[0.0,1.0],\"title\":{\"text\":\"Cidade de origem\"}},\"yaxis\":{\"anchor\":\"x\",\"domain\":[0.0,1.0],\"title\":{\"text\":\"N\\u00b0 de bilhetes\"}},\"legend\":{\"title\":{\"text\":\"ponto_destino_viagem\"},\"tracegroupgap\":0},\"title\":{\"text\":\"Rotas com sentido a S\\u00e3o Paulo em ABR/2022\"},\"barmode\":\"relative\"},                        {\"responsive\": true}                    ).then(function(){\n",
       "                            \n",
       "var gd = document.getElementById('4f8c3c75-b6a8-404c-9ca5-9369fec9e086');\n",
       "var x = new MutationObserver(function (mutations, observer) {{\n",
       "        var display = window.getComputedStyle(gd).display;\n",
       "        if (!display || display === 'none') {{\n",
       "            console.log([gd, 'removed!']);\n",
       "            Plotly.purge(gd);\n",
       "            observer.disconnect();\n",
       "        }}\n",
       "}});\n",
       "\n",
       "// Listen for the removal of the full notebook cells\n",
       "var notebookContainer = gd.closest('#notebook-container');\n",
       "if (notebookContainer) {{\n",
       "    x.observe(notebookContainer, {childList: true});\n",
       "}}\n",
       "\n",
       "// Listen for the clearing of the current output cell\n",
       "var outputEl = gd.closest('.output');\n",
       "if (outputEl) {{\n",
       "    x.observe(outputEl, {childList: true});\n",
       "}}\n",
       "\n",
       "                        })                };                });            </script>        </div>"
      ]
     },
     "metadata": {},
     "output_type": "display_data"
    }
   ],
   "source": [
    "px.bar(rotasSP, title='Rotas com sentido a São Paulo em ABR/2022',\n",
    "       labels={'value':'N° de bilhetes', 'ponto_origem_viagem': 'Cidade de origem'},\n",
    "       template='plotly_white')"
   ]
  },
  {
   "cell_type": "markdown",
   "id": "a8ed7575",
   "metadata": {},
   "source": [
    "As 10 cidades que mais possuem passageiros em direção a São Paulo em abril são:"
   ]
  },
  {
   "cell_type": "code",
   "execution_count": 75,
   "id": "5175af6f",
   "metadata": {},
   "outputs": [
    {
     "data": {
      "text/html": [
       "<div>\n",
       "<style scoped>\n",
       "    .dataframe tbody tr th:only-of-type {\n",
       "        vertical-align: middle;\n",
       "    }\n",
       "\n",
       "    .dataframe tbody tr th {\n",
       "        vertical-align: top;\n",
       "    }\n",
       "\n",
       "    .dataframe thead th {\n",
       "        text-align: right;\n",
       "    }\n",
       "</style>\n",
       "<table border=\"1\" class=\"dataframe\">\n",
       "  <thead>\n",
       "    <tr style=\"text-align: right;\">\n",
       "      <th>ponto_origem_viagem</th>\n",
       "      <th>SAO PAULO/SP</th>\n",
       "    </tr>\n",
       "    <tr>\n",
       "      <th>ponto_destino_viagem</th>\n",
       "      <th></th>\n",
       "    </tr>\n",
       "  </thead>\n",
       "  <tbody>\n",
       "    <tr>\n",
       "      <th>CURITIBA/PR</th>\n",
       "      <td>35</td>\n",
       "    </tr>\n",
       "    <tr>\n",
       "      <th>LONDRINA/PR</th>\n",
       "      <td>33</td>\n",
       "    </tr>\n",
       "    <tr>\n",
       "      <th>RIO DE JANEIRO/RJ</th>\n",
       "      <td>33</td>\n",
       "    </tr>\n",
       "    <tr>\n",
       "      <th>BELO HORIZONTE/MG</th>\n",
       "      <td>32</td>\n",
       "    </tr>\n",
       "    <tr>\n",
       "      <th>MARINGA/PR</th>\n",
       "      <td>31</td>\n",
       "    </tr>\n",
       "    <tr>\n",
       "      <th>VITORIA DA CONQUISTA/BA</th>\n",
       "      <td>30</td>\n",
       "    </tr>\n",
       "    <tr>\n",
       "      <th>BRASILIA/DF</th>\n",
       "      <td>29</td>\n",
       "    </tr>\n",
       "    <tr>\n",
       "      <th>GOIANIA/GO</th>\n",
       "      <td>28</td>\n",
       "    </tr>\n",
       "    <tr>\n",
       "      <th>FOZ DO IGUACU/PR</th>\n",
       "      <td>26</td>\n",
       "    </tr>\n",
       "    <tr>\n",
       "      <th>UBERLANDIA/MG</th>\n",
       "      <td>24</td>\n",
       "    </tr>\n",
       "  </tbody>\n",
       "</table>\n",
       "</div>"
      ],
      "text/plain": [
       "ponto_origem_viagem      SAO PAULO/SP\n",
       "ponto_destino_viagem                 \n",
       "CURITIBA/PR                        35\n",
       "LONDRINA/PR                        33\n",
       "RIO DE JANEIRO/RJ                  33\n",
       "BELO HORIZONTE/MG                  32\n",
       "MARINGA/PR                         31\n",
       "VITORIA DA CONQUISTA/BA            30\n",
       "BRASILIA/DF                        29\n",
       "GOIANIA/GO                         28\n",
       "FOZ DO IGUACU/PR                   26\n",
       "UBERLANDIA/MG                      24"
      ]
     },
     "execution_count": 75,
     "metadata": {},
     "output_type": "execute_result"
    }
   ],
   "source": [
    "rotasSP.head(10)"
   ]
  },
  {
   "cell_type": "code",
   "execution_count": 76,
   "id": "423a04d8",
   "metadata": {},
   "outputs": [
    {
     "data": {
      "application/vnd.plotly.v1+json": {
       "config": {
        "plotlyServerURL": "https://plot.ly"
       },
       "data": [
        {
         "alignmentgroup": "True",
         "hovertemplate": "Cidade de origem=SAO PAULO/SP<br>ponto_destino_viagem=%{x}<br>N° de bilhetes=%{y}<extra></extra>",
         "legendgroup": "SAO PAULO/SP",
         "marker": {
          "color": "#636efa",
          "pattern": {
           "shape": ""
          }
         },
         "name": "SAO PAULO/SP",
         "offsetgroup": "SAO PAULO/SP",
         "orientation": "v",
         "showlegend": true,
         "textposition": "auto",
         "type": "bar",
         "x": [
          "CURITIBA/PR",
          "LONDRINA/PR",
          "RIO DE JANEIRO/RJ",
          "BELO HORIZONTE/MG",
          "MARINGA/PR",
          "VITORIA DA CONQUISTA/BA",
          "BRASILIA/DF",
          "GOIANIA/GO",
          "FOZ DO IGUACU/PR",
          "UBERLANDIA/MG",
          "UBERABA/MG",
          "DOURADOS/MS",
          "CASCAVEL/PR",
          "CAMPO GRANDE/MS",
          "TEOFILO OTONI/MG",
          "UMUARAMA/PR",
          "CALDAS NOVAS/GO",
          "CAMPO MOURAO/PR",
          "TEIXEIRA DE FREITAS/BA",
          "JOINVILLE/SC",
          "FLORIANOPOLIS/SC",
          "VITORIA/ES",
          "TOLEDO/PR",
          "CIANORTE/PR",
          "CUIABA/MT",
          "MONTES CLAROS/MG",
          "SALVADOR/BA",
          "NATAL/RN",
          "ITABUNA/BA",
          "GUANHAES/MG",
          "GUAIRA/PR",
          "ARAPONGAS/PR",
          "ARACAJU/SE",
          "BLUMENAU/SC",
          "BATAGUASSU/MS",
          "GUARAPUAVA/PR",
          "FEIRA DE SANTANA/BA",
          "VICOSA/MG",
          "CABO FRIO/RJ",
          "MOSSORO/RN",
          "JEQUIE/BA",
          "ITAJAI/SC",
          "LAGES/SC",
          "ITUMBIARA/GO",
          "APUCARANA/PR",
          "PATOS/PB",
          "NOVA ANDRADINA/MS",
          "SEABRA/BA",
          "GUANAMBI/BA",
          "IBOTIRAMA/BA",
          "ARACUAI/MG",
          "PETROPOLIS/RJ",
          "NOVA IGUACU/RJ",
          "PONTA GROSSA/PR",
          "TRES LAGOAS/MS",
          "PONTA PORA/MS",
          "FORTALEZA/CE",
          "BALNEARIO CAMBORIU/SC",
          "ANAPOLIS/GO",
          "LAVRAS/MG",
          "CANDIDO SALES/BA",
          "JARAGUA DO SUL/SC",
          "BRUSQUE/SC",
          "RECIFE/PE",
          "ARAXA/MG",
          "MACEIO/AL",
          "CAPELINHA/MG",
          "ITAOBIM/MG",
          "CONSELHEIRO LAFAIETE/MG",
          "PORTO ALEGRE/RS",
          "JUIZ DE FORA/MG",
          "PORECATU/PR",
          "ALMENARA/MG",
          "DIAMANTINA/MG",
          "SANTA MARIA/RS",
          "PARANAVAI/PR",
          "DUQUE DE CAXIAS/RJ",
          "NITEROI/RJ",
          "BETIM/MG",
          "ILHEUS/BA",
          "RESENDE/RJ",
          "BARREIRAS/BA",
          "ALEM PARAIBA/MG",
          "IRECE/BA",
          "BALNEARIO PICARRAS/SC",
          "JATAI/GO",
          "JANUARIA/MG",
          "PADRE PARAISO/MG",
          "VIRGEM DA LAPA/MG",
          "DIVINOPOLIS/MG",
          "CHAPECO/SC",
          "PONTE NOVA/MG",
          "SENHOR DO BONFIM/BA",
          "VOLTA REDONDA/RJ",
          "PORTO UNIAO/SC",
          "CURVELO/MG",
          "RONDONOPOLIS/MT",
          "MEDIANEIRA/PR",
          "SANTANA/BA",
          "PASSO FUNDO/RS",
          "JOACABA/SC",
          "CAXIAS DO SUL/RS",
          "TUBARAO/SC",
          "SETE LAGOAS/MG",
          "PAULO AFONSO/BA",
          "TUPA/SP",
          "UBA/MG",
          "MINAS NOVAS/MG",
          "TAUA/CE",
          "PETROLINA/PE",
          "SAO JOAO DEL REI/MG",
          "POCOES/BA",
          "GASPAR/SC",
          "PALMAS/PR",
          "GRAVATAI/RS",
          "MAGE/RJ",
          "CATALAO/GO",
          "RIO POMBA/MG",
          "BARRA MANSA/RJ",
          "BARRA VELHA/SC",
          "SAO MATEUS/ES",
          "MARECHAL CANDIDO RONDON/PR",
          "SAO FRANCISCO/MG",
          "CRATO/CE",
          "ROLANDIA/PR",
          "BOM JESUS DA LAPA/BA",
          "PATOS DE MINAS/MG",
          "PIRAPORA/MG",
          "IVINHEMA/MS",
          "EUNAPOLIS/BA",
          "ARAPIRACA/AL",
          "BOTUCATU/SP",
          "ARAGUARI/MG",
          "GARANHUNS/PE",
          "BOCAIUVA/MG",
          "RIO DO SUL/SC",
          "FATIMA DO SUL/MS",
          "SALINAS/MG",
          "MARIANA/MG",
          "SALGUEIRO/PE",
          "CORINTO/MG",
          "IVAIPORA/PR",
          "CORNELIO PROCOPIO/PR",
          "BARBACENA/MG",
          "LARANJEIRAS DO SUL/PR",
          "BANDEIRANTES/PR",
          "TERESOPOLIS/RJ",
          "EUCLIDES DA CUNHA/BA",
          "ITAPETINGA/BA",
          "CRATEUS/CE",
          "GOVERNADOR VALADARES/MG",
          "CAMBARA/PR",
          "XIQUE-XIQUE/BA",
          "ERECHIM/RS",
          "JANAUBA/MG",
          "GOIOERE/PR",
          "ITUIUTABA/MG",
          "MORRO DO CHAPEU/BA",
          "SANTO ESTEVAO/BA",
          "VACARIA/RS",
          "MONTE SANTO/BA",
          "NOVA FRIBURGO/RJ",
          "ITUTINGA/MG",
          "SANTA ROSA/RS",
          "PORTO SEGURO/BA",
          "UBATA/BA",
          "PARA DE MINAS/MG",
          "ARACI/BA",
          "JUAZEIRO/BA",
          "ITAMARAJU/BA",
          "MEDEIROS NETO/BA",
          "ITABAIANA/SE",
          "ASSIS CHATEAUBRIAND/PR",
          "MARILIA/SP",
          "MEDINA/MG",
          "CAJAZEIRAS/PB",
          "BRASILIA DE MINAS/MG",
          "MINEIROS/GO",
          "CAPIM GROSSO/BA",
          "PALMEIRA DOS INDIOS/AL",
          "ALAGOINHAS/BA",
          "PRADO/BA",
          "RIBEIRA DO POMBAL/BA",
          "NEPOMUCENO/MG",
          "LINHARES/ES",
          "TAIOBEIRAS/MG",
          "TIMBO/SC",
          "TOBIAS BARRETO/SE",
          "FORMIGA/MG",
          "JANDAIA DO SUL/PR",
          "TERESINA/PI",
          "JESUITAS/PR",
          "CRICIUMA/SC",
          "CAMPINA GRANDE/PB",
          "IBICARAI/BA",
          "CARATINGA/MG",
          "DEODAPOLIS/MS",
          "LAGARTO/SE",
          "OURO PRETO/MG",
          "ITAJUBA/MG",
          "PAU DOS FERROS/RN",
          "CAMACARI/BA",
          "MARMELEIRO/PR",
          "IPORA/PR",
          "SERRA TALHADA/PE",
          "CANOINHAS/SC",
          "MARIBONDO/AL",
          "TUCANO/BA",
          "JUAZEIRO DO NORTE/CE",
          "FLORIANO/PI",
          "UNIAO DA VITORIA/PR",
          "SAO MATEUS DO SUL/PR",
          "ESPLANADA/BA",
          "RIO BRILHANTE/MS",
          "ARARANGUA/SC",
          "PELOTAS/RS",
          "VIDEIRA/SC",
          "CACADOR/SC",
          "RIO GRANDE/RS",
          "SINOP/MT",
          "SAO JOAO EVANGELISTA/MG",
          "BOM SUCESSO/MG",
          "LAJEDO/PE",
          "CRUZEIRO DO OESTE/PR",
          "MAFRA/SC",
          "OSVALDO CRUZ/SP",
          "CARMO DO PARANAIBA/MG",
          "NOVA ALVORADA DO SUL/MS",
          "PATROCINIO/MG",
          "SERRINHA/BA",
          "ANDIRA/PR",
          "MARAVILHA/SC",
          "CACHOEIRO DE ITAPEMIRIM/ES",
          "MILAGRES/BA",
          "SAO LOURENCO/MG",
          "PINHALZINHO/SC",
          "CASSIA/MG",
          "SOBRAL/CE",
          "VASSOURAS/RJ",
          "NOVA ESPERANCA/PR",
          "SAO JOAO DO PARAISO/MG",
          "LOANDA/PR",
          "SAO GOTARDO/MG",
          "SANTANA DO IPANEMA/AL",
          "JOAO PESSOA/PB",
          "ENGENHEIRO BELTRAO/PR",
          "TRES RIOS/RJ",
          "GLORIA DE DOURADOS/MS",
          "RUY BARBOSA/BA",
          "PORTEIRINHA/MG",
          "JACOBINA/BA",
          "RIO VERDE/GO",
          "TAPIRA/PR",
          "XANXERE/SC",
          "BARRA DO PIRAI/RJ",
          "RIO CASCA/MG",
          "ICONHA/ES",
          "IGUATU/CE",
          "TIJUCAS/SC",
          "PALMAS/TO",
          "ITATIAIA/RJ",
          "IPIRA/BA",
          "UBIRATA/PR",
          "RAUL SOARES/MG",
          "QUIXADA/CE",
          "ITAPEMA/SC",
          "NOVO HAMBURGO/RS",
          "ARCOS/MG",
          "NAVIRAI/MS",
          "VISCONDE DO RIO BRANCO/MG",
          "CAMPO BELO/MG",
          "FRUTAL/MG",
          "URANDI/BA",
          "GANDU/BA",
          "ENTRE RIOS DE MINAS/MG",
          "OLIVEIRA/MG",
          "ESPINOSA/MG",
          "PARAISOPOLIS/MG",
          "JOAO PINHEIRO/MG",
          "PRATA/MG",
          "INHAMBUPE/BA",
          "CRUZ DAS ALMAS/BA",
          "SAO JERONIMO/RS",
          "IPATINGA/MG",
          "INDAIAL/SC",
          "RIACHO DE SANTANA/BA",
          "CARANGOLA/MG",
          "CANSANCAO/BA",
          "PRIMAVERA DO LESTE/MT",
          "XAXIM/SC",
          "EXU/PE",
          "SANTA MARIA DO SUACUI/MG",
          "POMPEIA/SP",
          "CRUZILIA/MG",
          "ESTANCIA/SE",
          "ITABERABA/BA",
          "QUEIMADAS/BA",
          "OURO FINO/MG",
          "SANTO ANGELO/RS",
          "POMBAL/PB",
          "CARAZINHO/RS",
          "SAO MIGUEL D'OESTE/SC",
          "LUCELIA/SP",
          "PINDAI/BA",
          "CONCEICAO DO COITE/BA",
          "LUIS EDUARDO MAGALHAES/BA",
          "JAGUARIBE/CE",
          "AGUA BOA/MG",
          "JACUTINGA/MG",
          "JEQUITINHONHA/MG",
          "SANTA HELENA DE GOIAS/GO",
          "CAXAMBU/MG",
          "JEREMOABO/BA",
          "IACU/BA",
          "OLIVEIRA DOS BREJINHOS/BA",
          "MANHUACU/MG",
          "SAO LEOPOLDO/RS",
          "MANHUMIRIM/MG",
          "FORMOSA/GO",
          "ADAMANTINA/SP",
          "POSSE/GO",
          "NOVA LONDRINA/PR",
          "MANTENA/MG",
          "POUSO ALEGRE/MG",
          "VARZEA DA PALMA/MG",
          "PENEDO/AL",
          "UIRAUNA/PB",
          "MIGUEL CALMON/BA",
          "PASSA QUATRO/MG",
          "BARROSO/MG",
          "MURIAE/MG",
          "MIRANDA/MS",
          "PARAIBA DO SUL/RJ",
          "UNIAO DOS PALMARES/AL",
          "TIMBAUBA/PE",
          "BOM JESUS DO NORTE/ES",
          "BOM DESPACHO/MG",
          "ICO/CE",
          "IJUI/RS",
          "SANTA QUITERIA/CE",
          "ITUMIRIM/MG",
          "PEDRA AZUL/MG",
          "SANTA MARIANA/PR",
          "BARRA DO MENDES/BA",
          "SANTA MARIA DA VITORIA/BA",
          "VALENCA/BA",
          "PEABIRU/PR",
          "CONGONHAS/MG",
          "SAO MIGUEL DOS CAMPOS/AL",
          "CARANDAI/MG",
          "ITAUEIRA/PI",
          "MONTALVANIA/MG",
          "PEDRO CANARIO/ES",
          "PERDOES/MG",
          "ALCOBACA/BA",
          "PARACATU/MG",
          "MONTE AZUL/MG",
          "SANTA CECILIA/SC",
          "BATAIPORA/MS",
          "JANIOPOLIS/PR",
          "GOVERNADOR MANGABEIRA/BA",
          "SETE QUEDAS/MS",
          "OURICURI/PE",
          "IMBITUBA/SC",
          "SANTO ANTONIO DE PADUA/RJ",
          "ITANHEM/BA",
          "ITAMBACURI/MG",
          "UBAITABA/BA",
          "LEOPOLDINA/MG",
          "CRISTALINA/GO",
          "PARATI/RJ",
          "LAGUNA/SC",
          "CURRAIS NOVOS/RN",
          "LAGOA DOURADA/MG",
          "SONORA/MS",
          "IPUPIARA/BA",
          "MAXIMILIANO DE ALMEIDA/RS",
          "GARUVA/SC",
          "NAZARENO/MG",
          "MUNDO NOVO/BA",
          "CIPO/BA",
          "SANTO ANTONIO DE JESUS/BA",
          "ANDRELANDIA/MG",
          "VARZEA GRANDE/MT",
          "CRUZ ALTA/RS",
          "PICOS/PI",
          "BRASOPOLIS/MG",
          "ANAURILANDIA/MS",
          "MOMBACA/CE",
          "BELEM/PA",
          "FRANCISCO SA/MG",
          "SUME/PB",
          "DRACENA/SP",
          "BRASILANDIA/MS",
          "PARANAGUA/PR",
          "NOVA MUTUM/MT",
          "SOUSA/PB",
          "FARROUPILHA/RS",
          "FORMOSA DO OESTE/PR",
          "PLANURA/MG",
          "MIRABELA/MG",
          "LAGOA FORMOSA/MG",
          "PIRITIBA/BA",
          "FIGUEIRA/PR",
          "PARANAIBA/MS",
          "SAO JOSE DO EGITO/PE",
          "LUZIANIA/GO",
          "BOA VIAGEM/CE",
          "TIMOTEO/MG",
          "NANUQUE/MG",
          "IGUATEMI/MS",
          "MASSARANDUBA/SC",
          "SAO PAULO/SP",
          "BARRA DO GARCAS/MT",
          "MORRINHOS/GO",
          "ITORORO/BA",
          "ITACARE/BA",
          "QUIPAPA/PE",
          "BAMBUI/MG",
          "ITAPERUNA/RJ",
          "PROPRIA/SE",
          "CANHOTINHO/PE",
          "PALMEIRA DAS MISSOES/RS",
          "IRAQUARA/BA",
          "INDIAROBA/SE",
          "ARARIPINA/PE",
          "VALPARAISO DE GOIAS/GO",
          "ANGRA DOS REIS/RJ",
          "CAMPOS DOS GOYTACAZES/RJ",
          "PORTO NACIONAL/TO",
          "GURUPI/TO",
          "ITAGUARA/MG",
          "BAURU/SP",
          "JACIARA/MT",
          "MATO VERDE/MG",
          "AGUA CLARA/MS",
          "CARMO DA CACHOEIRA/MG",
          "SAO LUIS/MA",
          "APARECIDA DE GOIANIA/GO",
          "MONTEIRO/PB",
          "GUARAPARI/ES",
          "ROSARIO OESTE/MT",
          "PARATINGA/BA",
          "OSORIO/RS",
          "ITANHANDU/MG",
          "ALTO PARANA/PR",
          "COSTA RICA/MS",
          "TUPI PAULISTA/SP",
          "ARAUCARIA/PR",
          "CORRENTE/PI",
          "TANGARA/SC",
          "COXIM/MS",
          "ITAGI/BA",
          "MIRASSOL D'OESTE/MT",
          "SANTO ANTONIO DO AMPARO/MG",
          "JARAGUA/GO",
          "RIBAS DO RIO PARDO/MS",
          "RIACHAO DO JACUIPE/BA",
          "IUNA/ES",
          "VILHENA/RO",
          "SAO GABRIEL DO OESTE/MS",
          "BELO JARDIM/PE",
          "AGUA BRANCA/PI",
          "FREDERICO WESTPHALEN/RS",
          "BIGUACU/SC",
          "JI-PARANA/RO",
          "NILOPOLIS/RJ",
          "PORTO VELHO/RO",
          "BARRA/BA",
          "SANTA MARIA DE ITABIRA/MG",
          "SANTANA DO LIVRAMENTO/RS",
          "IBIA/MG",
          "PARAISO DO TOCANTINS/TO",
          "PALMITOS/SC",
          "ESPERA FELIZ/MG",
          "ITAUNA/MG",
          "ALTA FLORESTA/MT",
          "GOIATUBA/GO",
          "ACOPIARA/CE",
          "IMPERATRIZ/MA",
          "PIRIPIRI/PI",
          "SURUBIM/PE",
          "APARECIDA DO TABOADO/MS",
          "CICERO DANTAS/BA",
          "SAO JOSE DO BELMONTE/PE",
          "CAICO/RN",
          "CANTO DO BURITI/PI",
          "PIMENTA BUENO/RO",
          "SAO JOSE DO JACUIPE/BA",
          "CANINDE/CE",
          "CANDEIAS/MG",
          "CABACEIRAS DO PARAGUACU/BA",
          "ABELARDO LUZ/SC",
          "SAO JOAO DO IVAI/PR",
          "PARNAIBA/PI",
          "COLIDER/MT",
          "SERRA BRANCA/PB",
          "CENTRAL/BA",
          "CARUARU/PE",
          "BUENOPOLIS/MG",
          "SANTA CRUZ DO SUL/RS",
          "FRONTEIRA DOS VALES/MG",
          "PARAGUACU/MG",
          "FORMOSA DO RIO PRETO/BA",
          "FLORESTA/PE",
          "ALEGRE/ES",
          "CARPINA/PE",
          "PONTES E LACERDA/MT",
          "SALTO DO ITARARE/PR",
          "MONTE BELO/MG",
          "LIMOEIRO/PE",
          "ALFENAS/MG",
          "BOA ESPERANCA/MG",
          "CARMO DO RIO CLARO/MG",
          "TELEMACO BORBA/PR",
          "PESQUEIRA/PE",
          "SIQUEIRA CAMPOS/PR",
          "POCOS DE CALDAS/MG",
          "POCO FUNDO/MG",
          "SOLEDADE DE MINAS/MG",
          "MACHADO/MG",
          "SANTA RITA DO SAPUCAI/MG",
          "SAO JOAQUIM/SC",
          "SANTANA DA VARGEM/MG",
          "ALTEROSA/MG",
          "PAPANDUVA/SC",
          "GUARAMIRIM/SC",
          "CARMO DA MATA/MG",
          "ANDRADINA/SP",
          "PALMARES/PE",
          "IPORA/GO",
          "CAMPOS GERAIS/MG",
          "IRAI/RS",
          "CAMBUQUIRA/MG",
          "MUZAMBINHO/MG",
          "ITABERA/SP",
          "ITABIRA/MG",
          "CAMPANHA/MG",
          "ITAGUACU DA BAHIA/BA",
          "CAMPO MAIOR/PI",
          "ARIQUEMES/RO",
          "CAMPO DO MEIO/MG",
          "PATO BRANCO/PR",
          "CAMPESTRE/MG",
          "ITATIM/BA",
          "SAO THOME DAS LETRAS/MG",
          "GUARABIRA/PB",
          "SERRANIA/MG",
          "MONTE SANTO DE MINAS/MG",
          "SOMBRIO/SC",
          "MESSIAS/AL",
          "GUAXUPE/MG",
          "CACHOEIRAS DE MACACU/RJ",
          "AFOGADOS DA INGAZEIRA/PE",
          "BARRACAO/RS",
          "RIO LARGO/AL",
          "OURO BRANCO/MG",
          "TRES CORACOES/MG",
          "TRES DE MAIO/RS",
          "SERTANIA/PE",
          "ANDRADAS/MG",
          "SAO SEBASTIAO DO PARAISO/MG",
          "TRES PONTAS/MG",
          "TAPEJARA/PR",
          "ELOI MENDES/MG",
          "LAMBARI/MG",
          "CURIUVA/PR",
          "LAJEADO/RS",
          "SORRISO/MT",
          "COLINAS DO TOCANTINS/TO",
          "URUGUAIANA/RS",
          "CRISTINO CASTRO/PI",
          "CUPIRA/PE",
          "CUSTODIA/PE",
          "CRISTOPOLIS/BA",
          "CORONEL SAPUCAIA/MS",
          "PARAOPEBA/MG",
          "CONCEICAO DA APARECIDA/MG",
          "PIRANGUINHO/MG",
          "LIMOEIRO DO NORTE/CE",
          "DOIS VIZINHOS/PR",
          "ALTO TAQUARI/MT",
          "PANELAS/PE",
          "WAGNER/BA",
          "BARRO ALTO/BA",
          "LUCAS DO RIO VERDE/MT",
          "RUSSAS/CE",
          "CACHOEIRA DO SUL/RS",
          "CARMO DE MINAS/MG",
          "CACERES/MT",
          "LAJEDO DO TABOCAL/BA",
          "DOM ELISEU/PA",
          "SAO LUIS DE MONTES BELOS/GO",
          "MILAGRES/CE",
          "BREJO SANTO/CE",
          "VITORIA DE SANTO ANTAO/PE",
          "CRUZ/CE",
          "GETULIO VARGAS/RS",
          "CABROBO/PE",
          "VIRGINOPOLIS/MG",
          "VILA VELHA/ES",
          "GARIBALDI/RS",
          "APORA/BA",
          "JATI/CE",
          "SAO JOSE DOS QUATRO MARCOS/MT",
          "FRONTEIRA/MG",
          "SAO JOSE DOS CAMPOS/SP",
          "BELEM DE SAO FRANCISCO/PE",
          "ARAPUTANGA/MT",
          "HELIODORA/MG",
          "CONCORDIA/SC",
          "LEBON REGIS/SC",
          "PRESIDENTE PRUDENTE/SP",
          "CORRENTINA/BA",
          "CAMPO VERDE/MT",
          "ITABAIANA/PB",
          "SARANDI/RS",
          "ACAILANDIA/MA",
          "RIACHAO DAS NEVES/BA",
          "MIRACEMA/RJ",
          "ITAGIMIRIM/BA",
          "LINDOIA DO SUL/SC",
          "ALVORADA/TO",
          "ITAMOGI/MG",
          "AREADO/MG",
          "MUQUI/ES",
          "INHAPIM/MG",
          "OEIRAS/PI",
          "IBITITA/BA",
          "CASSILANDIA/MS",
          "LAPA/PR",
          "MORPARA/BA",
          "IBIPEBA/BA",
          "ACUCENA/MG",
          "CRISTINA/MG",
          "CRISTALANDIA DO PIAUI/PI",
          "CANARANA/BA",
          "SAO CARLOS/SC",
          "IGUATAMA/MG",
          "BORDA DA MATA/MG",
          "SOUTO SOARES/BA",
          "CANINDE DE SAO FRANCISCO/SE",
          "UTINGA/BA",
          "BENTO GONCALVES/RS",
          "GUARAI/TO",
          "FRANCISCO BELTRAO/PR",
          "ARAGARCAS/GO",
          "FLORES/PE",
          "PIRANHAS/GO",
          "FERVEDOURO/MG",
          "BOM JESUS/SC",
          "FATIMA/TO",
          "SAO JOAO DO PIAUI/PI",
          "URUCUCA/BA",
          "ALTO GARCAS/MT",
          "VARZEA DA ROCA/BA",
          "ALIANCA DO TOCANTINS/TO",
          "CHAPADAO DO SUL/MS",
          "BOM JESUS DE GOIAS/GO",
          "NONOAI/RS",
          "NOVA ERECHIM/SC",
          "ELISEU MARTINS/PI",
          "PIRENOPOLIS/GO",
          "MACAJUBA/BA",
          "ANASTACIO/MS",
          "BOM JESUS/PI",
          "MONTE ALEGRE DE MINAS/MG",
          "SANTA INES/MA",
          "JESUANIA/MG"
         ],
         "xaxis": "x",
         "y": [
          35,
          33,
          33,
          32,
          31,
          30,
          29,
          28,
          26,
          24,
          23,
          21,
          21,
          21,
          21,
          21,
          20,
          19,
          19,
          19,
          19,
          19,
          18,
          17,
          17,
          17,
          17,
          17,
          17,
          17,
          16,
          16,
          16,
          16,
          16,
          16,
          16,
          16,
          16,
          16,
          16,
          16,
          15,
          15,
          15,
          15,
          15,
          15,
          15,
          15,
          15,
          15,
          15,
          15,
          15,
          15,
          15,
          15,
          15,
          15,
          14,
          14,
          14,
          14,
          14,
          14,
          14,
          14,
          14,
          14,
          14,
          14,
          14,
          14,
          14,
          13,
          13,
          13,
          13,
          13,
          13,
          13,
          13,
          13,
          13,
          13,
          13,
          13,
          13,
          13,
          13,
          13,
          13,
          13,
          13,
          13,
          13,
          13,
          12,
          12,
          12,
          12,
          12,
          12,
          12,
          12,
          12,
          12,
          12,
          12,
          12,
          12,
          11,
          11,
          11,
          11,
          11,
          11,
          11,
          11,
          11,
          11,
          11,
          11,
          11,
          11,
          11,
          11,
          11,
          11,
          11,
          10,
          10,
          10,
          10,
          10,
          10,
          10,
          10,
          10,
          10,
          10,
          10,
          10,
          10,
          10,
          10,
          10,
          10,
          10,
          10,
          10,
          10,
          10,
          10,
          9,
          9,
          9,
          9,
          9,
          9,
          9,
          9,
          9,
          9,
          9,
          9,
          9,
          9,
          9,
          9,
          9,
          9,
          9,
          9,
          9,
          9,
          9,
          9,
          9,
          9,
          9,
          9,
          9,
          9,
          8,
          8,
          8,
          8,
          8,
          8,
          8,
          8,
          8,
          8,
          8,
          8,
          8,
          8,
          8,
          8,
          8,
          8,
          8,
          8,
          8,
          8,
          8,
          8,
          8,
          8,
          8,
          8,
          8,
          8,
          8,
          8,
          8,
          8,
          8,
          8,
          7,
          7,
          7,
          7,
          7,
          7,
          7,
          7,
          7,
          7,
          7,
          7,
          7,
          7,
          7,
          7,
          7,
          7,
          7,
          7,
          7,
          7,
          7,
          7,
          7,
          7,
          7,
          7,
          7,
          7,
          7,
          7,
          7,
          7,
          7,
          7,
          7,
          7,
          7,
          7,
          7,
          7,
          7,
          7,
          7,
          7,
          7,
          7,
          7,
          7,
          7,
          7,
          7,
          7,
          7,
          7,
          7,
          6,
          6,
          6,
          6,
          6,
          6,
          6,
          6,
          6,
          6,
          6,
          6,
          6,
          6,
          6,
          6,
          6,
          6,
          6,
          6,
          6,
          6,
          6,
          6,
          6,
          6,
          6,
          6,
          6,
          6,
          6,
          6,
          6,
          6,
          6,
          6,
          6,
          6,
          6,
          6,
          6,
          6,
          6,
          6,
          6,
          6,
          6,
          6,
          6,
          6,
          6,
          6,
          6,
          6,
          6,
          6,
          6,
          6,
          5,
          5,
          5,
          5,
          5,
          5,
          5,
          5,
          5,
          5,
          5,
          5,
          5,
          5,
          5,
          5,
          5,
          5,
          5,
          5,
          5,
          5,
          5,
          5,
          5,
          5,
          5,
          5,
          5,
          5,
          5,
          5,
          5,
          5,
          5,
          5,
          5,
          5,
          5,
          5,
          5,
          5,
          5,
          5,
          5,
          5,
          5,
          4,
          4,
          4,
          4,
          4,
          4,
          4,
          4,
          4,
          4,
          4,
          4,
          4,
          4,
          4,
          4,
          4,
          4,
          4,
          4,
          4,
          4,
          4,
          4,
          4,
          4,
          4,
          4,
          4,
          4,
          4,
          4,
          4,
          4,
          4,
          4,
          4,
          4,
          4,
          4,
          4,
          4,
          4,
          4,
          4,
          4,
          4,
          4,
          4,
          4,
          4,
          4,
          4,
          4,
          4,
          4,
          4,
          4,
          4,
          3,
          3,
          3,
          3,
          3,
          3,
          3,
          3,
          3,
          3,
          3,
          3,
          3,
          3,
          3,
          3,
          3,
          3,
          3,
          3,
          3,
          3,
          3,
          3,
          3,
          3,
          3,
          3,
          3,
          3,
          3,
          3,
          3,
          3,
          3,
          3,
          3,
          3,
          3,
          3,
          3,
          3,
          3,
          3,
          3,
          3,
          3,
          3,
          3,
          3,
          3,
          3,
          3,
          3,
          3,
          3,
          3,
          3,
          2,
          2,
          2,
          2,
          2,
          2,
          2,
          2,
          2,
          2,
          2,
          2,
          2,
          2,
          2,
          2,
          2,
          2,
          2,
          2,
          2,
          2,
          2,
          2,
          2,
          2,
          2,
          2,
          2,
          2,
          2,
          2,
          2,
          2,
          2,
          2,
          2,
          2,
          2,
          2,
          2,
          2,
          2,
          2,
          2,
          2,
          2,
          2,
          2,
          2,
          2,
          2,
          2,
          2,
          2,
          2,
          2,
          2,
          2,
          2,
          2,
          2,
          2,
          2,
          2,
          2,
          2,
          2,
          2,
          2,
          2,
          2,
          2,
          2,
          2,
          2,
          2,
          2,
          2,
          2,
          2,
          2,
          1,
          1,
          1,
          1,
          1,
          1,
          1,
          1,
          1,
          1,
          1,
          1,
          1,
          1,
          1,
          1,
          1,
          1,
          1,
          1,
          1,
          1,
          1,
          1,
          1,
          1,
          1,
          1,
          1,
          1,
          1,
          1,
          1,
          1,
          1,
          1,
          1,
          1,
          1,
          1,
          1,
          1,
          1,
          1,
          1,
          1,
          1,
          1,
          1,
          1,
          1,
          1,
          1,
          1,
          1,
          1,
          1,
          1,
          1,
          1,
          1,
          1,
          1,
          1,
          1,
          1,
          1,
          1,
          1,
          1,
          1,
          1,
          1,
          1,
          1,
          1,
          1,
          1,
          1,
          1,
          1,
          1,
          1,
          1,
          1,
          1,
          1
         ],
         "yaxis": "y"
        }
       ],
       "layout": {
        "barmode": "relative",
        "legend": {
         "title": {
          "text": "Cidade de origem"
         },
         "tracegroupgap": 0
        },
        "template": {
         "data": {
          "bar": [
           {
            "error_x": {
             "color": "#2a3f5f"
            },
            "error_y": {
             "color": "#2a3f5f"
            },
            "marker": {
             "line": {
              "color": "white",
              "width": 0.5
             },
             "pattern": {
              "fillmode": "overlay",
              "size": 10,
              "solidity": 0.2
             }
            },
            "type": "bar"
           }
          ],
          "barpolar": [
           {
            "marker": {
             "line": {
              "color": "white",
              "width": 0.5
             },
             "pattern": {
              "fillmode": "overlay",
              "size": 10,
              "solidity": 0.2
             }
            },
            "type": "barpolar"
           }
          ],
          "carpet": [
           {
            "aaxis": {
             "endlinecolor": "#2a3f5f",
             "gridcolor": "#C8D4E3",
             "linecolor": "#C8D4E3",
             "minorgridcolor": "#C8D4E3",
             "startlinecolor": "#2a3f5f"
            },
            "baxis": {
             "endlinecolor": "#2a3f5f",
             "gridcolor": "#C8D4E3",
             "linecolor": "#C8D4E3",
             "minorgridcolor": "#C8D4E3",
             "startlinecolor": "#2a3f5f"
            },
            "type": "carpet"
           }
          ],
          "choropleth": [
           {
            "colorbar": {
             "outlinewidth": 0,
             "ticks": ""
            },
            "type": "choropleth"
           }
          ],
          "contour": [
           {
            "colorbar": {
             "outlinewidth": 0,
             "ticks": ""
            },
            "colorscale": [
             [
              0,
              "#0d0887"
             ],
             [
              0.1111111111111111,
              "#46039f"
             ],
             [
              0.2222222222222222,
              "#7201a8"
             ],
             [
              0.3333333333333333,
              "#9c179e"
             ],
             [
              0.4444444444444444,
              "#bd3786"
             ],
             [
              0.5555555555555556,
              "#d8576b"
             ],
             [
              0.6666666666666666,
              "#ed7953"
             ],
             [
              0.7777777777777778,
              "#fb9f3a"
             ],
             [
              0.8888888888888888,
              "#fdca26"
             ],
             [
              1,
              "#f0f921"
             ]
            ],
            "type": "contour"
           }
          ],
          "contourcarpet": [
           {
            "colorbar": {
             "outlinewidth": 0,
             "ticks": ""
            },
            "type": "contourcarpet"
           }
          ],
          "heatmap": [
           {
            "colorbar": {
             "outlinewidth": 0,
             "ticks": ""
            },
            "colorscale": [
             [
              0,
              "#0d0887"
             ],
             [
              0.1111111111111111,
              "#46039f"
             ],
             [
              0.2222222222222222,
              "#7201a8"
             ],
             [
              0.3333333333333333,
              "#9c179e"
             ],
             [
              0.4444444444444444,
              "#bd3786"
             ],
             [
              0.5555555555555556,
              "#d8576b"
             ],
             [
              0.6666666666666666,
              "#ed7953"
             ],
             [
              0.7777777777777778,
              "#fb9f3a"
             ],
             [
              0.8888888888888888,
              "#fdca26"
             ],
             [
              1,
              "#f0f921"
             ]
            ],
            "type": "heatmap"
           }
          ],
          "heatmapgl": [
           {
            "colorbar": {
             "outlinewidth": 0,
             "ticks": ""
            },
            "colorscale": [
             [
              0,
              "#0d0887"
             ],
             [
              0.1111111111111111,
              "#46039f"
             ],
             [
              0.2222222222222222,
              "#7201a8"
             ],
             [
              0.3333333333333333,
              "#9c179e"
             ],
             [
              0.4444444444444444,
              "#bd3786"
             ],
             [
              0.5555555555555556,
              "#d8576b"
             ],
             [
              0.6666666666666666,
              "#ed7953"
             ],
             [
              0.7777777777777778,
              "#fb9f3a"
             ],
             [
              0.8888888888888888,
              "#fdca26"
             ],
             [
              1,
              "#f0f921"
             ]
            ],
            "type": "heatmapgl"
           }
          ],
          "histogram": [
           {
            "marker": {
             "pattern": {
              "fillmode": "overlay",
              "size": 10,
              "solidity": 0.2
             }
            },
            "type": "histogram"
           }
          ],
          "histogram2d": [
           {
            "colorbar": {
             "outlinewidth": 0,
             "ticks": ""
            },
            "colorscale": [
             [
              0,
              "#0d0887"
             ],
             [
              0.1111111111111111,
              "#46039f"
             ],
             [
              0.2222222222222222,
              "#7201a8"
             ],
             [
              0.3333333333333333,
              "#9c179e"
             ],
             [
              0.4444444444444444,
              "#bd3786"
             ],
             [
              0.5555555555555556,
              "#d8576b"
             ],
             [
              0.6666666666666666,
              "#ed7953"
             ],
             [
              0.7777777777777778,
              "#fb9f3a"
             ],
             [
              0.8888888888888888,
              "#fdca26"
             ],
             [
              1,
              "#f0f921"
             ]
            ],
            "type": "histogram2d"
           }
          ],
          "histogram2dcontour": [
           {
            "colorbar": {
             "outlinewidth": 0,
             "ticks": ""
            },
            "colorscale": [
             [
              0,
              "#0d0887"
             ],
             [
              0.1111111111111111,
              "#46039f"
             ],
             [
              0.2222222222222222,
              "#7201a8"
             ],
             [
              0.3333333333333333,
              "#9c179e"
             ],
             [
              0.4444444444444444,
              "#bd3786"
             ],
             [
              0.5555555555555556,
              "#d8576b"
             ],
             [
              0.6666666666666666,
              "#ed7953"
             ],
             [
              0.7777777777777778,
              "#fb9f3a"
             ],
             [
              0.8888888888888888,
              "#fdca26"
             ],
             [
              1,
              "#f0f921"
             ]
            ],
            "type": "histogram2dcontour"
           }
          ],
          "mesh3d": [
           {
            "colorbar": {
             "outlinewidth": 0,
             "ticks": ""
            },
            "type": "mesh3d"
           }
          ],
          "parcoords": [
           {
            "line": {
             "colorbar": {
              "outlinewidth": 0,
              "ticks": ""
             }
            },
            "type": "parcoords"
           }
          ],
          "pie": [
           {
            "automargin": true,
            "type": "pie"
           }
          ],
          "scatter": [
           {
            "fillpattern": {
             "fillmode": "overlay",
             "size": 10,
             "solidity": 0.2
            },
            "type": "scatter"
           }
          ],
          "scatter3d": [
           {
            "line": {
             "colorbar": {
              "outlinewidth": 0,
              "ticks": ""
             }
            },
            "marker": {
             "colorbar": {
              "outlinewidth": 0,
              "ticks": ""
             }
            },
            "type": "scatter3d"
           }
          ],
          "scattercarpet": [
           {
            "marker": {
             "colorbar": {
              "outlinewidth": 0,
              "ticks": ""
             }
            },
            "type": "scattercarpet"
           }
          ],
          "scattergeo": [
           {
            "marker": {
             "colorbar": {
              "outlinewidth": 0,
              "ticks": ""
             }
            },
            "type": "scattergeo"
           }
          ],
          "scattergl": [
           {
            "marker": {
             "colorbar": {
              "outlinewidth": 0,
              "ticks": ""
             }
            },
            "type": "scattergl"
           }
          ],
          "scattermapbox": [
           {
            "marker": {
             "colorbar": {
              "outlinewidth": 0,
              "ticks": ""
             }
            },
            "type": "scattermapbox"
           }
          ],
          "scatterpolar": [
           {
            "marker": {
             "colorbar": {
              "outlinewidth": 0,
              "ticks": ""
             }
            },
            "type": "scatterpolar"
           }
          ],
          "scatterpolargl": [
           {
            "marker": {
             "colorbar": {
              "outlinewidth": 0,
              "ticks": ""
             }
            },
            "type": "scatterpolargl"
           }
          ],
          "scatterternary": [
           {
            "marker": {
             "colorbar": {
              "outlinewidth": 0,
              "ticks": ""
             }
            },
            "type": "scatterternary"
           }
          ],
          "surface": [
           {
            "colorbar": {
             "outlinewidth": 0,
             "ticks": ""
            },
            "colorscale": [
             [
              0,
              "#0d0887"
             ],
             [
              0.1111111111111111,
              "#46039f"
             ],
             [
              0.2222222222222222,
              "#7201a8"
             ],
             [
              0.3333333333333333,
              "#9c179e"
             ],
             [
              0.4444444444444444,
              "#bd3786"
             ],
             [
              0.5555555555555556,
              "#d8576b"
             ],
             [
              0.6666666666666666,
              "#ed7953"
             ],
             [
              0.7777777777777778,
              "#fb9f3a"
             ],
             [
              0.8888888888888888,
              "#fdca26"
             ],
             [
              1,
              "#f0f921"
             ]
            ],
            "type": "surface"
           }
          ],
          "table": [
           {
            "cells": {
             "fill": {
              "color": "#EBF0F8"
             },
             "line": {
              "color": "white"
             }
            },
            "header": {
             "fill": {
              "color": "#C8D4E3"
             },
             "line": {
              "color": "white"
             }
            },
            "type": "table"
           }
          ]
         },
         "layout": {
          "annotationdefaults": {
           "arrowcolor": "#2a3f5f",
           "arrowhead": 0,
           "arrowwidth": 1
          },
          "autotypenumbers": "strict",
          "coloraxis": {
           "colorbar": {
            "outlinewidth": 0,
            "ticks": ""
           }
          },
          "colorscale": {
           "diverging": [
            [
             0,
             "#8e0152"
            ],
            [
             0.1,
             "#c51b7d"
            ],
            [
             0.2,
             "#de77ae"
            ],
            [
             0.3,
             "#f1b6da"
            ],
            [
             0.4,
             "#fde0ef"
            ],
            [
             0.5,
             "#f7f7f7"
            ],
            [
             0.6,
             "#e6f5d0"
            ],
            [
             0.7,
             "#b8e186"
            ],
            [
             0.8,
             "#7fbc41"
            ],
            [
             0.9,
             "#4d9221"
            ],
            [
             1,
             "#276419"
            ]
           ],
           "sequential": [
            [
             0,
             "#0d0887"
            ],
            [
             0.1111111111111111,
             "#46039f"
            ],
            [
             0.2222222222222222,
             "#7201a8"
            ],
            [
             0.3333333333333333,
             "#9c179e"
            ],
            [
             0.4444444444444444,
             "#bd3786"
            ],
            [
             0.5555555555555556,
             "#d8576b"
            ],
            [
             0.6666666666666666,
             "#ed7953"
            ],
            [
             0.7777777777777778,
             "#fb9f3a"
            ],
            [
             0.8888888888888888,
             "#fdca26"
            ],
            [
             1,
             "#f0f921"
            ]
           ],
           "sequentialminus": [
            [
             0,
             "#0d0887"
            ],
            [
             0.1111111111111111,
             "#46039f"
            ],
            [
             0.2222222222222222,
             "#7201a8"
            ],
            [
             0.3333333333333333,
             "#9c179e"
            ],
            [
             0.4444444444444444,
             "#bd3786"
            ],
            [
             0.5555555555555556,
             "#d8576b"
            ],
            [
             0.6666666666666666,
             "#ed7953"
            ],
            [
             0.7777777777777778,
             "#fb9f3a"
            ],
            [
             0.8888888888888888,
             "#fdca26"
            ],
            [
             1,
             "#f0f921"
            ]
           ]
          },
          "colorway": [
           "#636efa",
           "#EF553B",
           "#00cc96",
           "#ab63fa",
           "#FFA15A",
           "#19d3f3",
           "#FF6692",
           "#B6E880",
           "#FF97FF",
           "#FECB52"
          ],
          "font": {
           "color": "#2a3f5f"
          },
          "geo": {
           "bgcolor": "white",
           "lakecolor": "white",
           "landcolor": "white",
           "showlakes": true,
           "showland": true,
           "subunitcolor": "#C8D4E3"
          },
          "hoverlabel": {
           "align": "left"
          },
          "hovermode": "closest",
          "mapbox": {
           "style": "light"
          },
          "paper_bgcolor": "white",
          "plot_bgcolor": "white",
          "polar": {
           "angularaxis": {
            "gridcolor": "#EBF0F8",
            "linecolor": "#EBF0F8",
            "ticks": ""
           },
           "bgcolor": "white",
           "radialaxis": {
            "gridcolor": "#EBF0F8",
            "linecolor": "#EBF0F8",
            "ticks": ""
           }
          },
          "scene": {
           "xaxis": {
            "backgroundcolor": "white",
            "gridcolor": "#DFE8F3",
            "gridwidth": 2,
            "linecolor": "#EBF0F8",
            "showbackground": true,
            "ticks": "",
            "zerolinecolor": "#EBF0F8"
           },
           "yaxis": {
            "backgroundcolor": "white",
            "gridcolor": "#DFE8F3",
            "gridwidth": 2,
            "linecolor": "#EBF0F8",
            "showbackground": true,
            "ticks": "",
            "zerolinecolor": "#EBF0F8"
           },
           "zaxis": {
            "backgroundcolor": "white",
            "gridcolor": "#DFE8F3",
            "gridwidth": 2,
            "linecolor": "#EBF0F8",
            "showbackground": true,
            "ticks": "",
            "zerolinecolor": "#EBF0F8"
           }
          },
          "shapedefaults": {
           "line": {
            "color": "#2a3f5f"
           }
          },
          "ternary": {
           "aaxis": {
            "gridcolor": "#DFE8F3",
            "linecolor": "#A2B1C6",
            "ticks": ""
           },
           "baxis": {
            "gridcolor": "#DFE8F3",
            "linecolor": "#A2B1C6",
            "ticks": ""
           },
           "bgcolor": "white",
           "caxis": {
            "gridcolor": "#DFE8F3",
            "linecolor": "#A2B1C6",
            "ticks": ""
           }
          },
          "title": {
           "x": 0.05
          },
          "xaxis": {
           "automargin": true,
           "gridcolor": "#EBF0F8",
           "linecolor": "#EBF0F8",
           "ticks": "",
           "title": {
            "standoff": 15
           },
           "zerolinecolor": "#EBF0F8",
           "zerolinewidth": 2
          },
          "yaxis": {
           "automargin": true,
           "gridcolor": "#EBF0F8",
           "linecolor": "#EBF0F8",
           "ticks": "",
           "title": {
            "standoff": 15
           },
           "zerolinecolor": "#EBF0F8",
           "zerolinewidth": 2
          }
         }
        },
        "title": {
         "text": "Rotas saindo de São Paulo em ABR/2022"
        },
        "xaxis": {
         "anchor": "y",
         "domain": [
          0,
          1
         ],
         "title": {
          "text": "ponto_destino_viagem"
         }
        },
        "yaxis": {
         "anchor": "x",
         "domain": [
          0,
          1
         ],
         "title": {
          "text": "N° de bilhetes"
         }
        }
       }
      },
      "text/html": [
       "<div>                            <div id=\"a8ec1c3c-07bb-4e16-8a84-9bc633d78341\" class=\"plotly-graph-div\" style=\"height:525px; width:100%;\"></div>            <script type=\"text/javascript\">                require([\"plotly\"], function(Plotly) {                    window.PLOTLYENV=window.PLOTLYENV || {};                                    if (document.getElementById(\"a8ec1c3c-07bb-4e16-8a84-9bc633d78341\")) {                    Plotly.newPlot(                        \"a8ec1c3c-07bb-4e16-8a84-9bc633d78341\",                        [{\"alignmentgroup\":\"True\",\"hovertemplate\":\"Cidade de origem=SAO PAULO/SP<br>ponto_destino_viagem=%{x}<br>N\\u00b0 de bilhetes=%{y}<extra></extra>\",\"legendgroup\":\"SAO PAULO/SP\",\"marker\":{\"color\":\"#636efa\",\"pattern\":{\"shape\":\"\"}},\"name\":\"SAO PAULO/SP\",\"offsetgroup\":\"SAO PAULO/SP\",\"orientation\":\"v\",\"showlegend\":true,\"textposition\":\"auto\",\"x\":[\"CURITIBA/PR\",\"LONDRINA/PR\",\"RIO DE JANEIRO/RJ\",\"BELO HORIZONTE/MG\",\"MARINGA/PR\",\"VITORIA DA CONQUISTA/BA\",\"BRASILIA/DF\",\"GOIANIA/GO\",\"FOZ DO IGUACU/PR\",\"UBERLANDIA/MG\",\"UBERABA/MG\",\"DOURADOS/MS\",\"CASCAVEL/PR\",\"CAMPO GRANDE/MS\",\"TEOFILO OTONI/MG\",\"UMUARAMA/PR\",\"CALDAS NOVAS/GO\",\"CAMPO MOURAO/PR\",\"TEIXEIRA DE FREITAS/BA\",\"JOINVILLE/SC\",\"FLORIANOPOLIS/SC\",\"VITORIA/ES\",\"TOLEDO/PR\",\"CIANORTE/PR\",\"CUIABA/MT\",\"MONTES CLAROS/MG\",\"SALVADOR/BA\",\"NATAL/RN\",\"ITABUNA/BA\",\"GUANHAES/MG\",\"GUAIRA/PR\",\"ARAPONGAS/PR\",\"ARACAJU/SE\",\"BLUMENAU/SC\",\"BATAGUASSU/MS\",\"GUARAPUAVA/PR\",\"FEIRA DE SANTANA/BA\",\"VICOSA/MG\",\"CABO FRIO/RJ\",\"MOSSORO/RN\",\"JEQUIE/BA\",\"ITAJAI/SC\",\"LAGES/SC\",\"ITUMBIARA/GO\",\"APUCARANA/PR\",\"PATOS/PB\",\"NOVA ANDRADINA/MS\",\"SEABRA/BA\",\"GUANAMBI/BA\",\"IBOTIRAMA/BA\",\"ARACUAI/MG\",\"PETROPOLIS/RJ\",\"NOVA IGUACU/RJ\",\"PONTA GROSSA/PR\",\"TRES LAGOAS/MS\",\"PONTA PORA/MS\",\"FORTALEZA/CE\",\"BALNEARIO CAMBORIU/SC\",\"ANAPOLIS/GO\",\"LAVRAS/MG\",\"CANDIDO SALES/BA\",\"JARAGUA DO SUL/SC\",\"BRUSQUE/SC\",\"RECIFE/PE\",\"ARAXA/MG\",\"MACEIO/AL\",\"CAPELINHA/MG\",\"ITAOBIM/MG\",\"CONSELHEIRO LAFAIETE/MG\",\"PORTO ALEGRE/RS\",\"JUIZ DE FORA/MG\",\"PORECATU/PR\",\"ALMENARA/MG\",\"DIAMANTINA/MG\",\"SANTA MARIA/RS\",\"PARANAVAI/PR\",\"DUQUE DE CAXIAS/RJ\",\"NITEROI/RJ\",\"BETIM/MG\",\"ILHEUS/BA\",\"RESENDE/RJ\",\"BARREIRAS/BA\",\"ALEM PARAIBA/MG\",\"IRECE/BA\",\"BALNEARIO PICARRAS/SC\",\"JATAI/GO\",\"JANUARIA/MG\",\"PADRE PARAISO/MG\",\"VIRGEM DA LAPA/MG\",\"DIVINOPOLIS/MG\",\"CHAPECO/SC\",\"PONTE NOVA/MG\",\"SENHOR DO BONFIM/BA\",\"VOLTA REDONDA/RJ\",\"PORTO UNIAO/SC\",\"CURVELO/MG\",\"RONDONOPOLIS/MT\",\"MEDIANEIRA/PR\",\"SANTANA/BA\",\"PASSO FUNDO/RS\",\"JOACABA/SC\",\"CAXIAS DO SUL/RS\",\"TUBARAO/SC\",\"SETE LAGOAS/MG\",\"PAULO AFONSO/BA\",\"TUPA/SP\",\"UBA/MG\",\"MINAS NOVAS/MG\",\"TAUA/CE\",\"PETROLINA/PE\",\"SAO JOAO DEL REI/MG\",\"POCOES/BA\",\"GASPAR/SC\",\"PALMAS/PR\",\"GRAVATAI/RS\",\"MAGE/RJ\",\"CATALAO/GO\",\"RIO POMBA/MG\",\"BARRA MANSA/RJ\",\"BARRA VELHA/SC\",\"SAO MATEUS/ES\",\"MARECHAL CANDIDO RONDON/PR\",\"SAO FRANCISCO/MG\",\"CRATO/CE\",\"ROLANDIA/PR\",\"BOM JESUS DA LAPA/BA\",\"PATOS DE MINAS/MG\",\"PIRAPORA/MG\",\"IVINHEMA/MS\",\"EUNAPOLIS/BA\",\"ARAPIRACA/AL\",\"BOTUCATU/SP\",\"ARAGUARI/MG\",\"GARANHUNS/PE\",\"BOCAIUVA/MG\",\"RIO DO SUL/SC\",\"FATIMA DO SUL/MS\",\"SALINAS/MG\",\"MARIANA/MG\",\"SALGUEIRO/PE\",\"CORINTO/MG\",\"IVAIPORA/PR\",\"CORNELIO PROCOPIO/PR\",\"BARBACENA/MG\",\"LARANJEIRAS DO SUL/PR\",\"BANDEIRANTES/PR\",\"TERESOPOLIS/RJ\",\"EUCLIDES DA CUNHA/BA\",\"ITAPETINGA/BA\",\"CRATEUS/CE\",\"GOVERNADOR VALADARES/MG\",\"CAMBARA/PR\",\"XIQUE-XIQUE/BA\",\"ERECHIM/RS\",\"JANAUBA/MG\",\"GOIOERE/PR\",\"ITUIUTABA/MG\",\"MORRO DO CHAPEU/BA\",\"SANTO ESTEVAO/BA\",\"VACARIA/RS\",\"MONTE SANTO/BA\",\"NOVA FRIBURGO/RJ\",\"ITUTINGA/MG\",\"SANTA ROSA/RS\",\"PORTO SEGURO/BA\",\"UBATA/BA\",\"PARA DE MINAS/MG\",\"ARACI/BA\",\"JUAZEIRO/BA\",\"ITAMARAJU/BA\",\"MEDEIROS NETO/BA\",\"ITABAIANA/SE\",\"ASSIS CHATEAUBRIAND/PR\",\"MARILIA/SP\",\"MEDINA/MG\",\"CAJAZEIRAS/PB\",\"BRASILIA DE MINAS/MG\",\"MINEIROS/GO\",\"CAPIM GROSSO/BA\",\"PALMEIRA DOS INDIOS/AL\",\"ALAGOINHAS/BA\",\"PRADO/BA\",\"RIBEIRA DO POMBAL/BA\",\"NEPOMUCENO/MG\",\"LINHARES/ES\",\"TAIOBEIRAS/MG\",\"TIMBO/SC\",\"TOBIAS BARRETO/SE\",\"FORMIGA/MG\",\"JANDAIA DO SUL/PR\",\"TERESINA/PI\",\"JESUITAS/PR\",\"CRICIUMA/SC\",\"CAMPINA GRANDE/PB\",\"IBICARAI/BA\",\"CARATINGA/MG\",\"DEODAPOLIS/MS\",\"LAGARTO/SE\",\"OURO PRETO/MG\",\"ITAJUBA/MG\",\"PAU DOS FERROS/RN\",\"CAMACARI/BA\",\"MARMELEIRO/PR\",\"IPORA/PR\",\"SERRA TALHADA/PE\",\"CANOINHAS/SC\",\"MARIBONDO/AL\",\"TUCANO/BA\",\"JUAZEIRO DO NORTE/CE\",\"FLORIANO/PI\",\"UNIAO DA VITORIA/PR\",\"SAO MATEUS DO SUL/PR\",\"ESPLANADA/BA\",\"RIO BRILHANTE/MS\",\"ARARANGUA/SC\",\"PELOTAS/RS\",\"VIDEIRA/SC\",\"CACADOR/SC\",\"RIO GRANDE/RS\",\"SINOP/MT\",\"SAO JOAO EVANGELISTA/MG\",\"BOM SUCESSO/MG\",\"LAJEDO/PE\",\"CRUZEIRO DO OESTE/PR\",\"MAFRA/SC\",\"OSVALDO CRUZ/SP\",\"CARMO DO PARANAIBA/MG\",\"NOVA ALVORADA DO SUL/MS\",\"PATROCINIO/MG\",\"SERRINHA/BA\",\"ANDIRA/PR\",\"MARAVILHA/SC\",\"CACHOEIRO DE ITAPEMIRIM/ES\",\"MILAGRES/BA\",\"SAO LOURENCO/MG\",\"PINHALZINHO/SC\",\"CASSIA/MG\",\"SOBRAL/CE\",\"VASSOURAS/RJ\",\"NOVA ESPERANCA/PR\",\"SAO JOAO DO PARAISO/MG\",\"LOANDA/PR\",\"SAO GOTARDO/MG\",\"SANTANA DO IPANEMA/AL\",\"JOAO PESSOA/PB\",\"ENGENHEIRO BELTRAO/PR\",\"TRES RIOS/RJ\",\"GLORIA DE DOURADOS/MS\",\"RUY BARBOSA/BA\",\"PORTEIRINHA/MG\",\"JACOBINA/BA\",\"RIO VERDE/GO\",\"TAPIRA/PR\",\"XANXERE/SC\",\"BARRA DO PIRAI/RJ\",\"RIO CASCA/MG\",\"ICONHA/ES\",\"IGUATU/CE\",\"TIJUCAS/SC\",\"PALMAS/TO\",\"ITATIAIA/RJ\",\"IPIRA/BA\",\"UBIRATA/PR\",\"RAUL SOARES/MG\",\"QUIXADA/CE\",\"ITAPEMA/SC\",\"NOVO HAMBURGO/RS\",\"ARCOS/MG\",\"NAVIRAI/MS\",\"VISCONDE DO RIO BRANCO/MG\",\"CAMPO BELO/MG\",\"FRUTAL/MG\",\"URANDI/BA\",\"GANDU/BA\",\"ENTRE RIOS DE MINAS/MG\",\"OLIVEIRA/MG\",\"ESPINOSA/MG\",\"PARAISOPOLIS/MG\",\"JOAO PINHEIRO/MG\",\"PRATA/MG\",\"INHAMBUPE/BA\",\"CRUZ DAS ALMAS/BA\",\"SAO JERONIMO/RS\",\"IPATINGA/MG\",\"INDAIAL/SC\",\"RIACHO DE SANTANA/BA\",\"CARANGOLA/MG\",\"CANSANCAO/BA\",\"PRIMAVERA DO LESTE/MT\",\"XAXIM/SC\",\"EXU/PE\",\"SANTA MARIA DO SUACUI/MG\",\"POMPEIA/SP\",\"CRUZILIA/MG\",\"ESTANCIA/SE\",\"ITABERABA/BA\",\"QUEIMADAS/BA\",\"OURO FINO/MG\",\"SANTO ANGELO/RS\",\"POMBAL/PB\",\"CARAZINHO/RS\",\"SAO MIGUEL D'OESTE/SC\",\"LUCELIA/SP\",\"PINDAI/BA\",\"CONCEICAO DO COITE/BA\",\"LUIS EDUARDO MAGALHAES/BA\",\"JAGUARIBE/CE\",\"AGUA BOA/MG\",\"JACUTINGA/MG\",\"JEQUITINHONHA/MG\",\"SANTA HELENA DE GOIAS/GO\",\"CAXAMBU/MG\",\"JEREMOABO/BA\",\"IACU/BA\",\"OLIVEIRA DOS BREJINHOS/BA\",\"MANHUACU/MG\",\"SAO LEOPOLDO/RS\",\"MANHUMIRIM/MG\",\"FORMOSA/GO\",\"ADAMANTINA/SP\",\"POSSE/GO\",\"NOVA LONDRINA/PR\",\"MANTENA/MG\",\"POUSO ALEGRE/MG\",\"VARZEA DA PALMA/MG\",\"PENEDO/AL\",\"UIRAUNA/PB\",\"MIGUEL CALMON/BA\",\"PASSA QUATRO/MG\",\"BARROSO/MG\",\"MURIAE/MG\",\"MIRANDA/MS\",\"PARAIBA DO SUL/RJ\",\"UNIAO DOS PALMARES/AL\",\"TIMBAUBA/PE\",\"BOM JESUS DO NORTE/ES\",\"BOM DESPACHO/MG\",\"ICO/CE\",\"IJUI/RS\",\"SANTA QUITERIA/CE\",\"ITUMIRIM/MG\",\"PEDRA AZUL/MG\",\"SANTA MARIANA/PR\",\"BARRA DO MENDES/BA\",\"SANTA MARIA DA VITORIA/BA\",\"VALENCA/BA\",\"PEABIRU/PR\",\"CONGONHAS/MG\",\"SAO MIGUEL DOS CAMPOS/AL\",\"CARANDAI/MG\",\"ITAUEIRA/PI\",\"MONTALVANIA/MG\",\"PEDRO CANARIO/ES\",\"PERDOES/MG\",\"ALCOBACA/BA\",\"PARACATU/MG\",\"MONTE AZUL/MG\",\"SANTA CECILIA/SC\",\"BATAIPORA/MS\",\"JANIOPOLIS/PR\",\"GOVERNADOR MANGABEIRA/BA\",\"SETE QUEDAS/MS\",\"OURICURI/PE\",\"IMBITUBA/SC\",\"SANTO ANTONIO DE PADUA/RJ\",\"ITANHEM/BA\",\"ITAMBACURI/MG\",\"UBAITABA/BA\",\"LEOPOLDINA/MG\",\"CRISTALINA/GO\",\"PARATI/RJ\",\"LAGUNA/SC\",\"CURRAIS NOVOS/RN\",\"LAGOA DOURADA/MG\",\"SONORA/MS\",\"IPUPIARA/BA\",\"MAXIMILIANO DE ALMEIDA/RS\",\"GARUVA/SC\",\"NAZARENO/MG\",\"MUNDO NOVO/BA\",\"CIPO/BA\",\"SANTO ANTONIO DE JESUS/BA\",\"ANDRELANDIA/MG\",\"VARZEA GRANDE/MT\",\"CRUZ ALTA/RS\",\"PICOS/PI\",\"BRASOPOLIS/MG\",\"ANAURILANDIA/MS\",\"MOMBACA/CE\",\"BELEM/PA\",\"FRANCISCO SA/MG\",\"SUME/PB\",\"DRACENA/SP\",\"BRASILANDIA/MS\",\"PARANAGUA/PR\",\"NOVA MUTUM/MT\",\"SOUSA/PB\",\"FARROUPILHA/RS\",\"FORMOSA DO OESTE/PR\",\"PLANURA/MG\",\"MIRABELA/MG\",\"LAGOA FORMOSA/MG\",\"PIRITIBA/BA\",\"FIGUEIRA/PR\",\"PARANAIBA/MS\",\"SAO JOSE DO EGITO/PE\",\"LUZIANIA/GO\",\"BOA VIAGEM/CE\",\"TIMOTEO/MG\",\"NANUQUE/MG\",\"IGUATEMI/MS\",\"MASSARANDUBA/SC\",\"SAO PAULO/SP\",\"BARRA DO GARCAS/MT\",\"MORRINHOS/GO\",\"ITORORO/BA\",\"ITACARE/BA\",\"QUIPAPA/PE\",\"BAMBUI/MG\",\"ITAPERUNA/RJ\",\"PROPRIA/SE\",\"CANHOTINHO/PE\",\"PALMEIRA DAS MISSOES/RS\",\"IRAQUARA/BA\",\"INDIAROBA/SE\",\"ARARIPINA/PE\",\"VALPARAISO DE GOIAS/GO\",\"ANGRA DOS REIS/RJ\",\"CAMPOS DOS GOYTACAZES/RJ\",\"PORTO NACIONAL/TO\",\"GURUPI/TO\",\"ITAGUARA/MG\",\"BAURU/SP\",\"JACIARA/MT\",\"MATO VERDE/MG\",\"AGUA CLARA/MS\",\"CARMO DA CACHOEIRA/MG\",\"SAO LUIS/MA\",\"APARECIDA DE GOIANIA/GO\",\"MONTEIRO/PB\",\"GUARAPARI/ES\",\"ROSARIO OESTE/MT\",\"PARATINGA/BA\",\"OSORIO/RS\",\"ITANHANDU/MG\",\"ALTO PARANA/PR\",\"COSTA RICA/MS\",\"TUPI PAULISTA/SP\",\"ARAUCARIA/PR\",\"CORRENTE/PI\",\"TANGARA/SC\",\"COXIM/MS\",\"ITAGI/BA\",\"MIRASSOL D'OESTE/MT\",\"SANTO ANTONIO DO AMPARO/MG\",\"JARAGUA/GO\",\"RIBAS DO RIO PARDO/MS\",\"RIACHAO DO JACUIPE/BA\",\"IUNA/ES\",\"VILHENA/RO\",\"SAO GABRIEL DO OESTE/MS\",\"BELO JARDIM/PE\",\"AGUA BRANCA/PI\",\"FREDERICO WESTPHALEN/RS\",\"BIGUACU/SC\",\"JI-PARANA/RO\",\"NILOPOLIS/RJ\",\"PORTO VELHO/RO\",\"BARRA/BA\",\"SANTA MARIA DE ITABIRA/MG\",\"SANTANA DO LIVRAMENTO/RS\",\"IBIA/MG\",\"PARAISO DO TOCANTINS/TO\",\"PALMITOS/SC\",\"ESPERA FELIZ/MG\",\"ITAUNA/MG\",\"ALTA FLORESTA/MT\",\"GOIATUBA/GO\",\"ACOPIARA/CE\",\"IMPERATRIZ/MA\",\"PIRIPIRI/PI\",\"SURUBIM/PE\",\"APARECIDA DO TABOADO/MS\",\"CICERO DANTAS/BA\",\"SAO JOSE DO BELMONTE/PE\",\"CAICO/RN\",\"CANTO DO BURITI/PI\",\"PIMENTA BUENO/RO\",\"SAO JOSE DO JACUIPE/BA\",\"CANINDE/CE\",\"CANDEIAS/MG\",\"CABACEIRAS DO PARAGUACU/BA\",\"ABELARDO LUZ/SC\",\"SAO JOAO DO IVAI/PR\",\"PARNAIBA/PI\",\"COLIDER/MT\",\"SERRA BRANCA/PB\",\"CENTRAL/BA\",\"CARUARU/PE\",\"BUENOPOLIS/MG\",\"SANTA CRUZ DO SUL/RS\",\"FRONTEIRA DOS VALES/MG\",\"PARAGUACU/MG\",\"FORMOSA DO RIO PRETO/BA\",\"FLORESTA/PE\",\"ALEGRE/ES\",\"CARPINA/PE\",\"PONTES E LACERDA/MT\",\"SALTO DO ITARARE/PR\",\"MONTE BELO/MG\",\"LIMOEIRO/PE\",\"ALFENAS/MG\",\"BOA ESPERANCA/MG\",\"CARMO DO RIO CLARO/MG\",\"TELEMACO BORBA/PR\",\"PESQUEIRA/PE\",\"SIQUEIRA CAMPOS/PR\",\"POCOS DE CALDAS/MG\",\"POCO FUNDO/MG\",\"SOLEDADE DE MINAS/MG\",\"MACHADO/MG\",\"SANTA RITA DO SAPUCAI/MG\",\"SAO JOAQUIM/SC\",\"SANTANA DA VARGEM/MG\",\"ALTEROSA/MG\",\"PAPANDUVA/SC\",\"GUARAMIRIM/SC\",\"CARMO DA MATA/MG\",\"ANDRADINA/SP\",\"PALMARES/PE\",\"IPORA/GO\",\"CAMPOS GERAIS/MG\",\"IRAI/RS\",\"CAMBUQUIRA/MG\",\"MUZAMBINHO/MG\",\"ITABERA/SP\",\"ITABIRA/MG\",\"CAMPANHA/MG\",\"ITAGUACU DA BAHIA/BA\",\"CAMPO MAIOR/PI\",\"ARIQUEMES/RO\",\"CAMPO DO MEIO/MG\",\"PATO BRANCO/PR\",\"CAMPESTRE/MG\",\"ITATIM/BA\",\"SAO THOME DAS LETRAS/MG\",\"GUARABIRA/PB\",\"SERRANIA/MG\",\"MONTE SANTO DE MINAS/MG\",\"SOMBRIO/SC\",\"MESSIAS/AL\",\"GUAXUPE/MG\",\"CACHOEIRAS DE MACACU/RJ\",\"AFOGADOS DA INGAZEIRA/PE\",\"BARRACAO/RS\",\"RIO LARGO/AL\",\"OURO BRANCO/MG\",\"TRES CORACOES/MG\",\"TRES DE MAIO/RS\",\"SERTANIA/PE\",\"ANDRADAS/MG\",\"SAO SEBASTIAO DO PARAISO/MG\",\"TRES PONTAS/MG\",\"TAPEJARA/PR\",\"ELOI MENDES/MG\",\"LAMBARI/MG\",\"CURIUVA/PR\",\"LAJEADO/RS\",\"SORRISO/MT\",\"COLINAS DO TOCANTINS/TO\",\"URUGUAIANA/RS\",\"CRISTINO CASTRO/PI\",\"CUPIRA/PE\",\"CUSTODIA/PE\",\"CRISTOPOLIS/BA\",\"CORONEL SAPUCAIA/MS\",\"PARAOPEBA/MG\",\"CONCEICAO DA APARECIDA/MG\",\"PIRANGUINHO/MG\",\"LIMOEIRO DO NORTE/CE\",\"DOIS VIZINHOS/PR\",\"ALTO TAQUARI/MT\",\"PANELAS/PE\",\"WAGNER/BA\",\"BARRO ALTO/BA\",\"LUCAS DO RIO VERDE/MT\",\"RUSSAS/CE\",\"CACHOEIRA DO SUL/RS\",\"CARMO DE MINAS/MG\",\"CACERES/MT\",\"LAJEDO DO TABOCAL/BA\",\"DOM ELISEU/PA\",\"SAO LUIS DE MONTES BELOS/GO\",\"MILAGRES/CE\",\"BREJO SANTO/CE\",\"VITORIA DE SANTO ANTAO/PE\",\"CRUZ/CE\",\"GETULIO VARGAS/RS\",\"CABROBO/PE\",\"VIRGINOPOLIS/MG\",\"VILA VELHA/ES\",\"GARIBALDI/RS\",\"APORA/BA\",\"JATI/CE\",\"SAO JOSE DOS QUATRO MARCOS/MT\",\"FRONTEIRA/MG\",\"SAO JOSE DOS CAMPOS/SP\",\"BELEM DE SAO FRANCISCO/PE\",\"ARAPUTANGA/MT\",\"HELIODORA/MG\",\"CONCORDIA/SC\",\"LEBON REGIS/SC\",\"PRESIDENTE PRUDENTE/SP\",\"CORRENTINA/BA\",\"CAMPO VERDE/MT\",\"ITABAIANA/PB\",\"SARANDI/RS\",\"ACAILANDIA/MA\",\"RIACHAO DAS NEVES/BA\",\"MIRACEMA/RJ\",\"ITAGIMIRIM/BA\",\"LINDOIA DO SUL/SC\",\"ALVORADA/TO\",\"ITAMOGI/MG\",\"AREADO/MG\",\"MUQUI/ES\",\"INHAPIM/MG\",\"OEIRAS/PI\",\"IBITITA/BA\",\"CASSILANDIA/MS\",\"LAPA/PR\",\"MORPARA/BA\",\"IBIPEBA/BA\",\"ACUCENA/MG\",\"CRISTINA/MG\",\"CRISTALANDIA DO PIAUI/PI\",\"CANARANA/BA\",\"SAO CARLOS/SC\",\"IGUATAMA/MG\",\"BORDA DA MATA/MG\",\"SOUTO SOARES/BA\",\"CANINDE DE SAO FRANCISCO/SE\",\"UTINGA/BA\",\"BENTO GONCALVES/RS\",\"GUARAI/TO\",\"FRANCISCO BELTRAO/PR\",\"ARAGARCAS/GO\",\"FLORES/PE\",\"PIRANHAS/GO\",\"FERVEDOURO/MG\",\"BOM JESUS/SC\",\"FATIMA/TO\",\"SAO JOAO DO PIAUI/PI\",\"URUCUCA/BA\",\"ALTO GARCAS/MT\",\"VARZEA DA ROCA/BA\",\"ALIANCA DO TOCANTINS/TO\",\"CHAPADAO DO SUL/MS\",\"BOM JESUS DE GOIAS/GO\",\"NONOAI/RS\",\"NOVA ERECHIM/SC\",\"ELISEU MARTINS/PI\",\"PIRENOPOLIS/GO\",\"MACAJUBA/BA\",\"ANASTACIO/MS\",\"BOM JESUS/PI\",\"MONTE ALEGRE DE MINAS/MG\",\"SANTA INES/MA\",\"JESUANIA/MG\"],\"xaxis\":\"x\",\"y\":[35,33,33,32,31,30,29,28,26,24,23,21,21,21,21,21,20,19,19,19,19,19,18,17,17,17,17,17,17,17,16,16,16,16,16,16,16,16,16,16,16,16,15,15,15,15,15,15,15,15,15,15,15,15,15,15,15,15,15,15,14,14,14,14,14,14,14,14,14,14,14,14,14,14,14,13,13,13,13,13,13,13,13,13,13,13,13,13,13,13,13,13,13,13,13,13,13,13,12,12,12,12,12,12,12,12,12,12,12,12,12,12,11,11,11,11,11,11,11,11,11,11,11,11,11,11,11,11,11,11,11,10,10,10,10,10,10,10,10,10,10,10,10,10,10,10,10,10,10,10,10,10,10,10,10,9,9,9,9,9,9,9,9,9,9,9,9,9,9,9,9,9,9,9,9,9,9,9,9,9,9,9,9,9,9,8,8,8,8,8,8,8,8,8,8,8,8,8,8,8,8,8,8,8,8,8,8,8,8,8,8,8,8,8,8,8,8,8,8,8,8,7,7,7,7,7,7,7,7,7,7,7,7,7,7,7,7,7,7,7,7,7,7,7,7,7,7,7,7,7,7,7,7,7,7,7,7,7,7,7,7,7,7,7,7,7,7,7,7,7,7,7,7,7,7,7,7,7,6,6,6,6,6,6,6,6,6,6,6,6,6,6,6,6,6,6,6,6,6,6,6,6,6,6,6,6,6,6,6,6,6,6,6,6,6,6,6,6,6,6,6,6,6,6,6,6,6,6,6,6,6,6,6,6,6,6,5,5,5,5,5,5,5,5,5,5,5,5,5,5,5,5,5,5,5,5,5,5,5,5,5,5,5,5,5,5,5,5,5,5,5,5,5,5,5,5,5,5,5,5,5,5,5,4,4,4,4,4,4,4,4,4,4,4,4,4,4,4,4,4,4,4,4,4,4,4,4,4,4,4,4,4,4,4,4,4,4,4,4,4,4,4,4,4,4,4,4,4,4,4,4,4,4,4,4,4,4,4,4,4,4,4,3,3,3,3,3,3,3,3,3,3,3,3,3,3,3,3,3,3,3,3,3,3,3,3,3,3,3,3,3,3,3,3,3,3,3,3,3,3,3,3,3,3,3,3,3,3,3,3,3,3,3,3,3,3,3,3,3,3,2,2,2,2,2,2,2,2,2,2,2,2,2,2,2,2,2,2,2,2,2,2,2,2,2,2,2,2,2,2,2,2,2,2,2,2,2,2,2,2,2,2,2,2,2,2,2,2,2,2,2,2,2,2,2,2,2,2,2,2,2,2,2,2,2,2,2,2,2,2,2,2,2,2,2,2,2,2,2,2,2,2,1,1,1,1,1,1,1,1,1,1,1,1,1,1,1,1,1,1,1,1,1,1,1,1,1,1,1,1,1,1,1,1,1,1,1,1,1,1,1,1,1,1,1,1,1,1,1,1,1,1,1,1,1,1,1,1,1,1,1,1,1,1,1,1,1,1,1,1,1,1,1,1,1,1,1,1,1,1,1,1,1,1,1,1,1,1,1],\"yaxis\":\"y\",\"type\":\"bar\"}],                        {\"template\":{\"data\":{\"barpolar\":[{\"marker\":{\"line\":{\"color\":\"white\",\"width\":0.5},\"pattern\":{\"fillmode\":\"overlay\",\"size\":10,\"solidity\":0.2}},\"type\":\"barpolar\"}],\"bar\":[{\"error_x\":{\"color\":\"#2a3f5f\"},\"error_y\":{\"color\":\"#2a3f5f\"},\"marker\":{\"line\":{\"color\":\"white\",\"width\":0.5},\"pattern\":{\"fillmode\":\"overlay\",\"size\":10,\"solidity\":0.2}},\"type\":\"bar\"}],\"carpet\":[{\"aaxis\":{\"endlinecolor\":\"#2a3f5f\",\"gridcolor\":\"#C8D4E3\",\"linecolor\":\"#C8D4E3\",\"minorgridcolor\":\"#C8D4E3\",\"startlinecolor\":\"#2a3f5f\"},\"baxis\":{\"endlinecolor\":\"#2a3f5f\",\"gridcolor\":\"#C8D4E3\",\"linecolor\":\"#C8D4E3\",\"minorgridcolor\":\"#C8D4E3\",\"startlinecolor\":\"#2a3f5f\"},\"type\":\"carpet\"}],\"choropleth\":[{\"colorbar\":{\"outlinewidth\":0,\"ticks\":\"\"},\"type\":\"choropleth\"}],\"contourcarpet\":[{\"colorbar\":{\"outlinewidth\":0,\"ticks\":\"\"},\"type\":\"contourcarpet\"}],\"contour\":[{\"colorbar\":{\"outlinewidth\":0,\"ticks\":\"\"},\"colorscale\":[[0.0,\"#0d0887\"],[0.1111111111111111,\"#46039f\"],[0.2222222222222222,\"#7201a8\"],[0.3333333333333333,\"#9c179e\"],[0.4444444444444444,\"#bd3786\"],[0.5555555555555556,\"#d8576b\"],[0.6666666666666666,\"#ed7953\"],[0.7777777777777778,\"#fb9f3a\"],[0.8888888888888888,\"#fdca26\"],[1.0,\"#f0f921\"]],\"type\":\"contour\"}],\"heatmapgl\":[{\"colorbar\":{\"outlinewidth\":0,\"ticks\":\"\"},\"colorscale\":[[0.0,\"#0d0887\"],[0.1111111111111111,\"#46039f\"],[0.2222222222222222,\"#7201a8\"],[0.3333333333333333,\"#9c179e\"],[0.4444444444444444,\"#bd3786\"],[0.5555555555555556,\"#d8576b\"],[0.6666666666666666,\"#ed7953\"],[0.7777777777777778,\"#fb9f3a\"],[0.8888888888888888,\"#fdca26\"],[1.0,\"#f0f921\"]],\"type\":\"heatmapgl\"}],\"heatmap\":[{\"colorbar\":{\"outlinewidth\":0,\"ticks\":\"\"},\"colorscale\":[[0.0,\"#0d0887\"],[0.1111111111111111,\"#46039f\"],[0.2222222222222222,\"#7201a8\"],[0.3333333333333333,\"#9c179e\"],[0.4444444444444444,\"#bd3786\"],[0.5555555555555556,\"#d8576b\"],[0.6666666666666666,\"#ed7953\"],[0.7777777777777778,\"#fb9f3a\"],[0.8888888888888888,\"#fdca26\"],[1.0,\"#f0f921\"]],\"type\":\"heatmap\"}],\"histogram2dcontour\":[{\"colorbar\":{\"outlinewidth\":0,\"ticks\":\"\"},\"colorscale\":[[0.0,\"#0d0887\"],[0.1111111111111111,\"#46039f\"],[0.2222222222222222,\"#7201a8\"],[0.3333333333333333,\"#9c179e\"],[0.4444444444444444,\"#bd3786\"],[0.5555555555555556,\"#d8576b\"],[0.6666666666666666,\"#ed7953\"],[0.7777777777777778,\"#fb9f3a\"],[0.8888888888888888,\"#fdca26\"],[1.0,\"#f0f921\"]],\"type\":\"histogram2dcontour\"}],\"histogram2d\":[{\"colorbar\":{\"outlinewidth\":0,\"ticks\":\"\"},\"colorscale\":[[0.0,\"#0d0887\"],[0.1111111111111111,\"#46039f\"],[0.2222222222222222,\"#7201a8\"],[0.3333333333333333,\"#9c179e\"],[0.4444444444444444,\"#bd3786\"],[0.5555555555555556,\"#d8576b\"],[0.6666666666666666,\"#ed7953\"],[0.7777777777777778,\"#fb9f3a\"],[0.8888888888888888,\"#fdca26\"],[1.0,\"#f0f921\"]],\"type\":\"histogram2d\"}],\"histogram\":[{\"marker\":{\"pattern\":{\"fillmode\":\"overlay\",\"size\":10,\"solidity\":0.2}},\"type\":\"histogram\"}],\"mesh3d\":[{\"colorbar\":{\"outlinewidth\":0,\"ticks\":\"\"},\"type\":\"mesh3d\"}],\"parcoords\":[{\"line\":{\"colorbar\":{\"outlinewidth\":0,\"ticks\":\"\"}},\"type\":\"parcoords\"}],\"pie\":[{\"automargin\":true,\"type\":\"pie\"}],\"scatter3d\":[{\"line\":{\"colorbar\":{\"outlinewidth\":0,\"ticks\":\"\"}},\"marker\":{\"colorbar\":{\"outlinewidth\":0,\"ticks\":\"\"}},\"type\":\"scatter3d\"}],\"scattercarpet\":[{\"marker\":{\"colorbar\":{\"outlinewidth\":0,\"ticks\":\"\"}},\"type\":\"scattercarpet\"}],\"scattergeo\":[{\"marker\":{\"colorbar\":{\"outlinewidth\":0,\"ticks\":\"\"}},\"type\":\"scattergeo\"}],\"scattergl\":[{\"marker\":{\"colorbar\":{\"outlinewidth\":0,\"ticks\":\"\"}},\"type\":\"scattergl\"}],\"scattermapbox\":[{\"marker\":{\"colorbar\":{\"outlinewidth\":0,\"ticks\":\"\"}},\"type\":\"scattermapbox\"}],\"scatterpolargl\":[{\"marker\":{\"colorbar\":{\"outlinewidth\":0,\"ticks\":\"\"}},\"type\":\"scatterpolargl\"}],\"scatterpolar\":[{\"marker\":{\"colorbar\":{\"outlinewidth\":0,\"ticks\":\"\"}},\"type\":\"scatterpolar\"}],\"scatter\":[{\"fillpattern\":{\"fillmode\":\"overlay\",\"size\":10,\"solidity\":0.2},\"type\":\"scatter\"}],\"scatterternary\":[{\"marker\":{\"colorbar\":{\"outlinewidth\":0,\"ticks\":\"\"}},\"type\":\"scatterternary\"}],\"surface\":[{\"colorbar\":{\"outlinewidth\":0,\"ticks\":\"\"},\"colorscale\":[[0.0,\"#0d0887\"],[0.1111111111111111,\"#46039f\"],[0.2222222222222222,\"#7201a8\"],[0.3333333333333333,\"#9c179e\"],[0.4444444444444444,\"#bd3786\"],[0.5555555555555556,\"#d8576b\"],[0.6666666666666666,\"#ed7953\"],[0.7777777777777778,\"#fb9f3a\"],[0.8888888888888888,\"#fdca26\"],[1.0,\"#f0f921\"]],\"type\":\"surface\"}],\"table\":[{\"cells\":{\"fill\":{\"color\":\"#EBF0F8\"},\"line\":{\"color\":\"white\"}},\"header\":{\"fill\":{\"color\":\"#C8D4E3\"},\"line\":{\"color\":\"white\"}},\"type\":\"table\"}]},\"layout\":{\"annotationdefaults\":{\"arrowcolor\":\"#2a3f5f\",\"arrowhead\":0,\"arrowwidth\":1},\"autotypenumbers\":\"strict\",\"coloraxis\":{\"colorbar\":{\"outlinewidth\":0,\"ticks\":\"\"}},\"colorscale\":{\"diverging\":[[0,\"#8e0152\"],[0.1,\"#c51b7d\"],[0.2,\"#de77ae\"],[0.3,\"#f1b6da\"],[0.4,\"#fde0ef\"],[0.5,\"#f7f7f7\"],[0.6,\"#e6f5d0\"],[0.7,\"#b8e186\"],[0.8,\"#7fbc41\"],[0.9,\"#4d9221\"],[1,\"#276419\"]],\"sequential\":[[0.0,\"#0d0887\"],[0.1111111111111111,\"#46039f\"],[0.2222222222222222,\"#7201a8\"],[0.3333333333333333,\"#9c179e\"],[0.4444444444444444,\"#bd3786\"],[0.5555555555555556,\"#d8576b\"],[0.6666666666666666,\"#ed7953\"],[0.7777777777777778,\"#fb9f3a\"],[0.8888888888888888,\"#fdca26\"],[1.0,\"#f0f921\"]],\"sequentialminus\":[[0.0,\"#0d0887\"],[0.1111111111111111,\"#46039f\"],[0.2222222222222222,\"#7201a8\"],[0.3333333333333333,\"#9c179e\"],[0.4444444444444444,\"#bd3786\"],[0.5555555555555556,\"#d8576b\"],[0.6666666666666666,\"#ed7953\"],[0.7777777777777778,\"#fb9f3a\"],[0.8888888888888888,\"#fdca26\"],[1.0,\"#f0f921\"]]},\"colorway\":[\"#636efa\",\"#EF553B\",\"#00cc96\",\"#ab63fa\",\"#FFA15A\",\"#19d3f3\",\"#FF6692\",\"#B6E880\",\"#FF97FF\",\"#FECB52\"],\"font\":{\"color\":\"#2a3f5f\"},\"geo\":{\"bgcolor\":\"white\",\"lakecolor\":\"white\",\"landcolor\":\"white\",\"showlakes\":true,\"showland\":true,\"subunitcolor\":\"#C8D4E3\"},\"hoverlabel\":{\"align\":\"left\"},\"hovermode\":\"closest\",\"mapbox\":{\"style\":\"light\"},\"paper_bgcolor\":\"white\",\"plot_bgcolor\":\"white\",\"polar\":{\"angularaxis\":{\"gridcolor\":\"#EBF0F8\",\"linecolor\":\"#EBF0F8\",\"ticks\":\"\"},\"bgcolor\":\"white\",\"radialaxis\":{\"gridcolor\":\"#EBF0F8\",\"linecolor\":\"#EBF0F8\",\"ticks\":\"\"}},\"scene\":{\"xaxis\":{\"backgroundcolor\":\"white\",\"gridcolor\":\"#DFE8F3\",\"gridwidth\":2,\"linecolor\":\"#EBF0F8\",\"showbackground\":true,\"ticks\":\"\",\"zerolinecolor\":\"#EBF0F8\"},\"yaxis\":{\"backgroundcolor\":\"white\",\"gridcolor\":\"#DFE8F3\",\"gridwidth\":2,\"linecolor\":\"#EBF0F8\",\"showbackground\":true,\"ticks\":\"\",\"zerolinecolor\":\"#EBF0F8\"},\"zaxis\":{\"backgroundcolor\":\"white\",\"gridcolor\":\"#DFE8F3\",\"gridwidth\":2,\"linecolor\":\"#EBF0F8\",\"showbackground\":true,\"ticks\":\"\",\"zerolinecolor\":\"#EBF0F8\"}},\"shapedefaults\":{\"line\":{\"color\":\"#2a3f5f\"}},\"ternary\":{\"aaxis\":{\"gridcolor\":\"#DFE8F3\",\"linecolor\":\"#A2B1C6\",\"ticks\":\"\"},\"baxis\":{\"gridcolor\":\"#DFE8F3\",\"linecolor\":\"#A2B1C6\",\"ticks\":\"\"},\"bgcolor\":\"white\",\"caxis\":{\"gridcolor\":\"#DFE8F3\",\"linecolor\":\"#A2B1C6\",\"ticks\":\"\"}},\"title\":{\"x\":0.05},\"xaxis\":{\"automargin\":true,\"gridcolor\":\"#EBF0F8\",\"linecolor\":\"#EBF0F8\",\"ticks\":\"\",\"title\":{\"standoff\":15},\"zerolinecolor\":\"#EBF0F8\",\"zerolinewidth\":2},\"yaxis\":{\"automargin\":true,\"gridcolor\":\"#EBF0F8\",\"linecolor\":\"#EBF0F8\",\"ticks\":\"\",\"title\":{\"standoff\":15},\"zerolinecolor\":\"#EBF0F8\",\"zerolinewidth\":2}}},\"xaxis\":{\"anchor\":\"y\",\"domain\":[0.0,1.0],\"title\":{\"text\":\"ponto_destino_viagem\"}},\"yaxis\":{\"anchor\":\"x\",\"domain\":[0.0,1.0],\"title\":{\"text\":\"N\\u00b0 de bilhetes\"}},\"legend\":{\"title\":{\"text\":\"Cidade de origem\"},\"tracegroupgap\":0},\"title\":{\"text\":\"Rotas saindo de S\\u00e3o Paulo em ABR/2022\"},\"barmode\":\"relative\"},                        {\"responsive\": true}                    ).then(function(){\n",
       "                            \n",
       "var gd = document.getElementById('a8ec1c3c-07bb-4e16-8a84-9bc633d78341');\n",
       "var x = new MutationObserver(function (mutations, observer) {{\n",
       "        var display = window.getComputedStyle(gd).display;\n",
       "        if (!display || display === 'none') {{\n",
       "            console.log([gd, 'removed!']);\n",
       "            Plotly.purge(gd);\n",
       "            observer.disconnect();\n",
       "        }}\n",
       "}});\n",
       "\n",
       "// Listen for the removal of the full notebook cells\n",
       "var notebookContainer = gd.closest('#notebook-container');\n",
       "if (notebookContainer) {{\n",
       "    x.observe(notebookContainer, {childList: true});\n",
       "}}\n",
       "\n",
       "// Listen for the clearing of the current output cell\n",
       "var outputEl = gd.closest('.output');\n",
       "if (outputEl) {{\n",
       "    x.observe(outputEl, {childList: true});\n",
       "}}\n",
       "\n",
       "                        })                };                });            </script>        </div>"
      ]
     },
     "metadata": {},
     "output_type": "display_data"
    }
   ],
   "source": [
    "rotas = pd.crosstab(BilhetesABR['ponto_destino_viagem'],BilhetesABR['ponto_origem_viagem'])\n",
    "rotasSP=rotas.loc[:,[\"SAO PAULO/SP\"]].sort_values(by=['SAO PAULO/SP'], ascending = False)\n",
    "rotasSP = rotasSP.loc[rotasSP['SAO PAULO/SP'] != 0] # Retirando as cidades que não possuem bilhetes\n",
    "px.bar(rotasSP, title='Rotas saindo de São Paulo em ABR/2022',\n",
    "       labels={'value':'N° de bilhetes', 'ponto_origem_viagem': 'Cidade de origem'},\n",
    "       template='plotly_white')"
   ]
  },
  {
   "cell_type": "markdown",
   "id": "28c73b2a",
   "metadata": {},
   "source": [
    "As 10 cidades que os passageiros de São Paulo mais viajam em abril são:"
   ]
  },
  {
   "cell_type": "code",
   "execution_count": 74,
   "id": "c5bb36fb",
   "metadata": {},
   "outputs": [
    {
     "data": {
      "text/html": [
       "<div>\n",
       "<style scoped>\n",
       "    .dataframe tbody tr th:only-of-type {\n",
       "        vertical-align: middle;\n",
       "    }\n",
       "\n",
       "    .dataframe tbody tr th {\n",
       "        vertical-align: top;\n",
       "    }\n",
       "\n",
       "    .dataframe thead th {\n",
       "        text-align: right;\n",
       "    }\n",
       "</style>\n",
       "<table border=\"1\" class=\"dataframe\">\n",
       "  <thead>\n",
       "    <tr style=\"text-align: right;\">\n",
       "      <th>ponto_origem_viagem</th>\n",
       "      <th>SAO PAULO/SP</th>\n",
       "    </tr>\n",
       "    <tr>\n",
       "      <th>ponto_destino_viagem</th>\n",
       "      <th></th>\n",
       "    </tr>\n",
       "  </thead>\n",
       "  <tbody>\n",
       "    <tr>\n",
       "      <th>CURITIBA/PR</th>\n",
       "      <td>35</td>\n",
       "    </tr>\n",
       "    <tr>\n",
       "      <th>LONDRINA/PR</th>\n",
       "      <td>33</td>\n",
       "    </tr>\n",
       "    <tr>\n",
       "      <th>RIO DE JANEIRO/RJ</th>\n",
       "      <td>33</td>\n",
       "    </tr>\n",
       "    <tr>\n",
       "      <th>BELO HORIZONTE/MG</th>\n",
       "      <td>32</td>\n",
       "    </tr>\n",
       "    <tr>\n",
       "      <th>MARINGA/PR</th>\n",
       "      <td>31</td>\n",
       "    </tr>\n",
       "    <tr>\n",
       "      <th>VITORIA DA CONQUISTA/BA</th>\n",
       "      <td>30</td>\n",
       "    </tr>\n",
       "    <tr>\n",
       "      <th>BRASILIA/DF</th>\n",
       "      <td>29</td>\n",
       "    </tr>\n",
       "    <tr>\n",
       "      <th>GOIANIA/GO</th>\n",
       "      <td>28</td>\n",
       "    </tr>\n",
       "    <tr>\n",
       "      <th>FOZ DO IGUACU/PR</th>\n",
       "      <td>26</td>\n",
       "    </tr>\n",
       "    <tr>\n",
       "      <th>UBERLANDIA/MG</th>\n",
       "      <td>24</td>\n",
       "    </tr>\n",
       "  </tbody>\n",
       "</table>\n",
       "</div>"
      ],
      "text/plain": [
       "ponto_origem_viagem      SAO PAULO/SP\n",
       "ponto_destino_viagem                 \n",
       "CURITIBA/PR                        35\n",
       "LONDRINA/PR                        33\n",
       "RIO DE JANEIRO/RJ                  33\n",
       "BELO HORIZONTE/MG                  32\n",
       "MARINGA/PR                         31\n",
       "VITORIA DA CONQUISTA/BA            30\n",
       "BRASILIA/DF                        29\n",
       "GOIANIA/GO                         28\n",
       "FOZ DO IGUACU/PR                   26\n",
       "UBERLANDIA/MG                      24"
      ]
     },
     "execution_count": 74,
     "metadata": {},
     "output_type": "execute_result"
    }
   ],
   "source": [
    "rotasSP.head(10)"
   ]
  }
 ],
 "metadata": {
  "kernelspec": {
   "display_name": "Python 3 (ipykernel)",
   "language": "python",
   "name": "python3"
  },
  "language_info": {
   "codemirror_mode": {
    "name": "ipython",
    "version": 3
   },
   "file_extension": ".py",
   "mimetype": "text/x-python",
   "name": "python",
   "nbconvert_exporter": "python",
   "pygments_lexer": "ipython3",
   "version": "3.9.7"
  }
 },
 "nbformat": 4,
 "nbformat_minor": 5
}
