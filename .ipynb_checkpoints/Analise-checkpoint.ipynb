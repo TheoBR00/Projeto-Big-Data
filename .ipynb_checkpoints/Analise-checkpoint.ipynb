{
 "cells": [
  {
   "cell_type": "code",
   "execution_count": 26,
   "id": "0f98812b",
   "metadata": {},
   "outputs": [
    {
     "name": "stdout",
     "output_type": "stream",
     "text": [
      "File Name                                             Modified             Size\n",
      "venda_passagem_01_2022.csv                     2022-10-22 16:20:22     17167260\n",
      "venda_passagem_02_2022.csv                     2022-10-22 16:19:24     16620848\n",
      "venda_passagem_03_2022.csv                     2022-10-22 16:18:58     17019407\n",
      "venda_passagem_04_2022.csv                     2022-10-22 16:18:12      8500532\n",
      "venda_passagem_05_2022.csv                     2022-10-22 16:17:38     16775582\n",
      "venda_passagem_06_2022.csv                     2022-10-22 16:15:48     16292509\n",
      "venda_passagem_07_2022.csv                     2022-10-22 16:00:36     19957908\n",
      "venda_passagem_09_2021.csv                     2022-10-22 16:22:58     15840935\n",
      "venda_passagem_09_2022.csv                     2022-10-22 15:54:58     17361183\n",
      "venda_passagem_10_2021.csv                     2022-10-22 16:22:22     16216048\n",
      "venda_passagem_11_2021.csv                     2022-10-22 16:21:48     16376100\n",
      "venda_passagem_12_2021.csv                     2022-10-22 16:21:10     19642786\n"
     ]
    }
   ],
   "source": [
    "from zipfile import ZipFile\n",
    "import pandas as pd\n",
    "import os\n",
    "  \n",
    "# Definindo o nome do arquivo de análise e seu caminho.\n",
    "file_name = \"Bilhetes.zip\"\n",
    "path = \"C:/Users/danie/Desktop/Estudo/Eletivas/Big Data para dados públicos/Projeto-Big-Data/\"\n",
    "    \n",
    "# Abrindo a arquivo zip com as informações de todos os meses\n",
    "with ZipFile(os.path.join(path+file_name), 'r') as zip:\n",
    "    # Printando o nome de todos os arquivo dentro do zip\n",
    "    zip.printdir()  \n",
    "    # Extraindo os arquivos para o diretório de trabalho\n",
    "    zip.extractall()"
   ]
  },
  {
   "cell_type": "code",
   "execution_count": 27,
   "id": "54100ff6",
   "metadata": {},
   "outputs": [
    {
     "name": "stdout",
     "output_type": "stream",
     "text": [
      "O arquivo de análise contém: '132157' linhas!\n",
      "O arquivo de análise contém: '260331' linhas!\n",
      "O arquivo de análise contém: '391086' linhas!\n",
      "O arquivo de análise contém: '457984' linhas!\n",
      "O arquivo de análise contém: '586954' linhas!\n",
      "O arquivo de análise contém: '713771' linhas!\n",
      "O arquivo de análise contém: '867262' linhas!\n",
      "O arquivo de análise contém: '988633' linhas!\n",
      "O arquivo de análise contém: '1124196' linhas!\n",
      "O arquivo de análise contém: '1248443' linhas!\n",
      "O arquivo de análise contém: '1374418' linhas!\n",
      "O arquivo de análise contém: '1527032' linhas!\n"
     ]
    }
   ],
   "source": [
    "# Criando o Data Frame de análise em branco e depois fazendo a inserção das informações de todos\n",
    "# os meses\n",
    "bilhetes = pd.DataFrame()\n",
    "for file in zip.namelist():\n",
    "    bilheteMes = pd.read_csv(file, sep=\";\", encoding=\"latin-1\")\n",
    "    try:\n",
    "        bilhetes = pd.concat([bilhetes, bilheteMes], ignore_index=True)\n",
    "        # Mostrando a evolução do tamanho da tabela \n",
    "        print(f\"O arquivo de análise contém: '{len(bilhetes)}' linhas!\") \n",
    "    except error as Exception:\n",
    "        print(error)"
   ]
  },
  {
   "cell_type": "code",
   "execution_count": 39,
   "id": "c8ae96bc",
   "metadata": {},
   "outputs": [
    {
     "name": "stdout",
     "output_type": "stream",
     "text": [
      "O arquivo contém '0' linhas com NaN!\n"
     ]
    }
   ],
   "source": [
    "# Limpando linhas com valores NaN\n",
    "if len(bilhetes[bilhetes.isna().any(axis=1)])!=0:\n",
    "    print(f\"O arquivo contém '{len(bilhetes[bilhetes.isna().any(axis=1)])}' linhas com NaN que\"+\n",
    "          \"devem ser apagadas\")\n",
    "    bilhetes.dropna(inplace=True)\n",
    "print(f\"O arquivo contém '{len(bilhetes[bilhetes.isna().any(axis=1)])}' linhas com NaN!\")"
   ]
  },
  {
   "cell_type": "code",
   "execution_count": 41,
   "id": "c034e78d",
   "metadata": {},
   "outputs": [
    {
     "data": {
      "text/html": [
       "<div>\n",
       "<style scoped>\n",
       "    .dataframe tbody tr th:only-of-type {\n",
       "        vertical-align: middle;\n",
       "    }\n",
       "\n",
       "    .dataframe tbody tr th {\n",
       "        vertical-align: top;\n",
       "    }\n",
       "\n",
       "    .dataframe thead th {\n",
       "        text-align: right;\n",
       "    }\n",
       "</style>\n",
       "<table border=\"1\" class=\"dataframe\">\n",
       "  <thead>\n",
       "    <tr style=\"text-align: right;\">\n",
       "      <th></th>\n",
       "      <th>mes_emissao_bilhete</th>\n",
       "      <th>mes_viagem</th>\n",
       "      <th>ponto_origem_viagem</th>\n",
       "      <th>ponto_destino_viagem</th>\n",
       "      <th>tipo_servico</th>\n",
       "      <th>tipo_gratuidade</th>\n",
       "      <th>media_valor_total</th>\n",
       "      <th>dp_valor_total</th>\n",
       "      <th>quantidade_bilhetes</th>\n",
       "    </tr>\n",
       "  </thead>\n",
       "  <tbody>\n",
       "    <tr>\n",
       "      <th>0</th>\n",
       "      <td>01/2022</td>\n",
       "      <td>01/2022</td>\n",
       "      <td>BELEM/PA</td>\n",
       "      <td>MARACACUME/MA</td>\n",
       "      <td>Convencional com sanitário</td>\n",
       "      <td>Tarifa Normal - sem desconto</td>\n",
       "      <td>80.47</td>\n",
       "      <td>6.54</td>\n",
       "      <td>16</td>\n",
       "    </tr>\n",
       "    <tr>\n",
       "      <th>1</th>\n",
       "      <td>01/2022</td>\n",
       "      <td>02/2022</td>\n",
       "      <td>CAJAZEIRAS/PB</td>\n",
       "      <td>JUAZEIRO DO NORTE/CE</td>\n",
       "      <td>Convencional com sanitário</td>\n",
       "      <td>Tarifa Promocional - Parágrafo 3º, art. 27 do ...</td>\n",
       "      <td>44.16</td>\n",
       "      <td>0.37</td>\n",
       "      <td>6</td>\n",
       "    </tr>\n",
       "    <tr>\n",
       "      <th>2</th>\n",
       "      <td>01/2022</td>\n",
       "      <td>01/2022</td>\n",
       "      <td>CUIABA/MT</td>\n",
       "      <td>NAVIRAI/MS</td>\n",
       "      <td>Executivo</td>\n",
       "      <td>Gratuidade de Criança - Inciso XVII, art. 29 d...</td>\n",
       "      <td>0.00</td>\n",
       "      <td>0.00</td>\n",
       "      <td>3</td>\n",
       "    </tr>\n",
       "    <tr>\n",
       "      <th>3</th>\n",
       "      <td>01/2022</td>\n",
       "      <td>01/2022</td>\n",
       "      <td>TIMOTEO/MG</td>\n",
       "      <td>SAO PAULO/SP</td>\n",
       "      <td>Convencional com sanitário</td>\n",
       "      <td>Tarifa Promocional - Parágrafo 3º, art. 27 do ...</td>\n",
       "      <td>0.00</td>\n",
       "      <td>0.00</td>\n",
       "      <td>5</td>\n",
       "    </tr>\n",
       "    <tr>\n",
       "      <th>4</th>\n",
       "      <td>01/2022</td>\n",
       "      <td>01/2022</td>\n",
       "      <td>MOJI-MIRIM/SP</td>\n",
       "      <td>POUSO ALEGRE/MG</td>\n",
       "      <td>Executivo</td>\n",
       "      <td>Tarifa Normal - sem desconto</td>\n",
       "      <td>39.36</td>\n",
       "      <td>1.74</td>\n",
       "      <td>11</td>\n",
       "    </tr>\n",
       "  </tbody>\n",
       "</table>\n",
       "</div>"
      ],
      "text/plain": [
       "  mes_emissao_bilhete mes_viagem ponto_origem_viagem  ponto_destino_viagem  \\\n",
       "0             01/2022    01/2022            BELEM/PA         MARACACUME/MA   \n",
       "1             01/2022    02/2022       CAJAZEIRAS/PB  JUAZEIRO DO NORTE/CE   \n",
       "2             01/2022    01/2022           CUIABA/MT            NAVIRAI/MS   \n",
       "3             01/2022    01/2022          TIMOTEO/MG          SAO PAULO/SP   \n",
       "4             01/2022    01/2022       MOJI-MIRIM/SP       POUSO ALEGRE/MG   \n",
       "\n",
       "                 tipo_servico  \\\n",
       "0  Convencional com sanitário   \n",
       "1  Convencional com sanitário   \n",
       "2                   Executivo   \n",
       "3  Convencional com sanitário   \n",
       "4                   Executivo   \n",
       "\n",
       "                                     tipo_gratuidade  media_valor_total  \\\n",
       "0                       Tarifa Normal - sem desconto              80.47   \n",
       "1  Tarifa Promocional - Parágrafo 3º, art. 27 do ...              44.16   \n",
       "2  Gratuidade de Criança - Inciso XVII, art. 29 d...               0.00   \n",
       "3  Tarifa Promocional - Parágrafo 3º, art. 27 do ...               0.00   \n",
       "4                       Tarifa Normal - sem desconto              39.36   \n",
       "\n",
       "   dp_valor_total  quantidade_bilhetes  \n",
       "0            6.54                   16  \n",
       "1            0.37                    6  \n",
       "2            0.00                    3  \n",
       "3            0.00                    5  \n",
       "4            1.74                   11  "
      ]
     },
     "execution_count": 41,
     "metadata": {},
     "output_type": "execute_result"
    }
   ],
   "source": [
    "bilhetes.head()"
   ]
  },
  {
   "cell_type": "code",
   "execution_count": null,
   "id": "dad3cf3d",
   "metadata": {},
   "outputs": [],
   "source": []
  }
 ],
 "metadata": {
  "kernelspec": {
   "display_name": "Python 3 (ipykernel)",
   "language": "python",
   "name": "python3"
  },
  "language_info": {
   "codemirror_mode": {
    "name": "ipython",
    "version": 3
   },
   "file_extension": ".py",
   "mimetype": "text/x-python",
   "name": "python",
   "nbconvert_exporter": "python",
   "pygments_lexer": "ipython3",
   "version": "3.9.7"
  }
 },
 "nbformat": 4,
 "nbformat_minor": 5
}
